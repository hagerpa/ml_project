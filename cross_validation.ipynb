{
 "cells": [
  {
   "cell_type": "code",
   "execution_count": 1,
   "metadata": {
    "collapsed": false
   },
   "outputs": [],
   "source": [
    "from sklearn.model_selection import StratifiedKFold, StratifiedShuffleSplit\n",
    "from sklearn.naive_bayes import MultinomialNB\n",
    "from sklearn.linear_model import LogisticRegression\n",
    "from sklearn.ensemble import RandomForestClassifier\n",
    "from sklearn.metrics import f1_score as f1_scorer\n",
    "from sklearn.metrics import confusion_matrix\n",
    "import corpus as corpus_class\n",
    "from filters import std_filters\n",
    "from feature_extractors import tfidf, multinomial_model\n",
    "import categories\n",
    "import numpy as np\n",
    "from scipy import sparse\n",
    "import csv, pickle"
   ]
  },
  {
   "cell_type": "markdown",
   "metadata": {
    "collapsed": false
   },
   "source": [
    "corpus = corpus_class.corpus( categories.categories() )\n",
    "corpus.load(\"question_train.csv\", \"question_category_train.csv\")\n",
    "corpus.process(**std_filters(), corpus_size=-1)\n",
    "corpus.save()"
   ]
  },
  {
   "cell_type": "code",
   "execution_count": 2,
   "metadata": {
    "collapsed": false
   },
   "outputs": [],
   "source": [
    "corpus = corpus_class.load_from_file()"
   ]
  },
  {
   "cell_type": "code",
   "execution_count": 11,
   "metadata": {
    "collapsed": true
   },
   "outputs": [],
   "source": [
    "cropus = corpus.cv_split(3)"
   ]
  },
  {
   "cell_type": "code",
   "execution_count": 16,
   "metadata": {
    "collapsed": true
   },
   "outputs": [],
   "source": [
    "corpus = next(cropus)"
   ]
  },
  {
   "cell_type": "markdown",
   "metadata": {},
   "source": [
    "# Wilcoxon - Tests"
   ]
  },
  {
   "cell_type": "code",
   "execution_count": 11,
   "metadata": {
    "collapsed": false
   },
   "outputs": [],
   "source": [
    "from scipy.stats import wilcoxon\n",
    "\n",
    "def wilcoxon_cv(corpus, clf1, clf2, par1={}, par2={}, n_folds=35):\n",
    "    corpus.cv_split(n_folds)\n",
    "    f1s_clf1 = []\n",
    "    f1s_clf2 = []\n",
    "    for corpus in corpus:\n",
    "        corpus.make_features(**par1)\n",
    "        clf1.fit(corpus.X_tr, corpus.y_tr)\n",
    "        y_pred1 = clf1.predict(corpus.X_te)\n",
    "        f1_clf1 = f1_scorer(corpus.y_te, y_pred1, average=\"macro\")\n",
    "        \n",
    "        corpus.make_features(**par2)\n",
    "        clf2.fit(corpus.X_tr, corpus.y_tr)\n",
    "        y_pred2 = clf2.predict(corpus.X_te)\n",
    "        f1_clf2 = f1_scorer(corpus.y_te, y_pred2, average=\"macro\")\n",
    "        \n",
    "        f1s_clf1 += [ f1_clf1 ]\n",
    "        f1s_clf2 += [ f1_clf2 ]\n",
    "    \n",
    "    w = wilcoxon(f1s_clf1, f1s_clf2)\n",
    "    return w, f1s_clf1, f1s_clf2"
   ]
  },
  {
   "cell_type": "code",
   "execution_count": 45,
   "metadata": {
    "collapsed": true
   },
   "outputs": [
    {
     "name": "stderr",
     "output_type": "stream",
     "text": [
      "/Library/Frameworks/Python.framework/Versions/3.5/lib/python3.5/site-packages/sklearn/metrics/classification.py:1113: UndefinedMetricWarning: F-score is ill-defined and being set to 0.0 in labels with no predicted samples.\n",
      "  'precision', 'predicted', average, warn_for)\n",
      "/Library/Frameworks/Python.framework/Versions/3.5/lib/python3.5/site-packages/sklearn/metrics/classification.py:1113: UndefinedMetricWarning: F-score is ill-defined and being set to 0.0 in labels with no predicted samples.\n",
      "  'precision', 'predicted', average, warn_for)\n",
      "/Library/Frameworks/Python.framework/Versions/3.5/lib/python3.5/site-packages/sklearn/metrics/classification.py:1113: UndefinedMetricWarning: F-score is ill-defined and being set to 0.0 in labels with no predicted samples.\n",
      "  'precision', 'predicted', average, warn_for)\n",
      "/Library/Frameworks/Python.framework/Versions/3.5/lib/python3.5/site-packages/sklearn/metrics/classification.py:1113: UndefinedMetricWarning: F-score is ill-defined and being set to 0.0 in labels with no predicted samples.\n",
      "  'precision', 'predicted', average, warn_for)\n",
      "/Library/Frameworks/Python.framework/Versions/3.5/lib/python3.5/site-packages/sklearn/metrics/classification.py:1113: UndefinedMetricWarning: F-score is ill-defined and being set to 0.0 in labels with no predicted samples.\n",
      "  'precision', 'predicted', average, warn_for)\n",
      "/Library/Frameworks/Python.framework/Versions/3.5/lib/python3.5/site-packages/sklearn/metrics/classification.py:1113: UndefinedMetricWarning: F-score is ill-defined and being set to 0.0 in labels with no predicted samples.\n",
      "  'precision', 'predicted', average, warn_for)\n",
      "/Library/Frameworks/Python.framework/Versions/3.5/lib/python3.5/site-packages/sklearn/metrics/classification.py:1113: UndefinedMetricWarning: F-score is ill-defined and being set to 0.0 in labels with no predicted samples.\n",
      "  'precision', 'predicted', average, warn_for)\n",
      "/Library/Frameworks/Python.framework/Versions/3.5/lib/python3.5/site-packages/sklearn/metrics/classification.py:1113: UndefinedMetricWarning: F-score is ill-defined and being set to 0.0 in labels with no predicted samples.\n",
      "  'precision', 'predicted', average, warn_for)\n",
      "/Library/Frameworks/Python.framework/Versions/3.5/lib/python3.5/site-packages/sklearn/metrics/classification.py:1113: UndefinedMetricWarning: F-score is ill-defined and being set to 0.0 in labels with no predicted samples.\n",
      "  'precision', 'predicted', average, warn_for)\n",
      "/Library/Frameworks/Python.framework/Versions/3.5/lib/python3.5/site-packages/sklearn/metrics/classification.py:1113: UndefinedMetricWarning: F-score is ill-defined and being set to 0.0 in labels with no predicted samples.\n",
      "  'precision', 'predicted', average, warn_for)\n",
      "/Library/Frameworks/Python.framework/Versions/3.5/lib/python3.5/site-packages/sklearn/metrics/classification.py:1113: UndefinedMetricWarning: F-score is ill-defined and being set to 0.0 in labels with no predicted samples.\n",
      "  'precision', 'predicted', average, warn_for)\n",
      "/Library/Frameworks/Python.framework/Versions/3.5/lib/python3.5/site-packages/sklearn/metrics/classification.py:1113: UndefinedMetricWarning: F-score is ill-defined and being set to 0.0 in labels with no predicted samples.\n",
      "  'precision', 'predicted', average, warn_for)\n",
      "/Library/Frameworks/Python.framework/Versions/3.5/lib/python3.5/site-packages/sklearn/metrics/classification.py:1113: UndefinedMetricWarning: F-score is ill-defined and being set to 0.0 in labels with no predicted samples.\n",
      "  'precision', 'predicted', average, warn_for)\n",
      "/Library/Frameworks/Python.framework/Versions/3.5/lib/python3.5/site-packages/sklearn/metrics/classification.py:1113: UndefinedMetricWarning: F-score is ill-defined and being set to 0.0 in labels with no predicted samples.\n",
      "  'precision', 'predicted', average, warn_for)\n",
      "/Library/Frameworks/Python.framework/Versions/3.5/lib/python3.5/site-packages/sklearn/metrics/classification.py:1113: UndefinedMetricWarning: F-score is ill-defined and being set to 0.0 in labels with no predicted samples.\n",
      "  'precision', 'predicted', average, warn_for)\n",
      "/Library/Frameworks/Python.framework/Versions/3.5/lib/python3.5/site-packages/sklearn/metrics/classification.py:1113: UndefinedMetricWarning: F-score is ill-defined and being set to 0.0 in labels with no predicted samples.\n",
      "  'precision', 'predicted', average, warn_for)\n",
      "/Library/Frameworks/Python.framework/Versions/3.5/lib/python3.5/site-packages/sklearn/metrics/classification.py:1113: UndefinedMetricWarning: F-score is ill-defined and being set to 0.0 in labels with no predicted samples.\n",
      "  'precision', 'predicted', average, warn_for)\n",
      "/Library/Frameworks/Python.framework/Versions/3.5/lib/python3.5/site-packages/sklearn/metrics/classification.py:1113: UndefinedMetricWarning: F-score is ill-defined and being set to 0.0 in labels with no predicted samples.\n",
      "  'precision', 'predicted', average, warn_for)\n",
      "/Library/Frameworks/Python.framework/Versions/3.5/lib/python3.5/site-packages/sklearn/metrics/classification.py:1113: UndefinedMetricWarning: F-score is ill-defined and being set to 0.0 in labels with no predicted samples.\n",
      "  'precision', 'predicted', average, warn_for)\n",
      "/Library/Frameworks/Python.framework/Versions/3.5/lib/python3.5/site-packages/sklearn/metrics/classification.py:1113: UndefinedMetricWarning: F-score is ill-defined and being set to 0.0 in labels with no predicted samples.\n",
      "  'precision', 'predicted', average, warn_for)\n"
     ]
    },
    {
     "name": "stdout",
     "output_type": "stream",
     "text": [
      "WilcoxonResult(statistic=56.0, pvalue=2.2134124905266775e-05) [0.46908069911526501, 0.48475256106422587, 0.45161265678966395, 0.4272439475561477, 0.47203363756205702, 0.39317330771865411, 0.44836895963475715, 0.51521468064576958, 0.46478552521380073, 0.41124767310024951, 0.48170287044977406, 0.48853335841587581, 0.48169740303906738, 0.49721606314315858, 0.52275009206303724, 0.5106456395742508, 0.4143134731408688, 0.43917421095967202, 0.47613283003759371, 0.50441204418044305, 0.48923209844278331, 0.43991444777023908, 0.46962549113339686, 0.49073565736408498, 0.47036279871696379, 0.448077364919369, 0.47452287303955215, 0.4630797384200816, 0.51500777182175161, 0.43911065629349705, 0.47146406263241036, 0.4532747883496282, 0.49635623420561303, 0.51639540700349773, 0.45840370267148206] [0.45388909308287329, 0.4279416384134862, 0.41437860129475945, 0.41673459912472804, 0.4473530680528866, 0.36461064246329805, 0.43315929738235015, 0.48731377013322119, 0.43846087641965686, 0.41475049672062853, 0.46643488018658757, 0.4394075734623385, 0.4826721684803737, 0.45582171287873274, 0.50618943690595475, 0.45374011337783127, 0.40942193982515968, 0.45185009312748303, 0.4331042612931158, 0.4993357798738437, 0.44615153750474645, 0.40593449722174396, 0.48292905652623741, 0.49209767735314219, 0.48047994578913972, 0.42789889267947473, 0.46356283669619758, 0.43449420734535499, 0.45618603112402412, 0.41743752221202707, 0.45140234507432098, 0.3991405573227943, 0.44490372677247014, 0.48881690608137995, 0.49284338413760376]\n"
     ]
    }
   ],
   "source": [
    "clf1 = RandomForestClassifier(n_estimators=20,max_features=100)\n",
    "clf2 = RandomForestClassifier(n_estimators=20,max_features=100)\n",
    "par1 = {\"M\":3500, \"feature_extractor\": tfidf}\n",
    "par2 = {\"M\":3500, \"feature_extractor\": multinomial_model}\n",
    "\n",
    "w, f1s_clf1, f1s_clf2 = wilcoxon_cv(corpus, clf1, clf2, par1=par1, par2=par2)\n",
    "\n",
    "print(w, f1s_clf1, f1s_clf2)"
   ]
  },
  {
   "cell_type": "code",
   "execution_count": 38,
   "metadata": {
    "collapsed": true
   },
   "outputs": [
    {
     "name": "stderr",
     "output_type": "stream",
     "text": [
      "/Library/Frameworks/Python.framework/Versions/3.5/lib/python3.5/site-packages/sklearn/metrics/classification.py:1113: UndefinedMetricWarning: F-score is ill-defined and being set to 0.0 in labels with no predicted samples.\n",
      "  'precision', 'predicted', average, warn_for)\n"
     ]
    },
    {
     "name": "stdout",
     "output_type": "stream",
     "text": [
      "0.501849183681 0.500227130138\n",
      "0.5318180516 0.557744748921\n",
      "0.53475615859 0.468589982137\n",
      "0.445890726583 0.438165269831\n",
      "0.567206952634 0.573712929092\n",
      "0.497591868687 0.512260078885\n",
      "0.531693480098 0.530681420899\n",
      "0.54179018291 0.510002907131\n",
      "0.474618613323 0.575942280249\n",
      "0.529764941966 0.552006032157\n",
      "0.508477112787 0.557549707825\n",
      "0.527979683933 0.533524580508\n",
      "0.53443237193 0.530865237196\n",
      "0.495443595822 0.548226230246\n",
      "0.603916452365 0.601637110128\n",
      "0.489653991361 0.510578316622\n",
      "0.518919136657 0.508393824407\n",
      "0.514056206499 0.53797345953\n",
      "0.548088618925 0.54318881819\n",
      "0.521399370382 0.54000350442\n",
      "0.599256407515 0.574018369172\n",
      "0.486338353666 0.496922912107\n",
      "0.538580147546 0.518546324977\n",
      "0.548416832637 0.584292869145\n",
      "0.532357266012 0.519687477275\n",
      "0.547985705516 0.512391104135\n",
      "0.510334666213 0.552172055049\n",
      "0.569477667957 0.538468653438\n",
      "0.5699920704 0.591265527081\n",
      "0.523640563006 0.491925798449\n",
      "0.528462085012 0.517488975883\n",
      "0.507909979023 0.492736914194\n",
      "0.585439982698 0.546097643794\n",
      "0.567371704355 0.581500303988\n",
      "0.584986070269 0.59089322743\n",
      "WilcoxonResult(statistic=286.0, pvalue=0.63479043283870595)\n"
     ]
    }
   ],
   "source": [
    "clf1 = LogisticRegression(C=2)\n",
    "clf2 = MultinomialNB(alpha=0.01)\n",
    "w, f1s_clf1, f1s_clf2 = wilcoxon_cv(corpus, clf1, clf2)\n",
    "print(w)"
   ]
  },
  {
   "cell_type": "code",
   "execution_count": 49,
   "metadata": {
    "collapsed": true
   },
   "outputs": [
    {
     "name": "stdout",
     "output_type": "stream",
     "text": [
      "-> 0.469080699115 0.453889093083\n",
      "-> 0.484752561064 0.427941638413\n",
      "-> 0.45161265679 0.414378601295\n",
      "-> 0.427243947556 0.416734599125\n",
      "-> 0.472033637562 0.447353068053\n",
      "-> 0.393173307719 0.364610642463\n",
      "-> 0.448368959635 0.433159297382\n",
      "-> 0.515214680646 0.487313770133\n",
      "-> 0.464785525214 0.43846087642\n",
      "0.4112476731 -> 0.414750496721\n",
      "-> 0.48170287045 0.466434880187\n",
      "-> 0.488533358416 0.439407573462\n",
      "0.481697403039 -> 0.48267216848\n",
      "-> 0.497216063143 0.455821712879\n",
      "-> 0.522750092063 0.506189436906\n",
      "-> 0.510645639574 0.453740113378\n",
      "-> 0.414313473141 0.409421939825\n",
      "0.43917421096 -> 0.451850093127\n",
      "-> 0.476132830038 0.433104261293\n",
      "-> 0.50441204418 0.499335779874\n",
      "-> 0.489232098443 0.446151537505\n",
      "-> 0.43991444777 0.405934497222\n",
      "0.469625491133 -> 0.482929056526\n",
      "0.490735657364 -> 0.492097677353\n",
      "0.470362798717 -> 0.480479945789\n",
      "-> 0.448077364919 0.427898892679\n",
      "-> 0.47452287304 0.463562836696\n",
      "-> 0.46307973842 0.434494207345\n",
      "-> 0.515007771822 0.456186031124\n",
      "-> 0.439110656293 0.417437522212\n",
      "-> 0.471464062632 0.451402345074\n",
      "-> 0.45327478835 0.399140557323\n",
      "-> 0.496356234206 0.444903726772\n",
      "-> 0.516395407003 0.488816906081\n",
      "0.458403702671 -> 0.492843384138\n"
     ]
    }
   ],
   "source": [
    "A = np.array(f1s_clf1)\n",
    "B = np.array(f1s_clf2)\n",
    "C = np.abs(A - B)\n",
    "sort = np.argsort(C)\n",
    "R = (np.arange(len(C)) + 1)*np.sign(A-B)[sort]\n",
    "print(np.sum(R[R>0]))\n",
    "wilcoxon(A-B)\n",
    "\n",
    "for a, b in zip(A,B):\n",
    "    if a > b:\n",
    "        print(\"->\",a,b)\n",
    "    else:\n",
    "        print(a,\"->\",b)"
   ]
  },
  {
   "cell_type": "markdown",
   "metadata": {},
   "source": [
    "# Corss-Validation"
   ]
  },
  {
   "cell_type": "code",
   "execution_count": 21,
   "metadata": {
    "collapsed": false
   },
   "outputs": [],
   "source": [
    "import time, csv, pickle\n",
    "import itertools as it\n",
    "\n",
    "def CV(corpus, clf_class, clf_name, clf_params, feat_params, n_folds, skipping_rule=None):\n",
    "    file_name = \"cv_results/\" + clf_name\n",
    "    file_name += time.strftime(\"_%Y-%m-%d_%H-%M\", time.gmtime())\n",
    "    header = [\"id\", \"f1\", \"accuracy\", \"time\"] + list(feat_params[0].keys()) + list(clf_params[0].keys())\n",
    "    \n",
    "    csv_file = open(file_name+\".csv\", 'w+')\n",
    "    csv_writer = csv.writer(csv_file)\n",
    "    csv_writer.writerow(header)\n",
    "    \n",
    "    pkl_file = open(file_name+\".pkl\", 'wb+')\n",
    "    results = {}\n",
    "    \n",
    "    corpus.cv_split(n_folds)\n",
    "    \n",
    "    idx = 0\n",
    "    for c_par, f_par in it.product(clf_params, feat_params):\n",
    "        if not (skipping_rule is None):\n",
    "            if skipping_rule(c_par, f_par):\n",
    "                print(\"skip:\",c_par,f_par)\n",
    "                continue\n",
    "        results[idx] = {}\n",
    "        results[idx]['feat_params'] = f_par\n",
    "        results[idx]['clf_params'] = c_par\n",
    "        \n",
    "        f1_scores, acc_scores, times = [], [], []\n",
    "        \n",
    "        fold = 0\n",
    "        for coprus in corpus:\n",
    "            results[idx][fold] = {}\n",
    "            corpus.make_features(**f_par)\n",
    "            \n",
    "            t = time.time() ### Time measure A ###\n",
    "            \n",
    "            clf = clf_class(**c_par)\n",
    "            clf.fit(corpus.X_tr, corpus.y_tr)\n",
    "            y_pred = clf.predict(corpus.X_te)\n",
    "            \n",
    "            dt = time.time() - t ### Time measure B ###\n",
    "            \n",
    "            acc = clf.score(corpus.X_te, corpus.y_te)\n",
    "            f1 = f1_scorer(corpus.y_te, y_pred, average=\"macro\")\n",
    "            \n",
    "            f1_scores += [ f1 ]\n",
    "            acc_scores += [ acc ]\n",
    "            times += [ dt ]\n",
    "            \n",
    "            results[idx][fold]['acc_score'] = acc\n",
    "            results[idx][fold]['y_pred'] = y_pred\n",
    "            results[idx][fold]['f1_score'] = f1\n",
    "            results[idx][fold]['time'] = dt\n",
    "            \n",
    "            fold += 1\n",
    "\n",
    "        results[idx]['f1_score'] = np.mean(f1_scores)\n",
    "        results[idx]['acc_score'] = np.mean(acc_scores)\n",
    "        results[idx]['time'] = np.mean(times)\n",
    "        \n",
    "        row = [ idx ]\n",
    "        row += [results[idx]['f1_score'], results[idx]['acc_score'], results[idx]['time']]\n",
    "        row += list(f_par.values()) + list(c_par.values())\n",
    "        csv_writer.writerow( row )\n",
    "        print(row)\n",
    "        \n",
    "        corpus.reset()\n",
    "        idx += 1\n",
    "    \n",
    "    pickle.dump(results, pkl_file)\n",
    "    \n",
    "    csv_file.close()\n",
    "    pkl_file.close()"
   ]
  },
  {
   "cell_type": "code",
   "execution_count": 22,
   "metadata": {
    "collapsed": true
   },
   "outputs": [],
   "source": [
    "#cdf = [{\"n_estimators\":int(n), \"max_features\":1} for n in np.linspace(10,100,10)]\n",
    "#test = [ RandomForestClassifier, \"RandomForestClassifier\", cdf, [{\"M\": 1265, \"feature_extractor\":tfidf}] ]"
   ]
  },
  {
   "cell_type": "code",
   "execution_count": 24,
   "metadata": {
    "collapsed": true
   },
   "outputs": [
    {
     "name": "stderr",
     "output_type": "stream",
     "text": [
      "/Library/Frameworks/Python.framework/Versions/3.5/lib/python3.5/site-packages/sklearn/metrics/classification.py:1113: UndefinedMetricWarning: F-score is ill-defined and being set to 0.0 in labels with no predicted samples.\n",
      "  'precision', 'predicted', average, warn_for)\n",
      "/Library/Frameworks/Python.framework/Versions/3.5/lib/python3.5/site-packages/sklearn/metrics/classification.py:1113: UndefinedMetricWarning: F-score is ill-defined and being set to 0.0 in labels with no predicted samples.\n",
      "  'precision', 'predicted', average, warn_for)\n"
     ]
    },
    {
     "name": "stdout",
     "output_type": "stream",
     "text": [
      "[0, 0.33674820354711515, 0.43968513893045841, 0.37729628880818683, <function tfidf at 0x105e45e18>, 64, 'entropy', 20, 1]\n",
      "[1, 0.39487879598793379, 0.4831135215243707, 0.75066765149434411, <function tfidf at 0x105e45e18>, 134, 'entropy', 20, 1]\n",
      "[2, 0.44934851299985085, 0.51412001495028836, 1.1271789073944092, <function tfidf at 0x105e45e18>, 283, 'entropy', 20, 1]\n",
      "[3, 0.47343479337547617, 0.53742300467218096, 1.8118483225504558, <function tfidf at 0x105e45e18>, 595, 'entropy', 20, 1]\n",
      "[4, 0.4904380358206924, 0.55129701652024166, 2.6549056371053061, <function tfidf at 0x105e45e18>, 1252, 'entropy', 20, 1]\n",
      "[5, 0.48100612163057183, 0.55074202679406647, 4.1769700845082598, <function tfidf at 0x105e45e18>, 2633, 'entropy', 20, 1]\n",
      "[6, 0.47439039908075609, 0.55545420025401182, 5.4266966978708906, <function tfidf at 0x105e45e18>, 5537, 'entropy', 20, 1]\n",
      "[7, 0.48815487106499927, 0.54886691225008699, 7.6346283753712969, <function tfidf at 0x105e45e18>, -1, 'entropy', 20, 1]\n"
     ]
    },
    {
     "name": "stderr",
     "output_type": "stream",
     "text": [
      "/Library/Frameworks/Python.framework/Versions/3.5/lib/python3.5/site-packages/sklearn/metrics/classification.py:1113: UndefinedMetricWarning: F-score is ill-defined and being set to 0.0 in labels with no predicted samples.\n",
      "  'precision', 'predicted', average, warn_for)\n",
      "/Library/Frameworks/Python.framework/Versions/3.5/lib/python3.5/site-packages/sklearn/metrics/classification.py:1113: UndefinedMetricWarning: F-score is ill-defined and being set to 0.0 in labels with no predicted samples.\n",
      "  'precision', 'predicted', average, warn_for)\n"
     ]
    },
    {
     "name": "stdout",
     "output_type": "stream",
     "text": [
      "[8, 0.3409127097107027, 0.44079496368790033, 0.44087473551432294, <function tfidf at 0x105e45e18>, 64, 'entropy', 20, 2]\n",
      "[9, 0.3922475891575401, 0.48401434911143015, 0.76366861661275232, <function tfidf at 0x105e45e18>, 134, 'entropy', 20, 2]\n",
      "[10, 0.44535430391386804, 0.51377345854768242, 1.2548513412475586, <function tfidf at 0x105e45e18>, 283, 'entropy', 20, 2]\n",
      "[11, 0.46358084606741246, 0.53242913097289557, 1.8435643513997395, <function tfidf at 0x105e45e18>, 595, 'entropy', 20, 2]\n",
      "[12, 0.48109328341638474, 0.5468564156817306, 2.8718845844268799, <function tfidf at 0x105e45e18>, 1252, 'entropy', 20, 2]\n",
      "[13, 0.47792529356467334, 0.54872871531659062, 3.7138409614562988, <function tfidf at 0x105e45e18>, 2633, 'entropy', 20, 2]\n",
      "[14, 0.47250492264448124, 0.55198671231176943, 5.362678050994873, <function tfidf at 0x105e45e18>, 5537, 'entropy', 20, 2]\n",
      "[15, 0.47909005323347725, 0.54539932512842337, 8.226701021194458, <function tfidf at 0x105e45e18>, -1, 'entropy', 20, 2]\n"
     ]
    },
    {
     "name": "stderr",
     "output_type": "stream",
     "text": [
      "/Library/Frameworks/Python.framework/Versions/3.5/lib/python3.5/site-packages/sklearn/metrics/classification.py:1113: UndefinedMetricWarning: F-score is ill-defined and being set to 0.0 in labels with no predicted samples.\n",
      "  'precision', 'predicted', average, warn_for)\n",
      "/Library/Frameworks/Python.framework/Versions/3.5/lib/python3.5/site-packages/sklearn/metrics/classification.py:1113: UndefinedMetricWarning: F-score is ill-defined and being set to 0.0 in labels with no predicted samples.\n",
      "  'precision', 'predicted', average, warn_for)\n"
     ]
    },
    {
     "name": "stdout",
     "output_type": "stream",
     "text": [
      "[16, 0.33230737819765716, 0.43746678635875408, 0.50426570574442542, <function tfidf at 0x105e45e18>, 64, 'entropy', 20, 4]\n",
      "[17, 0.39070429634181186, 0.48006146152396889, 0.69743522008260095, <function tfidf at 0x105e45e18>, 134, 'entropy', 20, 4]\n",
      "[18, 0.4346436788504584, 0.50822717391331762, 1.3669706185658772, <function tfidf at 0x105e45e18>, 283, 'entropy', 20, 4]\n",
      "[19, 0.45753449996940709, 0.53048699653121167, 1.8511723677317302, <function tfidf at 0x105e45e18>, 595, 'entropy', 20, 4]\n",
      "[20, 0.47394946305593999, 0.54144985725773742, 3.0606714089711509, <function tfidf at 0x105e45e18>, 1252, 'entropy', 20, 4]\n",
      "[21, 0.47451447306078648, 0.5467167908132532, 4.3697199821472168, <function tfidf at 0x105e45e18>, 2633, 'entropy', 20, 4]\n"
     ]
    },
    {
     "ename": "KeyboardInterrupt",
     "evalue": "",
     "output_type": "error",
     "traceback": [
      "\u001b[0;31m---------------------------------------------------------------------------\u001b[0m",
      "\u001b[0;31mKeyboardInterrupt\u001b[0m                         Traceback (most recent call last)",
      "\u001b[0;32m<ipython-input-24-5a5c95f9697b>\u001b[0m in \u001b[0;36m<module>\u001b[0;34m()\u001b[0m\n\u001b[0;32m----> 1\u001b[0;31m \u001b[0mCV\u001b[0m\u001b[0;34m(\u001b[0m\u001b[0mcorpus\u001b[0m\u001b[0;34m,\u001b[0m \u001b[0;34m*\u001b[0m\u001b[0mRandomForest_params\u001b[0m\u001b[0;34m(\u001b[0m\u001b[0;34m)\u001b[0m\u001b[0;34m,\u001b[0m \u001b[0;36m3\u001b[0m\u001b[0;34m,\u001b[0m \u001b[0mskipping_rule\u001b[0m\u001b[0;34m=\u001b[0m\u001b[0mRF_skipping_rule\u001b[0m\u001b[0;34m)\u001b[0m\u001b[0;34m\u001b[0m\u001b[0m\n\u001b[0m",
      "\u001b[0;32m<ipython-input-21-da5d3b37a6b0>\u001b[0m in \u001b[0;36mCV\u001b[0;34m(corpus, clf_class, clf_name, clf_params, feat_params, n_folds, skipping_rule)\u001b[0m\n\u001b[1;32m     36\u001b[0m \u001b[0;34m\u001b[0m\u001b[0m\n\u001b[1;32m     37\u001b[0m             \u001b[0mclf\u001b[0m \u001b[0;34m=\u001b[0m \u001b[0mclf_class\u001b[0m\u001b[0;34m(\u001b[0m\u001b[0;34m**\u001b[0m\u001b[0mc_par\u001b[0m\u001b[0;34m)\u001b[0m\u001b[0;34m\u001b[0m\u001b[0m\n\u001b[0;32m---> 38\u001b[0;31m             \u001b[0mclf\u001b[0m\u001b[0;34m.\u001b[0m\u001b[0mfit\u001b[0m\u001b[0;34m(\u001b[0m\u001b[0mcorpus\u001b[0m\u001b[0;34m.\u001b[0m\u001b[0mX_tr\u001b[0m\u001b[0;34m,\u001b[0m \u001b[0mcorpus\u001b[0m\u001b[0;34m.\u001b[0m\u001b[0my_tr\u001b[0m\u001b[0;34m)\u001b[0m\u001b[0;34m\u001b[0m\u001b[0m\n\u001b[0m\u001b[1;32m     39\u001b[0m             \u001b[0my_pred\u001b[0m \u001b[0;34m=\u001b[0m \u001b[0mclf\u001b[0m\u001b[0;34m.\u001b[0m\u001b[0mpredict\u001b[0m\u001b[0;34m(\u001b[0m\u001b[0mcorpus\u001b[0m\u001b[0;34m.\u001b[0m\u001b[0mX_te\u001b[0m\u001b[0;34m)\u001b[0m\u001b[0;34m\u001b[0m\u001b[0m\n\u001b[1;32m     40\u001b[0m \u001b[0;34m\u001b[0m\u001b[0m\n",
      "\u001b[0;32m/Library/Frameworks/Python.framework/Versions/3.5/lib/python3.5/site-packages/sklearn/ensemble/forest.py\u001b[0m in \u001b[0;36mfit\u001b[0;34m(self, X, y, sample_weight)\u001b[0m\n\u001b[1;32m    324\u001b[0m                     \u001b[0mt\u001b[0m\u001b[0;34m,\u001b[0m \u001b[0mself\u001b[0m\u001b[0;34m,\u001b[0m \u001b[0mX\u001b[0m\u001b[0;34m,\u001b[0m \u001b[0my\u001b[0m\u001b[0;34m,\u001b[0m \u001b[0msample_weight\u001b[0m\u001b[0;34m,\u001b[0m \u001b[0mi\u001b[0m\u001b[0;34m,\u001b[0m \u001b[0mlen\u001b[0m\u001b[0;34m(\u001b[0m\u001b[0mtrees\u001b[0m\u001b[0;34m)\u001b[0m\u001b[0;34m,\u001b[0m\u001b[0;34m\u001b[0m\u001b[0m\n\u001b[1;32m    325\u001b[0m                     verbose=self.verbose, class_weight=self.class_weight)\n\u001b[0;32m--> 326\u001b[0;31m                 for i, t in enumerate(trees))\n\u001b[0m\u001b[1;32m    327\u001b[0m \u001b[0;34m\u001b[0m\u001b[0m\n\u001b[1;32m    328\u001b[0m             \u001b[0;31m# Collect newly grown trees\u001b[0m\u001b[0;34m\u001b[0m\u001b[0;34m\u001b[0m\u001b[0m\n",
      "\u001b[0;32m/Library/Frameworks/Python.framework/Versions/3.5/lib/python3.5/site-packages/sklearn/externals/joblib/parallel.py\u001b[0m in \u001b[0;36m__call__\u001b[0;34m(self, iterable)\u001b[0m\n\u001b[1;32m    756\u001b[0m             \u001b[0;31m# was dispatched. In particular this covers the edge\u001b[0m\u001b[0;34m\u001b[0m\u001b[0;34m\u001b[0m\u001b[0m\n\u001b[1;32m    757\u001b[0m             \u001b[0;31m# case of Parallel used with an exhausted iterator.\u001b[0m\u001b[0;34m\u001b[0m\u001b[0;34m\u001b[0m\u001b[0m\n\u001b[0;32m--> 758\u001b[0;31m             \u001b[0;32mwhile\u001b[0m \u001b[0mself\u001b[0m\u001b[0;34m.\u001b[0m\u001b[0mdispatch_one_batch\u001b[0m\u001b[0;34m(\u001b[0m\u001b[0miterator\u001b[0m\u001b[0;34m)\u001b[0m\u001b[0;34m:\u001b[0m\u001b[0;34m\u001b[0m\u001b[0m\n\u001b[0m\u001b[1;32m    759\u001b[0m                 \u001b[0mself\u001b[0m\u001b[0;34m.\u001b[0m\u001b[0m_iterating\u001b[0m \u001b[0;34m=\u001b[0m \u001b[0;32mTrue\u001b[0m\u001b[0;34m\u001b[0m\u001b[0m\n\u001b[1;32m    760\u001b[0m             \u001b[0;32melse\u001b[0m\u001b[0;34m:\u001b[0m\u001b[0;34m\u001b[0m\u001b[0m\n",
      "\u001b[0;32m/Library/Frameworks/Python.framework/Versions/3.5/lib/python3.5/site-packages/sklearn/externals/joblib/parallel.py\u001b[0m in \u001b[0;36mdispatch_one_batch\u001b[0;34m(self, iterator)\u001b[0m\n\u001b[1;32m    606\u001b[0m                 \u001b[0;32mreturn\u001b[0m \u001b[0;32mFalse\u001b[0m\u001b[0;34m\u001b[0m\u001b[0m\n\u001b[1;32m    607\u001b[0m             \u001b[0;32melse\u001b[0m\u001b[0;34m:\u001b[0m\u001b[0;34m\u001b[0m\u001b[0m\n\u001b[0;32m--> 608\u001b[0;31m                 \u001b[0mself\u001b[0m\u001b[0;34m.\u001b[0m\u001b[0m_dispatch\u001b[0m\u001b[0;34m(\u001b[0m\u001b[0mtasks\u001b[0m\u001b[0;34m)\u001b[0m\u001b[0;34m\u001b[0m\u001b[0m\n\u001b[0m\u001b[1;32m    609\u001b[0m                 \u001b[0;32mreturn\u001b[0m \u001b[0;32mTrue\u001b[0m\u001b[0;34m\u001b[0m\u001b[0m\n\u001b[1;32m    610\u001b[0m \u001b[0;34m\u001b[0m\u001b[0m\n",
      "\u001b[0;32m/Library/Frameworks/Python.framework/Versions/3.5/lib/python3.5/site-packages/sklearn/externals/joblib/parallel.py\u001b[0m in \u001b[0;36m_dispatch\u001b[0;34m(self, batch)\u001b[0m\n\u001b[1;32m    569\u001b[0m         \u001b[0mdispatch_timestamp\u001b[0m \u001b[0;34m=\u001b[0m \u001b[0mtime\u001b[0m\u001b[0;34m.\u001b[0m\u001b[0mtime\u001b[0m\u001b[0;34m(\u001b[0m\u001b[0;34m)\u001b[0m\u001b[0;34m\u001b[0m\u001b[0m\n\u001b[1;32m    570\u001b[0m         \u001b[0mcb\u001b[0m \u001b[0;34m=\u001b[0m \u001b[0mBatchCompletionCallBack\u001b[0m\u001b[0;34m(\u001b[0m\u001b[0mdispatch_timestamp\u001b[0m\u001b[0;34m,\u001b[0m \u001b[0mlen\u001b[0m\u001b[0;34m(\u001b[0m\u001b[0mbatch\u001b[0m\u001b[0;34m)\u001b[0m\u001b[0;34m,\u001b[0m \u001b[0mself\u001b[0m\u001b[0;34m)\u001b[0m\u001b[0;34m\u001b[0m\u001b[0m\n\u001b[0;32m--> 571\u001b[0;31m         \u001b[0mjob\u001b[0m \u001b[0;34m=\u001b[0m \u001b[0mself\u001b[0m\u001b[0;34m.\u001b[0m\u001b[0m_backend\u001b[0m\u001b[0;34m.\u001b[0m\u001b[0mapply_async\u001b[0m\u001b[0;34m(\u001b[0m\u001b[0mbatch\u001b[0m\u001b[0;34m,\u001b[0m \u001b[0mcallback\u001b[0m\u001b[0;34m=\u001b[0m\u001b[0mcb\u001b[0m\u001b[0;34m)\u001b[0m\u001b[0;34m\u001b[0m\u001b[0m\n\u001b[0m\u001b[1;32m    572\u001b[0m         \u001b[0mself\u001b[0m\u001b[0;34m.\u001b[0m\u001b[0m_jobs\u001b[0m\u001b[0;34m.\u001b[0m\u001b[0mappend\u001b[0m\u001b[0;34m(\u001b[0m\u001b[0mjob\u001b[0m\u001b[0;34m)\u001b[0m\u001b[0;34m\u001b[0m\u001b[0m\n\u001b[1;32m    573\u001b[0m \u001b[0;34m\u001b[0m\u001b[0m\n",
      "\u001b[0;32m/Library/Frameworks/Python.framework/Versions/3.5/lib/python3.5/site-packages/sklearn/externals/joblib/_parallel_backends.py\u001b[0m in \u001b[0;36mapply_async\u001b[0;34m(self, func, callback)\u001b[0m\n\u001b[1;32m    107\u001b[0m     \u001b[0;32mdef\u001b[0m \u001b[0mapply_async\u001b[0m\u001b[0;34m(\u001b[0m\u001b[0mself\u001b[0m\u001b[0;34m,\u001b[0m \u001b[0mfunc\u001b[0m\u001b[0;34m,\u001b[0m \u001b[0mcallback\u001b[0m\u001b[0;34m=\u001b[0m\u001b[0;32mNone\u001b[0m\u001b[0;34m)\u001b[0m\u001b[0;34m:\u001b[0m\u001b[0;34m\u001b[0m\u001b[0m\n\u001b[1;32m    108\u001b[0m         \u001b[0;34m\"\"\"Schedule a func to be run\"\"\"\u001b[0m\u001b[0;34m\u001b[0m\u001b[0m\n\u001b[0;32m--> 109\u001b[0;31m         \u001b[0mresult\u001b[0m \u001b[0;34m=\u001b[0m \u001b[0mImmediateResult\u001b[0m\u001b[0;34m(\u001b[0m\u001b[0mfunc\u001b[0m\u001b[0;34m)\u001b[0m\u001b[0;34m\u001b[0m\u001b[0m\n\u001b[0m\u001b[1;32m    110\u001b[0m         \u001b[0;32mif\u001b[0m \u001b[0mcallback\u001b[0m\u001b[0;34m:\u001b[0m\u001b[0;34m\u001b[0m\u001b[0m\n\u001b[1;32m    111\u001b[0m             \u001b[0mcallback\u001b[0m\u001b[0;34m(\u001b[0m\u001b[0mresult\u001b[0m\u001b[0;34m)\u001b[0m\u001b[0;34m\u001b[0m\u001b[0m\n",
      "\u001b[0;32m/Library/Frameworks/Python.framework/Versions/3.5/lib/python3.5/site-packages/sklearn/externals/joblib/_parallel_backends.py\u001b[0m in \u001b[0;36m__init__\u001b[0;34m(self, batch)\u001b[0m\n\u001b[1;32m    324\u001b[0m         \u001b[0;31m# Don't delay the application, to avoid keeping the input\u001b[0m\u001b[0;34m\u001b[0m\u001b[0;34m\u001b[0m\u001b[0m\n\u001b[1;32m    325\u001b[0m         \u001b[0;31m# arguments in memory\u001b[0m\u001b[0;34m\u001b[0m\u001b[0;34m\u001b[0m\u001b[0m\n\u001b[0;32m--> 326\u001b[0;31m         \u001b[0mself\u001b[0m\u001b[0;34m.\u001b[0m\u001b[0mresults\u001b[0m \u001b[0;34m=\u001b[0m \u001b[0mbatch\u001b[0m\u001b[0;34m(\u001b[0m\u001b[0;34m)\u001b[0m\u001b[0;34m\u001b[0m\u001b[0m\n\u001b[0m\u001b[1;32m    327\u001b[0m \u001b[0;34m\u001b[0m\u001b[0m\n\u001b[1;32m    328\u001b[0m     \u001b[0;32mdef\u001b[0m \u001b[0mget\u001b[0m\u001b[0;34m(\u001b[0m\u001b[0mself\u001b[0m\u001b[0;34m)\u001b[0m\u001b[0;34m:\u001b[0m\u001b[0;34m\u001b[0m\u001b[0m\n",
      "\u001b[0;32m/Library/Frameworks/Python.framework/Versions/3.5/lib/python3.5/site-packages/sklearn/externals/joblib/parallel.py\u001b[0m in \u001b[0;36m__call__\u001b[0;34m(self)\u001b[0m\n\u001b[1;32m    129\u001b[0m \u001b[0;34m\u001b[0m\u001b[0m\n\u001b[1;32m    130\u001b[0m     \u001b[0;32mdef\u001b[0m \u001b[0m__call__\u001b[0m\u001b[0;34m(\u001b[0m\u001b[0mself\u001b[0m\u001b[0;34m)\u001b[0m\u001b[0;34m:\u001b[0m\u001b[0;34m\u001b[0m\u001b[0m\n\u001b[0;32m--> 131\u001b[0;31m         \u001b[0;32mreturn\u001b[0m \u001b[0;34m[\u001b[0m\u001b[0mfunc\u001b[0m\u001b[0;34m(\u001b[0m\u001b[0;34m*\u001b[0m\u001b[0margs\u001b[0m\u001b[0;34m,\u001b[0m \u001b[0;34m**\u001b[0m\u001b[0mkwargs\u001b[0m\u001b[0;34m)\u001b[0m \u001b[0;32mfor\u001b[0m \u001b[0mfunc\u001b[0m\u001b[0;34m,\u001b[0m \u001b[0margs\u001b[0m\u001b[0;34m,\u001b[0m \u001b[0mkwargs\u001b[0m \u001b[0;32min\u001b[0m \u001b[0mself\u001b[0m\u001b[0;34m.\u001b[0m\u001b[0mitems\u001b[0m\u001b[0;34m]\u001b[0m\u001b[0;34m\u001b[0m\u001b[0m\n\u001b[0m\u001b[1;32m    132\u001b[0m \u001b[0;34m\u001b[0m\u001b[0m\n\u001b[1;32m    133\u001b[0m     \u001b[0;32mdef\u001b[0m \u001b[0m__len__\u001b[0m\u001b[0;34m(\u001b[0m\u001b[0mself\u001b[0m\u001b[0;34m)\u001b[0m\u001b[0;34m:\u001b[0m\u001b[0;34m\u001b[0m\u001b[0m\n",
      "\u001b[0;32m/Library/Frameworks/Python.framework/Versions/3.5/lib/python3.5/site-packages/sklearn/externals/joblib/parallel.py\u001b[0m in \u001b[0;36m<listcomp>\u001b[0;34m(.0)\u001b[0m\n\u001b[1;32m    129\u001b[0m \u001b[0;34m\u001b[0m\u001b[0m\n\u001b[1;32m    130\u001b[0m     \u001b[0;32mdef\u001b[0m \u001b[0m__call__\u001b[0m\u001b[0;34m(\u001b[0m\u001b[0mself\u001b[0m\u001b[0;34m)\u001b[0m\u001b[0;34m:\u001b[0m\u001b[0;34m\u001b[0m\u001b[0m\n\u001b[0;32m--> 131\u001b[0;31m         \u001b[0;32mreturn\u001b[0m \u001b[0;34m[\u001b[0m\u001b[0mfunc\u001b[0m\u001b[0;34m(\u001b[0m\u001b[0;34m*\u001b[0m\u001b[0margs\u001b[0m\u001b[0;34m,\u001b[0m \u001b[0;34m**\u001b[0m\u001b[0mkwargs\u001b[0m\u001b[0;34m)\u001b[0m \u001b[0;32mfor\u001b[0m \u001b[0mfunc\u001b[0m\u001b[0;34m,\u001b[0m \u001b[0margs\u001b[0m\u001b[0;34m,\u001b[0m \u001b[0mkwargs\u001b[0m \u001b[0;32min\u001b[0m \u001b[0mself\u001b[0m\u001b[0;34m.\u001b[0m\u001b[0mitems\u001b[0m\u001b[0;34m]\u001b[0m\u001b[0;34m\u001b[0m\u001b[0m\n\u001b[0m\u001b[1;32m    132\u001b[0m \u001b[0;34m\u001b[0m\u001b[0m\n\u001b[1;32m    133\u001b[0m     \u001b[0;32mdef\u001b[0m \u001b[0m__len__\u001b[0m\u001b[0;34m(\u001b[0m\u001b[0mself\u001b[0m\u001b[0;34m)\u001b[0m\u001b[0;34m:\u001b[0m\u001b[0;34m\u001b[0m\u001b[0m\n",
      "\u001b[0;32m/Library/Frameworks/Python.framework/Versions/3.5/lib/python3.5/site-packages/sklearn/ensemble/forest.py\u001b[0m in \u001b[0;36m_parallel_build_trees\u001b[0;34m(tree, forest, X, y, sample_weight, tree_idx, n_trees, verbose, class_weight)\u001b[0m\n\u001b[1;32m    118\u001b[0m             \u001b[0mcurr_sample_weight\u001b[0m \u001b[0;34m*=\u001b[0m \u001b[0mcompute_sample_weight\u001b[0m\u001b[0;34m(\u001b[0m\u001b[0;34m'balanced'\u001b[0m\u001b[0;34m,\u001b[0m \u001b[0my\u001b[0m\u001b[0;34m,\u001b[0m \u001b[0mindices\u001b[0m\u001b[0;34m)\u001b[0m\u001b[0;34m\u001b[0m\u001b[0m\n\u001b[1;32m    119\u001b[0m \u001b[0;34m\u001b[0m\u001b[0m\n\u001b[0;32m--> 120\u001b[0;31m         \u001b[0mtree\u001b[0m\u001b[0;34m.\u001b[0m\u001b[0mfit\u001b[0m\u001b[0;34m(\u001b[0m\u001b[0mX\u001b[0m\u001b[0;34m,\u001b[0m \u001b[0my\u001b[0m\u001b[0;34m,\u001b[0m \u001b[0msample_weight\u001b[0m\u001b[0;34m=\u001b[0m\u001b[0mcurr_sample_weight\u001b[0m\u001b[0;34m,\u001b[0m \u001b[0mcheck_input\u001b[0m\u001b[0;34m=\u001b[0m\u001b[0;32mFalse\u001b[0m\u001b[0;34m)\u001b[0m\u001b[0;34m\u001b[0m\u001b[0m\n\u001b[0m\u001b[1;32m    121\u001b[0m     \u001b[0;32melse\u001b[0m\u001b[0;34m:\u001b[0m\u001b[0;34m\u001b[0m\u001b[0m\n\u001b[1;32m    122\u001b[0m         \u001b[0mtree\u001b[0m\u001b[0;34m.\u001b[0m\u001b[0mfit\u001b[0m\u001b[0;34m(\u001b[0m\u001b[0mX\u001b[0m\u001b[0;34m,\u001b[0m \u001b[0my\u001b[0m\u001b[0;34m,\u001b[0m \u001b[0msample_weight\u001b[0m\u001b[0;34m=\u001b[0m\u001b[0msample_weight\u001b[0m\u001b[0;34m,\u001b[0m \u001b[0mcheck_input\u001b[0m\u001b[0;34m=\u001b[0m\u001b[0;32mFalse\u001b[0m\u001b[0;34m)\u001b[0m\u001b[0;34m\u001b[0m\u001b[0m\n",
      "\u001b[0;32m/Library/Frameworks/Python.framework/Versions/3.5/lib/python3.5/site-packages/sklearn/tree/tree.py\u001b[0m in \u001b[0;36mfit\u001b[0;34m(self, X, y, sample_weight, check_input, X_idx_sorted)\u001b[0m\n\u001b[1;32m    737\u001b[0m             \u001b[0msample_weight\u001b[0m\u001b[0;34m=\u001b[0m\u001b[0msample_weight\u001b[0m\u001b[0;34m,\u001b[0m\u001b[0;34m\u001b[0m\u001b[0m\n\u001b[1;32m    738\u001b[0m             \u001b[0mcheck_input\u001b[0m\u001b[0;34m=\u001b[0m\u001b[0mcheck_input\u001b[0m\u001b[0;34m,\u001b[0m\u001b[0;34m\u001b[0m\u001b[0m\n\u001b[0;32m--> 739\u001b[0;31m             X_idx_sorted=X_idx_sorted)\n\u001b[0m\u001b[1;32m    740\u001b[0m         \u001b[0;32mreturn\u001b[0m \u001b[0mself\u001b[0m\u001b[0;34m\u001b[0m\u001b[0m\n\u001b[1;32m    741\u001b[0m \u001b[0;34m\u001b[0m\u001b[0m\n",
      "\u001b[0;32m/Library/Frameworks/Python.framework/Versions/3.5/lib/python3.5/site-packages/sklearn/tree/tree.py\u001b[0m in \u001b[0;36mfit\u001b[0;34m(self, X, y, sample_weight, check_input, X_idx_sorted)\u001b[0m\n\u001b[1;32m    348\u001b[0m                                            self.min_impurity_split)\n\u001b[1;32m    349\u001b[0m \u001b[0;34m\u001b[0m\u001b[0m\n\u001b[0;32m--> 350\u001b[0;31m         \u001b[0mbuilder\u001b[0m\u001b[0;34m.\u001b[0m\u001b[0mbuild\u001b[0m\u001b[0;34m(\u001b[0m\u001b[0mself\u001b[0m\u001b[0;34m.\u001b[0m\u001b[0mtree_\u001b[0m\u001b[0;34m,\u001b[0m \u001b[0mX\u001b[0m\u001b[0;34m,\u001b[0m \u001b[0my\u001b[0m\u001b[0;34m,\u001b[0m \u001b[0msample_weight\u001b[0m\u001b[0;34m,\u001b[0m \u001b[0mX_idx_sorted\u001b[0m\u001b[0;34m)\u001b[0m\u001b[0;34m\u001b[0m\u001b[0m\n\u001b[0m\u001b[1;32m    351\u001b[0m \u001b[0;34m\u001b[0m\u001b[0m\n\u001b[1;32m    352\u001b[0m         \u001b[0;32mif\u001b[0m \u001b[0mself\u001b[0m\u001b[0;34m.\u001b[0m\u001b[0mn_outputs_\u001b[0m \u001b[0;34m==\u001b[0m \u001b[0;36m1\u001b[0m\u001b[0;34m:\u001b[0m\u001b[0;34m\u001b[0m\u001b[0m\n",
      "\u001b[0;31mKeyboardInterrupt\u001b[0m: "
     ]
    }
   ],
   "source": [
    "CV(corpus, *RandomForest_params(), 3, skipping_rule=RF_skipping_rule)"
   ]
  },
  {
   "cell_type": "markdown",
   "metadata": {},
   "source": [
    "# Listing CV Results"
   ]
  },
  {
   "cell_type": "code",
   "execution_count": 17,
   "metadata": {
    "collapsed": false
   },
   "outputs": [],
   "source": [
    "from os import listdir\n",
    "def versions(clf_name):\n",
    "    vers = []\n",
    "    for f in listdir(\"cv_results\"):\n",
    "        if (f[:len(clf_name)] == clf_name) & (f[-4:] == \".csv\") :\n",
    "            vers += [ f[:-4] ]\n",
    "    vers.sort(reverse=True)\n",
    "    for i,f in zip(range(len(vers)),vers):\n",
    "        print(\"[\",i,\"]\", f)\n",
    "    return vers"
   ]
  },
  {
   "cell_type": "code",
   "execution_count": 79,
   "metadata": {
    "collapsed": false
   },
   "outputs": [],
   "source": [
    "def show_results(vers, idx):\n",
    "    with open(\"cv_results/\"+ vers[idx] + \".pkl\", 'rb') as file:\n",
    "        results = pickle.load(file)\n",
    "        head = [\"id\", \"f1_score\", \"acc_score\", \"M\", \"alpha\", \"time\"]\n",
    "        \n",
    "        matrix = np.zeros((len(results), len(head)))\n",
    "        f1_scores = -np.array([results[i][\"f1_score\"] for i in results])\n",
    "        \n",
    "        best_idx = f1_scores.argsort()\n",
    "        \n",
    "        print(\"{0:6} {1:15} {2:15} {3:15} {4:15} {5:15}\".format(*head))\n",
    "        for idx in best_idx:\n",
    "            matrix[idx,:] = [idx, results[idx]['f1_score'], results[idx]['acc_score'],\n",
    "                           results[idx]['feat_params']['M'], results[idx]['clf_params']['alpha'],\n",
    "                           results[idx]['time'] ]\n",
    "            \n",
    "            line = \"{0:<6} {f1_score:<15.3} {acc_score:<15.3} {feat_params[M]:<15}\"\n",
    "            line += \"{clf_params[alpha]:<15} {time:<15.5}\"\n",
    "            \n",
    "            print( line.format(idx, **results[idx]) )\n",
    "        return matrix"
   ]
  },
  {
   "cell_type": "code",
   "execution_count": 80,
   "metadata": {
    "collapsed": false
   },
   "outputs": [
    {
     "name": "stdout",
     "output_type": "stream",
     "text": [
      "[ 0 ] MultinomialNB_2016-12-25_16-48\n"
     ]
    }
   ],
   "source": [
    "versis = versions(\"MultinomialNB\")"
   ]
  },
  {
   "cell_type": "code",
   "execution_count": 81,
   "metadata": {
    "collapsed": false
   },
   "outputs": [
    {
     "name": "stdout",
     "output_type": "stream",
     "text": [
      "id     f1_score        acc_score       M               alpha           time           \n",
      "31     0.521           0.577           -1             0.01            0.02637        \n",
      "30     0.518           0.575           5624           0.01            0.046903       \n",
      "39     0.513           0.594           -1             0.1             0.03196        \n",
      "36     0.513           0.571           1265           0.1             0.022988       \n",
      "23     0.512           0.566           -1             0.001           0.030251       \n",
      "22     0.511           0.567           5624           0.001           0.027225       \n",
      "37     0.51            0.576           2667           0.1             0.019125       \n",
      "28     0.51            0.567           1265           0.01            0.028035       \n",
      "29     0.51            0.567           2667           0.01            0.019338       \n",
      "20     0.508           0.565           1265           0.001           0.028823       \n",
      "38     0.507           0.584           5624           0.1             0.017939       \n",
      "14     0.507           0.563           5624           0.0001          0.019177       \n",
      "15     0.507           0.561           -1             0.0001          0.035328       \n",
      "12     0.507           0.563           1265           0.0001          0.02544        \n",
      "4      0.506           0.562           1265           1e-05           0.023323       \n",
      "21     0.505           0.563           2667           0.001           0.017667       \n",
      "6      0.504           0.561           5624           1e-05           0.015188       \n",
      "7      0.503           0.558           -1             1e-05           0.0326         \n",
      "13     0.503           0.561           2667           0.0001          0.02143        \n",
      "5      0.502           0.559           2667           1e-05           0.019859       \n",
      "19     0.491           0.549           600            0.001           0.03248        \n",
      "27     0.49            0.55            600            0.01            0.021782       \n",
      "11     0.489           0.548           600            0.0001          0.022205       \n",
      "3      0.488           0.548           600            1e-05           0.0095357      \n",
      "35     0.487           0.551           600            0.1             0.010708       \n",
      "18     0.454           0.522           284            0.001           0.029818       \n",
      "26     0.454           0.522           284            0.01            0.01604        \n",
      "2      0.454           0.522           284            1e-05           0.014551       \n",
      "10     0.453           0.521           284            0.0001          0.011348       \n",
      "34     0.453           0.522           284            0.1             0.013972       \n",
      "44     0.444           0.552           1265           1.0             0.017745       \n",
      "43     0.442           0.542           600            1.0             0.017801       \n",
      "42     0.431           0.52            284            1.0             0.012179       \n",
      "45     0.405           0.541           2667           1.0             0.018901       \n",
      "33     0.388           0.483           134            0.1             0.010812       \n",
      "17     0.387           0.483           134            0.001           0.016319       \n",
      "1      0.387           0.482           134            1e-05           0.016055       \n",
      "9      0.387           0.482           134            0.0001          0.0093108      \n",
      "25     0.387           0.483           134            0.01            0.013018       \n",
      "41     0.375           0.48            134            1.0             0.020601       \n",
      "47     0.37            0.53            -1             1.0             0.027498       \n",
      "46     0.37            0.526           5624           1.0             0.017298       \n",
      "32     0.325           0.434           64             0.1             0.031587       \n",
      "24     0.325           0.434           64             0.01            0.0097317      \n",
      "16     0.325           0.434           64             0.001           0.016023       \n",
      "0      0.325           0.434           64             1e-05           0.021326       \n",
      "8      0.325           0.434           64             0.0001          0.010009       \n",
      "40     0.321           0.435           64             1.0             0.024469       \n",
      "49     0.284           0.445           134            10.0            0.0095293      \n",
      "50     0.266           0.45            284            10.0            0.059071       \n",
      "48     0.263           0.413           64             10.0            0.014046       \n",
      "51     0.239           0.44            600            10.0            0.017659       \n",
      "52     0.21            0.427           1265           10.0            0.0117         \n",
      "53     0.197           0.42            2667           10.0            0.021159       \n",
      "54     0.179           0.408           5624           10.0            0.022046       \n",
      "55     0.165           0.394           -1             10.0            0.035362       \n"
     ]
    }
   ],
   "source": [
    "R = show_results(versis, 0)"
   ]
  },
  {
   "cell_type": "code",
   "execution_count": 88,
   "metadata": {
    "collapsed": false
   },
   "outputs": [
    {
     "data": {
      "text/plain": [
       "<matplotlib.figure.Figure at 0x10a279208>"
      ]
     },
     "metadata": {},
     "output_type": "display_data"
    },
    {
     "data": {
      "image/png": "[encoded data removed]",
      "text/plain": [
       "<matplotlib.figure.Figure at 0x109751668>"
      ]
     },
     "metadata": {},
     "output_type": "display_data"
    }
   ],
   "source": [
    "%matplotlib inline\n",
    "import matplotlib.pyplot as plt\n",
    "\n",
    "filt = (R[:,4] == 0.01)\n",
    "\n",
    "fig = plt.figure()\n",
    "\n",
    "x = R[filt,3]\n",
    "y = R[filt,1]\n",
    "z = R[filt,5]\n",
    "\n",
    "fig = plt.figure()\n",
    "\n",
    "plt.subplot(211)\n",
    "plt.semilogx(x, z, marker='o', basex=2)\n",
    "#plt.plot(x, z, marker='o')\n",
    "plt.ylabel('time in s')\n",
    "plt.xlabel('C')\n",
    "\n",
    "plt.subplot(212)\n",
    "plt.semilogx(x, y, marker='o', c='g', basex=2)\n",
    "#plt.plot(x, y, marker='o', c='g')\n",
    "plt.ylabel('f1-score')\n",
    "plt.xlabel('M')\n",
    "\n",
    "plt.show()"
   ]
  },
  {
   "cell_type": "markdown",
   "metadata": {},
   "source": [
    "# Parameter-Generating Functions"
   ]
  },
  {
   "cell_type": "code",
   "execution_count": 7,
   "metadata": {
    "collapsed": true
   },
   "outputs": [],
   "source": [
    "def MultinomialNB_params():\n",
    "    clf_class = MultinomialNB\n",
    "    clf_name = \"MultinomialNB\"\n",
    "    clf_params = [{\"alpha\":M} for M in np.logspace(-5,1,7)]\n",
    "\n",
    "    M_max = np.log2(len(corpus.all_terms))-1\n",
    "    feat_params = [{\"M\":int(M)} for M in np.logspace(6,M_max,7, base=2)]\n",
    "    feat_params += [{\"M\":-1}]\n",
    "\n",
    "    return clf_class, clf_name, clf_params, feat_params"
   ]
  },
  {
   "cell_type": "code",
   "execution_count": 33,
   "metadata": {
    "collapsed": false
   },
   "outputs": [],
   "source": [
    "def LogisticRegression_params():\n",
    "    clf_class = LogisticRegression\n",
    "    clf_name = \"LogisticRegression\"\n",
    "    clf_params = [{\"C\": round(C, 2), \"penalty\": 'l1', \"solver\": 'liblinear'} for C in np.logspace(-1,2,16, base=2)]\n",
    "    #clf_params = [{\"C\":M, \"penalty\": 'l1', \"solver\": 'liblinear'} for M in np.linspace(2,4,5)]\n",
    "    feat_params = [{\"M\":-1, \"feature_extractor\":multinomial_model}]\n",
    "    \n",
    "    return clf_class, clf_name, clf_params, feat_params"
   ]
  },
  {
   "cell_type": "code",
   "execution_count": 19,
   "metadata": {
    "collapsed": true
   },
   "outputs": [],
   "source": [
    "def RandomForest_params():\n",
    "    clf_class = RandomForestClassifier\n",
    "    clf_name = \"RandomForestClassifier\"\n",
    "    #clf_params = [{\"max_features\": int(C), \"n_estimators\": 20} for C in np.logspace(0,8,9, base=2)]\n",
    "    clf_params = [{\"max_features\": int(C),\n",
    "                   \"n_estimators\": 20,\n",
    "                   \"criterion\": 'entropy'\n",
    "                  } for C in np.logspace(0,4,5, base=2)]\n",
    "    \n",
    "    M_max = np.log2(len(corpus.all_terms))-1\n",
    "    feat_params = [{\"M\": int(M),\n",
    "                    \"feature_extractor\":tfidf\n",
    "                   } for M in np.logspace(6,M_max,7, base=2)]\n",
    "    feat_params += [{\"M\":-1, \"feature_extractor\":tfidf}]\n",
    "    \n",
    "    return clf_class, clf_name, clf_params, feat_params\n",
    "\n",
    "def RF_skipping_rule(c_par, f_par):\n",
    "    # returns True if this pair of parameter should be skipped\n",
    "    if f_par[\"M\"] == -1:\n",
    "        return False\n",
    "    else:\n",
    "        return c_par[\"max_features\"] > f_par[\"M\"]"
   ]
  },
  {
   "cell_type": "code",
   "execution_count": 20,
   "metadata": {
    "collapsed": false
   },
   "outputs": [
    {
     "data": {
      "text/plain": [
       "(sklearn.ensemble.forest.RandomForestClassifier,\n",
       " 'RandomForestClassifier',\n",
       " [{'criterion': 'entropy', 'max_features': 1, 'n_estimators': 20},\n",
       "  {'criterion': 'entropy', 'max_features': 2, 'n_estimators': 20},\n",
       "  {'criterion': 'entropy', 'max_features': 4, 'n_estimators': 20},\n",
       "  {'criterion': 'entropy', 'max_features': 8, 'n_estimators': 20},\n",
       "  {'criterion': 'entropy', 'max_features': 16, 'n_estimators': 20}],\n",
       " [{'M': 64, 'feature_extractor': <function feature_extractors.tfidf>},\n",
       "  {'M': 134, 'feature_extractor': <function feature_extractors.tfidf>},\n",
       "  {'M': 283, 'feature_extractor': <function feature_extractors.tfidf>},\n",
       "  {'M': 595, 'feature_extractor': <function feature_extractors.tfidf>},\n",
       "  {'M': 1252, 'feature_extractor': <function feature_extractors.tfidf>},\n",
       "  {'M': 2633, 'feature_extractor': <function feature_extractors.tfidf>},\n",
       "  {'M': 5537, 'feature_extractor': <function feature_extractors.tfidf>},\n",
       "  {'M': -1, 'feature_extractor': <function feature_extractors.tfidf>}])"
      ]
     },
     "execution_count": 20,
     "metadata": {},
     "output_type": "execute_result"
    }
   ],
   "source": [
    "RandomForest_params()"
   ]
  },
  {
   "cell_type": "markdown",
   "metadata": {},
   "source": [
    "# Box Plots"
   ]
  },
  {
   "cell_type": "code",
   "execution_count": 5,
   "metadata": {
    "collapsed": false
   },
   "outputs": [],
   "source": [
    "%matplotlib inline\n",
    "import matplotlib.pyplot as plt\n",
    "\n",
    "def box_plot(corpus, clfs, f_pars, n_folds=3):\n",
    "    corpus.cv_split(n_folds)\n",
    "    m = len(corpus.cats)\n",
    "    scores = {clf_name: np.zeros((n_folds, m+1)) for clf_name in clfs}\n",
    "    f1_scores = {clf_name: np.zeros(n_folds) for clf_name in clfs}\n",
    "    \n",
    "    for corpus in corpus:\n",
    "        i = corpus.current_fold -1\n",
    "        \n",
    "        for clf_name in clfs:\n",
    "            clf = clfs[clf_name]\n",
    "            f_par = f_pars[clf_name]\n",
    "            \n",
    "            corpus.make_features(**f_par)\n",
    "            clf.fit(corpus.X_tr, corpus.y_tr)\n",
    "            y_pred = clf.predict(corpus.X_te)\n",
    "            \n",
    "            f1_scores[clf_name][i] = f1_scorer(corpus.y_te, y_pred, average=\"macro\")\n",
    "            \n",
    "            cv = confusion_matrix(corpus.y_te, y_pred)\n",
    "            bingos = cv.diagonal()\n",
    "            totals = cv.sum(axis=1)\n",
    "            accs = bingos/totals\n",
    "            \n",
    "            scores[clf_name][i, 1:] = accs\n",
    "            scores[clf_name][i, 0] = bingos.sum() / totals.sum()\n",
    "    \n",
    "    sco = next(iter(scores.values()))\n",
    "    sort = (-sco[:,1:].mean(axis=0)).argsort()\n",
    "    \n",
    "    scores_ = {clf_name: np.zeros((n_folds, m+1)) for clf_name in clfs}\n",
    "    for clf_name in clfs:\n",
    "        scores_[clf_name][:,0] = scores[clf_name][:,0]\n",
    "        scores_[clf_name][:,1:] = scores[clf_name][:,1:][:,sort]\n",
    "\n",
    "    return scores, scores_, f1_scores, sort"
   ]
  },
  {
   "cell_type": "raw",
   "metadata": {
    "collapsed": false
   },
   "source": [
    "lg_clf = LogisticRegression(C=2.0, penalty='l1', solver='liblinear')\n",
    "lg_par = {'M':-1, 'feature_extractor':multinomial_model}\n",
    "\n",
    "nb_clf = MultinomialNB(alpha=0.01)\n",
    "nb_par = {'M':-1, 'feature_extractor':multinomial_model}\n",
    "\n",
    "rf_clf = RandomForestClassifier(n_estimators=50, max_features=1)\n",
    "rf_par = {'M':1265, 'feature_extractor':tfidf}\n",
    "\n",
    "clfs = {'LogisticRegression': lg_clf, 'NaiveBayes':nb_clf, 'RandomForest':rf_clf}\n",
    "f_pars = {'LogisticRegression': lg_par, 'NaiveBayes':nb_par, 'RandomForest':rf_par}\n",
    "\n",
    "res = box_plot(corpus, clfs, f_pars, n_folds=20)"
   ]
  },
  {
   "cell_type": "raw",
   "metadata": {
    "collapsed": false
   },
   "source": [
    "scores, scores_, f1_scores, sort = res"
   ]
  },
  {
   "cell_type": "raw",
   "metadata": {
    "collapsed": false
   },
   "source": [
    "with open('cv_results/box_plot_data.pkl', 'wb+') as f:\n",
    "    pickle.dump([scores, scores_, f1_scores, sort], f)"
   ]
  },
  {
   "cell_type": "code",
   "execution_count": 44,
   "metadata": {
    "collapsed": true
   },
   "outputs": [],
   "source": [
    "with open('cv_results/box_plot_data.pkl', 'rb') as f:\n",
    "    scores, scores_, f1_scores, sort = pickle.load(f)"
   ]
  },
  {
   "cell_type": "code",
   "execution_count": 6,
   "metadata": {
    "collapsed": false
   },
   "outputs": [
    {
     "data": {
      "image/png": "[encoded data removed]",
      "text/plain": [
       "<matplotlib.figure.Figure at 0x1031c5198>"
      ]
     },
     "metadata": {},
     "output_type": "display_data"
    }
   ],
   "source": [
    "data = []\n",
    "for clf_name in scores.keys():\n",
    "    data.append(scores[clf_name][:,0])\n",
    "\n",
    "plt.figure(figsize=(10, 3))\n",
    "plt.title('accuracy')\n",
    "plt.boxplot(data, vert=False, widths=0.7, meanline=True)\n",
    "lables = np.append(['avarage'],corpus.cats[:])\n",
    "plt.yticks(np.arange(3)+1, list(scores.keys()), rotation=0, ha='right')\n",
    "plt.show() "
   ]
  },
  {
   "cell_type": "code",
   "execution_count": 7,
   "metadata": {
    "collapsed": false
   },
   "outputs": [
    {
     "name": "stdout",
     "output_type": "stream",
     "text": [
      "LogisticRegression : 0.606049909445\n",
      "RandomForest : 0.578322790826\n",
      "NaiveBayes : 0.604381072058\n"
     ]
    }
   ],
   "source": [
    "for clf_name in scores.keys():\n",
    "    print(clf_name + \" : \" + str(scores[clf_name][:,0].mean()))"
   ]
  },
  {
   "cell_type": "code",
   "execution_count": 8,
   "metadata": {
    "collapsed": false
   },
   "outputs": [
    {
     "data": {
      "image/png": "[encoded data removed]",
      "text/plain": [
       "<matplotlib.figure.Figure at 0x1094ede80>"
      ]
     },
     "metadata": {},
     "output_type": "display_data"
    }
   ],
   "source": [
    "data = []\n",
    "for clf_name in scores.keys():\n",
    "    data.append(f1_scores[clf_name])\n",
    "\n",
    "plt.figure(figsize=(10, 3))\n",
    "plt.title('f1-score')\n",
    "f1_box_res = plt.boxplot(data, vert=False, widths=0.7, meanline=True)\n",
    "lables = np.append(['f1-score'],corpus.cats[:])\n",
    "plt.yticks(np.arange(3)+1, list(scores.keys()), rotation=0, ha='right')\n",
    "plt.show() "
   ]
  },
  {
   "cell_type": "code",
   "execution_count": 9,
   "metadata": {
    "collapsed": false
   },
   "outputs": [
    {
     "name": "stdout",
     "output_type": "stream",
     "text": [
      "LogisticRegression : 0.552599767924\n",
      "RandomForest : 0.52335942251\n",
      "NaiveBayes : 0.549118229158\n"
     ]
    }
   ],
   "source": [
    "for clf_name in scores.keys():\n",
    "    print(clf_name + \" : \" + str(f1_scores[clf_name].mean()))"
   ]
  },
  {
   "cell_type": "code",
   "execution_count": 14,
   "metadata": {
    "collapsed": false
   },
   "outputs": [
    {
     "data": {
      "text/plain": [
       "WilcoxonResult(statistic=19.0, pvalue=0.0013245375247995077)"
      ]
     },
     "execution_count": 14,
     "metadata": {},
     "output_type": "execute_result"
    }
   ],
   "source": [
    "wilcoxon(f1_scores['NaiveBayes'], f1_scores['RandomForest'])"
   ]
  },
  {
   "cell_type": "code",
   "execution_count": 8,
   "metadata": {
    "collapsed": false
   },
   "outputs": [
    {
     "data": {
      "image/png": "[encoded data removed]",
      "text/plain": [
       "<matplotlib.figure.Figure at 0x1095a7e80>"
      ]
     },
     "metadata": {},
     "output_type": "display_data"
    }
   ],
   "source": [
    "plt.figure(figsize=(14, 8))\n",
    "\n",
    "sco = scores['RandomForest']\n",
    "sort = (-sco[:,1:].mean(axis=0)).argsort()\n",
    "sco[:,1:] =  sco[:,1:][:,sort]\n",
    "\n",
    "plt.boxplot(sco, vert=True, widths=0.7)\n",
    "lables = np.append(['avarage'],corpus.cats[:][sort])\n",
    "plt.xticks(np.arange(15)+1, lables, rotation=30, ha='right')\n",
    "plt.axvline(1.5, c='b')\n",
    "\n",
    "plt.show() "
   ]
  },
  {
   "cell_type": "code",
   "execution_count": 47,
   "metadata": {
    "collapsed": false
   },
   "outputs": [
    {
     "data": {
      "image/png": "[encoded data removed]",
      "text/plain": [
       "<matplotlib.figure.Figure at 0x10aa04390>"
      ]
     },
     "metadata": {},
     "output_type": "display_data"
    }
   ],
   "source": [
    "import matplotlib.patches as mpatches\n",
    "plt.figure(figsize=(18, 10))\n",
    "\n",
    "sco = scores['LogisticRegression']\n",
    "sort = (-sco[:,1:].mean(axis=0)).argsort()\n",
    "\n",
    "data = []\n",
    "for i in sort+1:\n",
    "    data.append(scores['LogisticRegression'][:,i])\n",
    "    data.append(scores['NaiveBayes'][:,i])\n",
    "    data.append(scores['RandomForest'][:,i])\n",
    "                                       \n",
    "box_plt = plt.boxplot(data, vert=True, widths=0.7, patch_artist=True)\n",
    "\n",
    "#colors = ['cyan', 'lightblue', 'lightgreen', 'tan', 'pink']\n",
    "colors = ['tan', 'cyan', 'lightgreen', 'tan', 'pink']\n",
    "\n",
    "i = 0\n",
    "for patch in box_plt['boxes']:\n",
    "    patch.set_facecolor(colors[i%3])\n",
    "    i += 1\n",
    "\n",
    "lables = corpus.cats[:][sort]\n",
    "\n",
    "plt.xticks(3*np.arange(14)+2, lables, rotation=30, ha='right')\n",
    "for i in range(13):\n",
    "    plt.axvline(i*3 + 3.5, c='lightblue')\n",
    "\n",
    "lr_legend = mpatches.Patch(color='tan', label='LogisticRegression')\n",
    "nb_legend = mpatches.Patch(color='cyan', label='NaiveBayes')\n",
    "rf_legend = mpatches.Patch(color='lightgreen', label='RandomForest')\n",
    "plt.legend(handles=[lr_legend, nb_legend, rf_legend])\n",
    "    \n",
    "plt.show() "
   ]
  },
  {
   "cell_type": "code",
   "execution_count": 46,
   "metadata": {
    "collapsed": false
   },
   "outputs": [
    {
     "data": {
      "text/plain": [
       "array([ 2,  4,  9, 10,  8, 12, 11,  3,  0, 13,  7,  1,  6,  5])"
      ]
     },
     "execution_count": 46,
     "metadata": {},
     "output_type": "execute_result"
    }
   ],
   "source": [
    "sort"
   ]
  },
  {
   "cell_type": "code",
   "execution_count": null,
   "metadata": {
    "collapsed": true
   },
   "outputs": [],
   "source": []
  }
 ],
 "metadata": {
  "kernelspec": {
   "display_name": "Python 3",
   "language": "python",
   "name": "python3"
  },
  "language_info": {
   "codemirror_mode": {
    "name": "ipython",
    "version": 3
   },
   "file_extension": ".py",
   "mimetype": "text/x-python",
   "name": "python",
   "nbconvert_exporter": "python",
   "pygments_lexer": "ipython3",
   "version": "3.5.1"
  }
 },
 "nbformat": 4,
 "nbformat_minor": 0
}
