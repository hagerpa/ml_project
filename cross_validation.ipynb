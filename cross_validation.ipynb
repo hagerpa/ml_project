{
 "cells": [
  {
   "cell_type": "code",
   "execution_count": 1,
   "metadata": {
    "collapsed": false
   },
   "outputs": [],
   "source": [
    "from sklearn.model_selection import StratifiedKFold, StratifiedShuffleSplit\n",
    "from sklearn.naive_bayes import MultinomialNB\n",
    "from sklearn.linear_model import LogisticRegression\n",
    "from sklearn.ensemble import RandomForestClassifier\n",
    "from sklearn.metrics import f1_score as f1_scorer\n",
    "import corpus as corpus_class\n",
    "from filters import std_filters\n",
    "import categories\n",
    "import numpy as np\n",
    "from scipy import sparse\n",
    "import csv"
   ]
  },
  {
   "cell_type": "markdown",
   "metadata": {
    "collapsed": false
   },
   "source": [
    "corpus = corpus_class.corpus( categories.categories() )\n",
    "corpus.load(\"question_train.csv\", \"question_category_train.csv\")\n",
    "corpus.process(**std_filters(), corpus_size=-1)\n",
    "corpus.save()"
   ]
  },
  {
   "cell_type": "code",
   "execution_count": 2,
   "metadata": {
    "collapsed": false
   },
   "outputs": [],
   "source": [
    "corpus = corpus_class.load_from_file()"
   ]
  },
  {
   "cell_type": "code",
   "execution_count": 11,
   "metadata": {
    "collapsed": false,
    "scrolled": true
   },
   "outputs": [
    {
     "name": "stdout",
     "output_type": "stream",
     "text": [
      "[ 0.51191244  0.5299111   0.53441785] 0.525413794828\n"
     ]
    }
   ],
   "source": [
    "#clf = MultinomialNB(alpha=0.01)\n",
    "clf = LogisticRegression(penalty='l1', C=4, solver='liblinear')"
   ]
  },
  {
   "cell_type": "code",
   "execution_count": 265,
   "metadata": {
    "collapsed": false
   },
   "outputs": [],
   "source": [
    "import time, csv, pickle\n",
    "import itertools as it\n",
    "\n",
    "def CV(corpus, clf_class, clf_name, clf_params, feat_params, n_folds):\n",
    "    file_name = \"cv_results/\" + clf_name\n",
    "    file_name += time.strftime(\"_%Y-%m-%d_%H-%M\", time.gmtime())\n",
    "    header = [\"id\", \"f1\", \"accuracy\", \"time\"] + list(feat_params[0].keys()) + list(clf_params[0].keys())\n",
    "    \n",
    "    csv_file = open(file_name+\".csv\", 'w+')\n",
    "    csv_writer = csv.writer(csv_file)\n",
    "    csv_writer.writerow(header)\n",
    "    \n",
    "    pkl_file = open(file_name+\".pkl\", 'wb+')\n",
    "    results = {}\n",
    "    \n",
    "    corpus.cv_split(n_folds)\n",
    "    \n",
    "    idx = 0\n",
    "    for c_par, f_par in it.product(clf_params, feat_params):\n",
    "        results[idx] = {}\n",
    "        results[idx]['feat_params'] = f_par\n",
    "        results[idx]['clf_params'] = c_par\n",
    "        \n",
    "        f1_scores, acc_scores, times = [], [], []\n",
    "        \n",
    "        fold = 0\n",
    "        for coprus in corpus:\n",
    "            results[idx][fold] = {}\n",
    "            corpus.make_features(**f_par)\n",
    "            \n",
    "            t = time.time() ### Time measure A ###\n",
    "            \n",
    "            clf = clf_class(**c_par)\n",
    "            clf.fit(corpus.X_tr, corpus.y_tr)\n",
    "            y_pred = clf.predict(corpus.X_te)\n",
    "            \n",
    "            dt = time.time() - t ### Time measure B ###\n",
    "            \n",
    "            acc = clf.score(corpus.X_te, corpus.y_te)\n",
    "            f1 = f1_scorer(corpus.y_te, y_pred, average=\"macro\")\n",
    "            \n",
    "            f1_scores += [ f1 ]\n",
    "            acc_scores += [ acc ]\n",
    "            times += [ dt ]\n",
    "            \n",
    "            results[idx][fold]['acc_score'] = acc\n",
    "            results[idx][fold]['y_pred'] = y_pred\n",
    "            results[idx][fold]['f1_score'] = f1\n",
    "            results[idx][fold]['time'] = dt\n",
    "            \n",
    "            fold += 1\n",
    "\n",
    "        results[idx]['f1_score'] = np.mean(f1_scores)\n",
    "        results[idx]['acc_score'] = np.mean(acc_scores)\n",
    "        results[idx]['time'] = np.mean(times)\n",
    "        \n",
    "        row = [ idx ]\n",
    "        row += [results[idx]['f1_score'], results[idx]['acc_score'], results[idx]['time']]\n",
    "        row += list(f_par.values()) + list(c_par.values())\n",
    "        csv_writer.writerow( row )\n",
    "        \n",
    "        corpus.reset()\n",
    "        idx += 1\n",
    "    \n",
    "    pickle.dump(results, pkl_file)\n",
    "    \n",
    "    csv_file.close()\n",
    "    pkl_file.close()"
   ]
  },
  {
   "cell_type": "code",
   "execution_count": 266,
   "metadata": {
    "collapsed": false
   },
   "outputs": [
    {
     "data": {
      "text/plain": [
       "([{'alpha': 1.0000000000000001e-05},\n",
       "  {'alpha': 0.0001},\n",
       "  {'alpha': 0.001},\n",
       "  {'alpha': 0.01},\n",
       "  {'alpha': 0.10000000000000001},\n",
       "  {'alpha': 1.0},\n",
       "  {'alpha': 10.0}],\n",
       " [{'M': 64},\n",
       "  {'M': 134},\n",
       "  {'M': 284},\n",
       "  {'M': 600},\n",
       "  {'M': 1265},\n",
       "  {'M': 2667},\n",
       "  {'M': 5624},\n",
       "  {'M': -1}])"
      ]
     },
     "execution_count": 266,
     "metadata": {},
     "output_type": "execute_result"
    }
   ],
   "source": []
  },
  {
   "cell_type": "code",
   "execution_count": 274,
   "metadata": {
    "collapsed": false
   },
   "outputs": [
    {
     "name": "stderr",
     "output_type": "stream",
     "text": [
      "/Library/Frameworks/Python.framework/Versions/3.5/lib/python3.5/site-packages/sklearn/metrics/classification.py:1113: UndefinedMetricWarning: F-score is ill-defined and being set to 0.0 in labels with no predicted samples.\n",
      "  'precision', 'predicted', average, warn_for)\n"
     ]
    }
   ],
   "source": [
    "CV(corpus, *LogisticRegression_params(), 3)"
   ]
  },
  {
   "cell_type": "code",
   "execution_count": 275,
   "metadata": {
    "collapsed": false
   },
   "outputs": [
    {
     "name": "stdout",
     "output_type": "stream",
     "text": [
      "id     f1_score        acc_score       M               alpha           time           \n",
      "31     0.521           0.577           -1              0.01            0.026          \n",
      "30     0.518           0.575           5624            0.01            0.047          \n",
      "39     0.513           0.594           -1              0.1             0.032          \n",
      "36     0.513           0.571           1265            0.1             0.023          \n",
      "23     0.512           0.566           -1              0.001           0.03           \n",
      "22     0.511           0.567           5624            0.001           0.027          \n",
      "37     0.51            0.576           2667            0.1             0.019          \n",
      "28     0.51            0.567           1265            0.01            0.028          \n",
      "29     0.51            0.567           2667            0.01            0.019          \n",
      "20     0.508           0.565           1265            0.001           0.029          \n",
      "38     0.507           0.584           5624            0.1             0.018          \n",
      "14     0.507           0.563           5624            0.0001          0.019          \n",
      "15     0.507           0.561           -1              0.0001          0.035          \n",
      "12     0.507           0.563           1265            0.0001          0.025          \n",
      "4      0.506           0.562           1265            1e-05           0.023          \n",
      "21     0.505           0.563           2667            0.001           0.018          \n",
      "6      0.504           0.561           5624            1e-05           0.015          \n",
      "7      0.503           0.558           -1              1e-05           0.033          \n",
      "13     0.503           0.561           2667            0.0001          0.021          \n",
      "5      0.502           0.559           2667            1e-05           0.02           \n",
      "19     0.491           0.549           600             0.001           0.032          \n",
      "27     0.49            0.55            600             0.01            0.022          \n",
      "11     0.489           0.548           600             0.0001          0.022          \n",
      "3      0.488           0.548           600             1e-05           0.0095         \n",
      "35     0.487           0.551           600             0.1             0.011          \n",
      "18     0.454           0.522           284             0.001           0.03           \n",
      "26     0.454           0.522           284             0.01            0.016          \n",
      "2      0.454           0.522           284             1e-05           0.015          \n",
      "10     0.453           0.521           284             0.0001          0.011          \n",
      "34     0.453           0.522           284             0.1             0.014          \n",
      "44     0.444           0.552           1265            1.0             0.018          \n",
      "43     0.442           0.542           600             1.0             0.018          \n",
      "42     0.431           0.52            284             1.0             0.012          \n",
      "45     0.405           0.541           2667            1.0             0.019          \n",
      "33     0.388           0.483           134             0.1             0.011          \n",
      "17     0.387           0.483           134             0.001           0.016          \n",
      "1      0.387           0.482           134             1e-05           0.016          \n",
      "9      0.387           0.482           134             0.0001          0.0093         \n",
      "25     0.387           0.483           134             0.01            0.013          \n",
      "41     0.375           0.48            134             1.0             0.021          \n",
      "47     0.37            0.53            -1              1.0             0.027          \n",
      "46     0.37            0.526           5624            1.0             0.017          \n",
      "32     0.325           0.434           64              0.1             0.032          \n",
      "24     0.325           0.434           64              0.01            0.0097         \n",
      "16     0.325           0.434           64              0.001           0.016          \n",
      "0      0.325           0.434           64              1e-05           0.021          \n",
      "8      0.325           0.434           64              0.0001          0.01           \n",
      "40     0.321           0.435           64              1.0             0.024          \n",
      "49     0.284           0.445           134             1e+01           0.0095         \n",
      "50     0.266           0.45            284             1e+01           0.059          \n",
      "48     0.263           0.413           64              1e+01           0.014          \n",
      "51     0.239           0.44            600             1e+01           0.018          \n",
      "52     0.21            0.427           1265            1e+01           0.012          \n",
      "53     0.197           0.42            2667            1e+01           0.021          \n",
      "54     0.179           0.408           5624            1e+01           0.022          \n",
      "55     0.165           0.394           -1              1e+01           0.035          \n"
     ]
    }
   ],
   "source": [
    "with open(\"cv_results/\"+\"MultinomialNB_2016-12-25_16-48.pkl\", 'rb') as file:\n",
    "    file.seek(0)\n",
    "    results = pickle.load(file)\n",
    "    \n",
    "    f1_scores = -np.array([results[i][\"f1_score\"] for i in results])\n",
    "    best_idx = f1_scores.argsort()\n",
    "    \n",
    "    print(\"{0:6} {1:15} {2:15} {3:15} {4:15} {5:15}\".format(\"id\", \"f1_score\", \"acc_score\", \"M\", \"alpha\", \"time\"))\n",
    "    for idx in best_idx:\n",
    "        print(\"{0:<6} {f1_score:<15.3} {acc_score:<15.3} {feat_params[M]:<15} \\\n",
    "{clf_params[alpha]:<15.2} {time:<15.2}\".format(idx, **results[idx])\n",
    "        )"
   ]
  },
  {
   "cell_type": "code",
   "execution_count": null,
   "metadata": {
    "collapsed": true
   },
   "outputs": [],
   "source": [
    "def MultinomialNB_params():\n",
    "    clf_class = MultinomialNB\n",
    "    clf_name = \"MultinomialNB\"\n",
    "    clf_params = [{\"alpha\":M} for M in np.logspace(-5,1,7)]\n",
    "\n",
    "    M_max = np.log2(len(corpus.all_terms))-1\n",
    "    feat_params = [{\"M\":int(M)} for M in np.logspace(6,M_max,7, base=2)]\n",
    "    feat_params += [{\"M\":-1}]\n",
    "\n",
    "    return clf_class, clf_name, clf_params, feat_params"
   ]
  },
  {
   "cell_type": "code",
   "execution_count": 277,
   "metadata": {
    "collapsed": false
   },
   "outputs": [],
   "source": [
    "def LogisticRegression_params():\n",
    "    clf_class = LogisticRegression\n",
    "    clf_name = \"LogisticRegression\"\n",
    "    clf_params = [{\"C\":M, \"penalty\": 'l1', \"solver\": 'liblinear'} for M in np.logspace(-5,1,7)]\n",
    "    feat_params = [{\"M\":-1}]\n",
    "    \n",
    "    return clf_class, clf_name, clf_params, feat_params"
   ]
  },
  {
   "cell_type": "code",
   "execution_count": 278,
   "metadata": {
    "collapsed": false
   },
   "outputs": [
    {
     "data": {
      "text/plain": [
       "(sklearn.linear_model.logistic.LogisticRegression,\n",
       " 'LogisticRegression',\n",
       " [{'C': 1.0000000000000001e-05, 'penalty': 'l1', 'solver': 'liblinear'},\n",
       "  {'C': 0.0001, 'penalty': 'l1', 'solver': 'liblinear'},\n",
       "  {'C': 0.001, 'penalty': 'l1', 'solver': 'liblinear'},\n",
       "  {'C': 0.01, 'penalty': 'l1', 'solver': 'liblinear'},\n",
       "  {'C': 0.10000000000000001, 'penalty': 'l1', 'solver': 'liblinear'},\n",
       "  {'C': 1.0, 'penalty': 'l1', 'solver': 'liblinear'},\n",
       "  {'C': 10.0, 'penalty': 'l1', 'solver': 'liblinear'}],\n",
       " [{'M': -1}])"
      ]
     },
     "execution_count": 278,
     "metadata": {},
     "output_type": "execute_result"
    }
   ],
   "source": [
    "LogisticRegression_params()"
   ]
  },
  {
   "cell_type": "code",
   "execution_count": null,
   "metadata": {
    "collapsed": true
   },
   "outputs": [],
   "source": []
  }
 ],
 "metadata": {
  "kernelspec": {
   "display_name": "Python 3",
   "language": "python",
   "name": "python3"
  },
  "language_info": {
   "codemirror_mode": {
    "name": "ipython",
    "version": 3
   },
   "file_extension": ".py",
   "mimetype": "text/x-python",
   "name": "python",
   "nbconvert_exporter": "python",
   "pygments_lexer": "ipython3",
   "version": "3.5.1"
  }
 },
 "nbformat": 4,
 "nbformat_minor": 0
}
