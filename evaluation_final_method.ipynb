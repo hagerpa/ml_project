{
 "cells": [
  {
   "cell_type": "code",
   "execution_count": 1,
   "metadata": {
    "collapsed": false
   },
   "outputs": [],
   "source": [
    "from sklearn.ensemble import VotingClassifier, RandomForestClassifier\n",
    "from sklearn.metrics import f1_score as f1_scorer\n",
    "import corpus as corpus_class\n",
    "corpus = corpus_class.load_from_file()\n",
    "from numpy.random import randint as RandInt\n",
    "import numpy as np\n",
    "from sklearn.model_selection import StratifiedKFold\n",
    "from sklearn.metrics.classification import UndefinedMetricWarning\n",
    "import pandas as pd\n",
    "\n",
    "from transform import RandForestPS\n",
    "\n",
    "import warnings\n",
    "warnings.simplefilter(\"ignore\", np.VisibleDeprecationWarning)\n",
    "warnings.simplefilter(\"ignore\", UndefinedMetricWarning)"
   ]
  },
  {
   "cell_type": "code",
   "execution_count": 2,
   "metadata": {
    "collapsed": false
   },
   "outputs": [],
   "source": [
    "from os import listdir\n",
    "import pickle\n",
    "\n",
    "ESTIMATORS = []\n",
    "for f in listdir(\"best_estimators\"):\n",
    "    with open(\"best_estimators/\"+f, 'rb') as file:\n",
    "        ESTIMATORS += [ ( f[:-4], pickle.load(file) ) ]\n",
    "CLFS = [clf for _, clf in ESTIMATORS]"
   ]
  },
  {
   "cell_type": "code",
   "execution_count": 33,
   "metadata": {
    "collapsed": true
   },
   "outputs": [],
   "source": [
    "(X_tr, y_tr), (X_te, y_te) = corpus.simple_split(1/6)"
   ]
  },
  {
   "cell_type": "code",
   "execution_count": 34,
   "metadata": {
    "collapsed": false
   },
   "outputs": [
    {
     "data": {
      "text/plain": [
       "(0.60121898127993034, 0.55005467053455381)"
      ]
     },
     "execution_count": 34,
     "metadata": {},
     "output_type": "execute_result"
    }
   ],
   "source": [
    "bcf = VotingClassifier(estimators=ESTIMATORS, voting='hard') \n",
    "bcf.fit(X_tr, y_tr)\n",
    "bcf.score(X_te, y_te), f1_scorer(bcf.predict( X_te ), y_te, average=\"macro\")"
   ]
  },
  {
   "cell_type": "code",
   "execution_count": 57,
   "metadata": {
    "collapsed": false
   },
   "outputs": [
    {
     "data": {
      "text/plain": [
       "<transform.RandForestPS at 0x7fbeef375b00>"
      ]
     },
     "execution_count": 57,
     "metadata": {},
     "output_type": "execute_result"
    }
   ],
   "source": [
    "final_clf = RandForestPS(CLFS, \n",
    "                         n_folds=8, \n",
    "                         n_estimators=30, \n",
    "                         max_features=10,\n",
    "                         max_depth=None,\n",
    "                         min_samples_leaf=10, \n",
    "                         min_samples_split=10)\n",
    "BEST_RF.fit( X_tr, y_tr )"
   ]
  },
  {
   "cell_type": "code",
   "execution_count": 58,
   "metadata": {
    "collapsed": false
   },
   "outputs": [
    {
     "data": {
      "text/plain": [
       "(0.6068785372224641, 0.55486873628343636)"
      ]
     },
     "execution_count": 58,
     "metadata": {},
     "output_type": "execute_result"
    }
   ],
   "source": [
    "BEST_RF.score( X_te, y_te ), f1_scorer(BEST_RF.predict( X_te ), y_te, average=\"macro\")"
   ]
  },
  {
   "cell_type": "markdown",
   "metadata": {},
   "source": [
    "# Cross Validation"
   ]
  },
  {
   "cell_type": "code",
   "execution_count": 48,
   "metadata": {
    "collapsed": true
   },
   "outputs": [],
   "source": [
    "from scipy.stats import randint as RandInt\n",
    "from sklearn.model_selection import GridSearchCV"
   ]
  },
  {
   "cell_type": "code",
   "execution_count": 53,
   "metadata": {
    "collapsed": false
   },
   "outputs": [],
   "source": [
    "RF = RandForestPS(estimators=CLFS, n_folds=6)\n",
    "\n",
    "RF_PARAMS = {\n",
    "    \"n_estimators\": [30],\n",
    "    \"max_depth\": [None],\n",
    "    \"max_features\": [1, 2, 5, 6, 7, 10, 15],\n",
    "    \"min_samples_split\": [2, 5, 10, 15],\n",
    "    \"min_samples_leaf\": [1, 2, 5, 10, 15]\n",
    "}\n",
    "\n",
    "RF_CV = GridSearchCV(RF, RF_PARAMS,\n",
    "                           scoring='f1_macro', fit_params=None, n_jobs=-1, \n",
    "                           iid=False, refit=True, cv=6, verbose=0, \n",
    "                           pre_dispatch='2*n_jobs',\n",
    "                           error_score='raise', return_train_score=True)"
   ]
  },
  {
   "cell_type": "code",
   "execution_count": 54,
   "metadata": {
    "collapsed": false
   },
   "outputs": [
    {
     "data": {
      "text/plain": [
       "GridSearchCV(cv=6, error_score='raise',\n",
       "       estimator=<transform.RandForestPS object at 0x7fbeed46c2e8>,\n",
       "       fit_params={}, iid=False, n_jobs=-1,\n",
       "       param_grid={'n_estimators': [30], 'max_features': [1, 2, 5, 6, 7, 10, 15], 'min_samples_split': [2, 5, 10, 15], 'min_samples_leaf': [1, 2, 5, 10, 15], 'max_depth': [None]},\n",
       "       pre_dispatch='2*n_jobs', refit=True, return_train_score=True,\n",
       "       scoring='f1_macro', verbose=0)"
      ]
     },
     "execution_count": 54,
     "metadata": {},
     "output_type": "execute_result"
    }
   ],
   "source": [
    "RF_CV.fit(corpus.X_all, corpus.y)"
   ]
  },
  {
   "cell_type": "code",
   "execution_count": 55,
   "metadata": {
    "collapsed": false
   },
   "outputs": [],
   "source": [
    "BEST_RF = RF_CV.best_estimator_"
   ]
  },
  {
   "cell_type": "code",
   "execution_count": 56,
   "metadata": {
    "collapsed": false,
    "scrolled": true
   },
   "outputs": [
    {
     "data": {
      "text/html": [
       "<div>\n",
       "<table border=\"1\" class=\"dataframe\">\n",
       "  <thead>\n",
       "    <tr style=\"text-align: right;\">\n",
       "      <th></th>\n",
       "      <th>mean_test_score</th>\n",
       "      <th>param_max_features</th>\n",
       "      <th>param_max_depth</th>\n",
       "      <th>param_min_samples_split</th>\n",
       "      <th>param_min_samples_leaf</th>\n",
       "      <th>param_n_estimators</th>\n",
       "    </tr>\n",
       "  </thead>\n",
       "  <tbody>\n",
       "    <tr>\n",
       "      <th>114</th>\n",
       "      <td>0.563871</td>\n",
       "      <td>10</td>\n",
       "      <td>None</td>\n",
       "      <td>10</td>\n",
       "      <td>10</td>\n",
       "      <td>30</td>\n",
       "    </tr>\n",
       "    <tr>\n",
       "      <th>132</th>\n",
       "      <td>0.563343</td>\n",
       "      <td>15</td>\n",
       "      <td>None</td>\n",
       "      <td>2</td>\n",
       "      <td>10</td>\n",
       "      <td>30</td>\n",
       "    </tr>\n",
       "    <tr>\n",
       "      <th>115</th>\n",
       "      <td>0.563065</td>\n",
       "      <td>10</td>\n",
       "      <td>None</td>\n",
       "      <td>15</td>\n",
       "      <td>10</td>\n",
       "      <td>30</td>\n",
       "    </tr>\n",
       "    <tr>\n",
       "      <th>90</th>\n",
       "      <td>0.563064</td>\n",
       "      <td>7</td>\n",
       "      <td>None</td>\n",
       "      <td>10</td>\n",
       "      <td>5</td>\n",
       "      <td>30</td>\n",
       "    </tr>\n",
       "    <tr>\n",
       "      <th>136</th>\n",
       "      <td>0.562787</td>\n",
       "      <td>15</td>\n",
       "      <td>None</td>\n",
       "      <td>2</td>\n",
       "      <td>15</td>\n",
       "      <td>30</td>\n",
       "    </tr>\n",
       "    <tr>\n",
       "      <th>127</th>\n",
       "      <td>0.562640</td>\n",
       "      <td>15</td>\n",
       "      <td>None</td>\n",
       "      <td>15</td>\n",
       "      <td>2</td>\n",
       "      <td>30</td>\n",
       "    </tr>\n",
       "    <tr>\n",
       "      <th>88</th>\n",
       "      <td>0.562155</td>\n",
       "      <td>7</td>\n",
       "      <td>None</td>\n",
       "      <td>2</td>\n",
       "      <td>5</td>\n",
       "      <td>30</td>\n",
       "    </tr>\n",
       "    <tr>\n",
       "      <th>103</th>\n",
       "      <td>0.562114</td>\n",
       "      <td>10</td>\n",
       "      <td>None</td>\n",
       "      <td>15</td>\n",
       "      <td>1</td>\n",
       "      <td>30</td>\n",
       "    </tr>\n",
       "    <tr>\n",
       "      <th>139</th>\n",
       "      <td>0.561942</td>\n",
       "      <td>15</td>\n",
       "      <td>None</td>\n",
       "      <td>15</td>\n",
       "      <td>15</td>\n",
       "      <td>30</td>\n",
       "    </tr>\n",
       "    <tr>\n",
       "      <th>71</th>\n",
       "      <td>0.561869</td>\n",
       "      <td>6</td>\n",
       "      <td>None</td>\n",
       "      <td>15</td>\n",
       "      <td>5</td>\n",
       "      <td>30</td>\n",
       "    </tr>\n",
       "    <tr>\n",
       "      <th>135</th>\n",
       "      <td>0.561396</td>\n",
       "      <td>15</td>\n",
       "      <td>None</td>\n",
       "      <td>15</td>\n",
       "      <td>10</td>\n",
       "      <td>30</td>\n",
       "    </tr>\n",
       "    <tr>\n",
       "      <th>124</th>\n",
       "      <td>0.560836</td>\n",
       "      <td>15</td>\n",
       "      <td>None</td>\n",
       "      <td>2</td>\n",
       "      <td>2</td>\n",
       "      <td>30</td>\n",
       "    </tr>\n",
       "    <tr>\n",
       "      <th>97</th>\n",
       "      <td>0.560800</td>\n",
       "      <td>7</td>\n",
       "      <td>None</td>\n",
       "      <td>5</td>\n",
       "      <td>15</td>\n",
       "      <td>30</td>\n",
       "    </tr>\n",
       "    <tr>\n",
       "      <th>107</th>\n",
       "      <td>0.560764</td>\n",
       "      <td>10</td>\n",
       "      <td>None</td>\n",
       "      <td>15</td>\n",
       "      <td>2</td>\n",
       "      <td>30</td>\n",
       "    </tr>\n",
       "    <tr>\n",
       "      <th>128</th>\n",
       "      <td>0.560681</td>\n",
       "      <td>15</td>\n",
       "      <td>None</td>\n",
       "      <td>2</td>\n",
       "      <td>5</td>\n",
       "      <td>30</td>\n",
       "    </tr>\n",
       "    <tr>\n",
       "      <th>117</th>\n",
       "      <td>0.560618</td>\n",
       "      <td>10</td>\n",
       "      <td>None</td>\n",
       "      <td>5</td>\n",
       "      <td>15</td>\n",
       "      <td>30</td>\n",
       "    </tr>\n",
       "    <tr>\n",
       "      <th>83</th>\n",
       "      <td>0.560607</td>\n",
       "      <td>7</td>\n",
       "      <td>None</td>\n",
       "      <td>15</td>\n",
       "      <td>1</td>\n",
       "      <td>30</td>\n",
       "    </tr>\n",
       "    <tr>\n",
       "      <th>82</th>\n",
       "      <td>0.560597</td>\n",
       "      <td>7</td>\n",
       "      <td>None</td>\n",
       "      <td>10</td>\n",
       "      <td>1</td>\n",
       "      <td>30</td>\n",
       "    </tr>\n",
       "    <tr>\n",
       "      <th>109</th>\n",
       "      <td>0.560540</td>\n",
       "      <td>10</td>\n",
       "      <td>None</td>\n",
       "      <td>5</td>\n",
       "      <td>5</td>\n",
       "      <td>30</td>\n",
       "    </tr>\n",
       "    <tr>\n",
       "      <th>87</th>\n",
       "      <td>0.560503</td>\n",
       "      <td>7</td>\n",
       "      <td>None</td>\n",
       "      <td>15</td>\n",
       "      <td>2</td>\n",
       "      <td>30</td>\n",
       "    </tr>\n",
       "    <tr>\n",
       "      <th>131</th>\n",
       "      <td>0.560342</td>\n",
       "      <td>15</td>\n",
       "      <td>None</td>\n",
       "      <td>15</td>\n",
       "      <td>5</td>\n",
       "      <td>30</td>\n",
       "    </tr>\n",
       "    <tr>\n",
       "      <th>91</th>\n",
       "      <td>0.560184</td>\n",
       "      <td>7</td>\n",
       "      <td>None</td>\n",
       "      <td>15</td>\n",
       "      <td>5</td>\n",
       "      <td>30</td>\n",
       "    </tr>\n",
       "    <tr>\n",
       "      <th>85</th>\n",
       "      <td>0.560102</td>\n",
       "      <td>7</td>\n",
       "      <td>None</td>\n",
       "      <td>5</td>\n",
       "      <td>2</td>\n",
       "      <td>30</td>\n",
       "    </tr>\n",
       "    <tr>\n",
       "      <th>113</th>\n",
       "      <td>0.560067</td>\n",
       "      <td>10</td>\n",
       "      <td>None</td>\n",
       "      <td>5</td>\n",
       "      <td>10</td>\n",
       "      <td>30</td>\n",
       "    </tr>\n",
       "    <tr>\n",
       "      <th>133</th>\n",
       "      <td>0.559991</td>\n",
       "      <td>15</td>\n",
       "      <td>None</td>\n",
       "      <td>5</td>\n",
       "      <td>10</td>\n",
       "      <td>30</td>\n",
       "    </tr>\n",
       "    <tr>\n",
       "      <th>137</th>\n",
       "      <td>0.559784</td>\n",
       "      <td>15</td>\n",
       "      <td>None</td>\n",
       "      <td>5</td>\n",
       "      <td>15</td>\n",
       "      <td>30</td>\n",
       "    </tr>\n",
       "    <tr>\n",
       "      <th>72</th>\n",
       "      <td>0.559779</td>\n",
       "      <td>6</td>\n",
       "      <td>None</td>\n",
       "      <td>2</td>\n",
       "      <td>10</td>\n",
       "      <td>30</td>\n",
       "    </tr>\n",
       "    <tr>\n",
       "      <th>43</th>\n",
       "      <td>0.559558</td>\n",
       "      <td>5</td>\n",
       "      <td>None</td>\n",
       "      <td>15</td>\n",
       "      <td>1</td>\n",
       "      <td>30</td>\n",
       "    </tr>\n",
       "    <tr>\n",
       "      <th>126</th>\n",
       "      <td>0.559480</td>\n",
       "      <td>15</td>\n",
       "      <td>None</td>\n",
       "      <td>10</td>\n",
       "      <td>2</td>\n",
       "      <td>30</td>\n",
       "    </tr>\n",
       "    <tr>\n",
       "      <th>134</th>\n",
       "      <td>0.559468</td>\n",
       "      <td>15</td>\n",
       "      <td>None</td>\n",
       "      <td>10</td>\n",
       "      <td>10</td>\n",
       "      <td>30</td>\n",
       "    </tr>\n",
       "    <tr>\n",
       "      <th>...</th>\n",
       "      <td>...</td>\n",
       "      <td>...</td>\n",
       "      <td>...</td>\n",
       "      <td>...</td>\n",
       "      <td>...</td>\n",
       "      <td>...</td>\n",
       "    </tr>\n",
       "    <tr>\n",
       "      <th>36</th>\n",
       "      <td>0.545759</td>\n",
       "      <td>2</td>\n",
       "      <td>None</td>\n",
       "      <td>2</td>\n",
       "      <td>15</td>\n",
       "      <td>30</td>\n",
       "    </tr>\n",
       "    <tr>\n",
       "      <th>31</th>\n",
       "      <td>0.545282</td>\n",
       "      <td>2</td>\n",
       "      <td>None</td>\n",
       "      <td>15</td>\n",
       "      <td>5</td>\n",
       "      <td>30</td>\n",
       "    </tr>\n",
       "    <tr>\n",
       "      <th>2</th>\n",
       "      <td>0.544968</td>\n",
       "      <td>1</td>\n",
       "      <td>None</td>\n",
       "      <td>10</td>\n",
       "      <td>1</td>\n",
       "      <td>30</td>\n",
       "    </tr>\n",
       "    <tr>\n",
       "      <th>20</th>\n",
       "      <td>0.544177</td>\n",
       "      <td>2</td>\n",
       "      <td>None</td>\n",
       "      <td>2</td>\n",
       "      <td>1</td>\n",
       "      <td>30</td>\n",
       "    </tr>\n",
       "    <tr>\n",
       "      <th>34</th>\n",
       "      <td>0.543901</td>\n",
       "      <td>2</td>\n",
       "      <td>None</td>\n",
       "      <td>10</td>\n",
       "      <td>10</td>\n",
       "      <td>30</td>\n",
       "    </tr>\n",
       "    <tr>\n",
       "      <th>39</th>\n",
       "      <td>0.543586</td>\n",
       "      <td>2</td>\n",
       "      <td>None</td>\n",
       "      <td>15</td>\n",
       "      <td>15</td>\n",
       "      <td>30</td>\n",
       "    </tr>\n",
       "    <tr>\n",
       "      <th>6</th>\n",
       "      <td>0.543360</td>\n",
       "      <td>1</td>\n",
       "      <td>None</td>\n",
       "      <td>10</td>\n",
       "      <td>2</td>\n",
       "      <td>30</td>\n",
       "    </tr>\n",
       "    <tr>\n",
       "      <th>35</th>\n",
       "      <td>0.543175</td>\n",
       "      <td>2</td>\n",
       "      <td>None</td>\n",
       "      <td>15</td>\n",
       "      <td>10</td>\n",
       "      <td>30</td>\n",
       "    </tr>\n",
       "    <tr>\n",
       "      <th>32</th>\n",
       "      <td>0.542749</td>\n",
       "      <td>2</td>\n",
       "      <td>None</td>\n",
       "      <td>2</td>\n",
       "      <td>10</td>\n",
       "      <td>30</td>\n",
       "    </tr>\n",
       "    <tr>\n",
       "      <th>37</th>\n",
       "      <td>0.541673</td>\n",
       "      <td>2</td>\n",
       "      <td>None</td>\n",
       "      <td>5</td>\n",
       "      <td>15</td>\n",
       "      <td>30</td>\n",
       "    </tr>\n",
       "    <tr>\n",
       "      <th>7</th>\n",
       "      <td>0.541511</td>\n",
       "      <td>1</td>\n",
       "      <td>None</td>\n",
       "      <td>15</td>\n",
       "      <td>2</td>\n",
       "      <td>30</td>\n",
       "    </tr>\n",
       "    <tr>\n",
       "      <th>33</th>\n",
       "      <td>0.541218</td>\n",
       "      <td>2</td>\n",
       "      <td>None</td>\n",
       "      <td>5</td>\n",
       "      <td>10</td>\n",
       "      <td>30</td>\n",
       "    </tr>\n",
       "    <tr>\n",
       "      <th>3</th>\n",
       "      <td>0.540114</td>\n",
       "      <td>1</td>\n",
       "      <td>None</td>\n",
       "      <td>15</td>\n",
       "      <td>1</td>\n",
       "      <td>30</td>\n",
       "    </tr>\n",
       "    <tr>\n",
       "      <th>11</th>\n",
       "      <td>0.539502</td>\n",
       "      <td>1</td>\n",
       "      <td>None</td>\n",
       "      <td>15</td>\n",
       "      <td>5</td>\n",
       "      <td>30</td>\n",
       "    </tr>\n",
       "    <tr>\n",
       "      <th>9</th>\n",
       "      <td>0.539238</td>\n",
       "      <td>1</td>\n",
       "      <td>None</td>\n",
       "      <td>5</td>\n",
       "      <td>5</td>\n",
       "      <td>30</td>\n",
       "    </tr>\n",
       "    <tr>\n",
       "      <th>38</th>\n",
       "      <td>0.538924</td>\n",
       "      <td>2</td>\n",
       "      <td>None</td>\n",
       "      <td>10</td>\n",
       "      <td>15</td>\n",
       "      <td>30</td>\n",
       "    </tr>\n",
       "    <tr>\n",
       "      <th>8</th>\n",
       "      <td>0.538350</td>\n",
       "      <td>1</td>\n",
       "      <td>None</td>\n",
       "      <td>2</td>\n",
       "      <td>5</td>\n",
       "      <td>30</td>\n",
       "    </tr>\n",
       "    <tr>\n",
       "      <th>4</th>\n",
       "      <td>0.536490</td>\n",
       "      <td>1</td>\n",
       "      <td>None</td>\n",
       "      <td>2</td>\n",
       "      <td>2</td>\n",
       "      <td>30</td>\n",
       "    </tr>\n",
       "    <tr>\n",
       "      <th>1</th>\n",
       "      <td>0.535526</td>\n",
       "      <td>1</td>\n",
       "      <td>None</td>\n",
       "      <td>5</td>\n",
       "      <td>1</td>\n",
       "      <td>30</td>\n",
       "    </tr>\n",
       "    <tr>\n",
       "      <th>5</th>\n",
       "      <td>0.534770</td>\n",
       "      <td>1</td>\n",
       "      <td>None</td>\n",
       "      <td>5</td>\n",
       "      <td>2</td>\n",
       "      <td>30</td>\n",
       "    </tr>\n",
       "    <tr>\n",
       "      <th>15</th>\n",
       "      <td>0.533663</td>\n",
       "      <td>1</td>\n",
       "      <td>None</td>\n",
       "      <td>15</td>\n",
       "      <td>10</td>\n",
       "      <td>30</td>\n",
       "    </tr>\n",
       "    <tr>\n",
       "      <th>14</th>\n",
       "      <td>0.533262</td>\n",
       "      <td>1</td>\n",
       "      <td>None</td>\n",
       "      <td>10</td>\n",
       "      <td>10</td>\n",
       "      <td>30</td>\n",
       "    </tr>\n",
       "    <tr>\n",
       "      <th>13</th>\n",
       "      <td>0.533200</td>\n",
       "      <td>1</td>\n",
       "      <td>None</td>\n",
       "      <td>5</td>\n",
       "      <td>10</td>\n",
       "      <td>30</td>\n",
       "    </tr>\n",
       "    <tr>\n",
       "      <th>19</th>\n",
       "      <td>0.531393</td>\n",
       "      <td>1</td>\n",
       "      <td>None</td>\n",
       "      <td>15</td>\n",
       "      <td>15</td>\n",
       "      <td>30</td>\n",
       "    </tr>\n",
       "    <tr>\n",
       "      <th>0</th>\n",
       "      <td>0.530442</td>\n",
       "      <td>1</td>\n",
       "      <td>None</td>\n",
       "      <td>2</td>\n",
       "      <td>1</td>\n",
       "      <td>30</td>\n",
       "    </tr>\n",
       "    <tr>\n",
       "      <th>10</th>\n",
       "      <td>0.530403</td>\n",
       "      <td>1</td>\n",
       "      <td>None</td>\n",
       "      <td>10</td>\n",
       "      <td>5</td>\n",
       "      <td>30</td>\n",
       "    </tr>\n",
       "    <tr>\n",
       "      <th>16</th>\n",
       "      <td>0.529380</td>\n",
       "      <td>1</td>\n",
       "      <td>None</td>\n",
       "      <td>2</td>\n",
       "      <td>15</td>\n",
       "      <td>30</td>\n",
       "    </tr>\n",
       "    <tr>\n",
       "      <th>12</th>\n",
       "      <td>0.529251</td>\n",
       "      <td>1</td>\n",
       "      <td>None</td>\n",
       "      <td>2</td>\n",
       "      <td>10</td>\n",
       "      <td>30</td>\n",
       "    </tr>\n",
       "    <tr>\n",
       "      <th>17</th>\n",
       "      <td>0.529128</td>\n",
       "      <td>1</td>\n",
       "      <td>None</td>\n",
       "      <td>5</td>\n",
       "      <td>15</td>\n",
       "      <td>30</td>\n",
       "    </tr>\n",
       "    <tr>\n",
       "      <th>18</th>\n",
       "      <td>0.527483</td>\n",
       "      <td>1</td>\n",
       "      <td>None</td>\n",
       "      <td>10</td>\n",
       "      <td>15</td>\n",
       "      <td>30</td>\n",
       "    </tr>\n",
       "  </tbody>\n",
       "</table>\n",
       "<p>140 rows × 6 columns</p>\n",
       "</div>"
      ],
      "text/plain": [
       "     mean_test_score param_max_features param_max_depth  \\\n",
       "114         0.563871                 10            None   \n",
       "132         0.563343                 15            None   \n",
       "115         0.563065                 10            None   \n",
       "90          0.563064                  7            None   \n",
       "136         0.562787                 15            None   \n",
       "127         0.562640                 15            None   \n",
       "88          0.562155                  7            None   \n",
       "103         0.562114                 10            None   \n",
       "139         0.561942                 15            None   \n",
       "71          0.561869                  6            None   \n",
       "135         0.561396                 15            None   \n",
       "124         0.560836                 15            None   \n",
       "97          0.560800                  7            None   \n",
       "107         0.560764                 10            None   \n",
       "128         0.560681                 15            None   \n",
       "117         0.560618                 10            None   \n",
       "83          0.560607                  7            None   \n",
       "82          0.560597                  7            None   \n",
       "109         0.560540                 10            None   \n",
       "87          0.560503                  7            None   \n",
       "131         0.560342                 15            None   \n",
       "91          0.560184                  7            None   \n",
       "85          0.560102                  7            None   \n",
       "113         0.560067                 10            None   \n",
       "133         0.559991                 15            None   \n",
       "137         0.559784                 15            None   \n",
       "72          0.559779                  6            None   \n",
       "43          0.559558                  5            None   \n",
       "126         0.559480                 15            None   \n",
       "134         0.559468                 15            None   \n",
       "..               ...                ...             ...   \n",
       "36          0.545759                  2            None   \n",
       "31          0.545282                  2            None   \n",
       "2           0.544968                  1            None   \n",
       "20          0.544177                  2            None   \n",
       "34          0.543901                  2            None   \n",
       "39          0.543586                  2            None   \n",
       "6           0.543360                  1            None   \n",
       "35          0.543175                  2            None   \n",
       "32          0.542749                  2            None   \n",
       "37          0.541673                  2            None   \n",
       "7           0.541511                  1            None   \n",
       "33          0.541218                  2            None   \n",
       "3           0.540114                  1            None   \n",
       "11          0.539502                  1            None   \n",
       "9           0.539238                  1            None   \n",
       "38          0.538924                  2            None   \n",
       "8           0.538350                  1            None   \n",
       "4           0.536490                  1            None   \n",
       "1           0.535526                  1            None   \n",
       "5           0.534770                  1            None   \n",
       "15          0.533663                  1            None   \n",
       "14          0.533262                  1            None   \n",
       "13          0.533200                  1            None   \n",
       "19          0.531393                  1            None   \n",
       "0           0.530442                  1            None   \n",
       "10          0.530403                  1            None   \n",
       "16          0.529380                  1            None   \n",
       "12          0.529251                  1            None   \n",
       "17          0.529128                  1            None   \n",
       "18          0.527483                  1            None   \n",
       "\n",
       "    param_min_samples_split param_min_samples_leaf param_n_estimators  \n",
       "114                      10                     10                 30  \n",
       "132                       2                     10                 30  \n",
       "115                      15                     10                 30  \n",
       "90                       10                      5                 30  \n",
       "136                       2                     15                 30  \n",
       "127                      15                      2                 30  \n",
       "88                        2                      5                 30  \n",
       "103                      15                      1                 30  \n",
       "139                      15                     15                 30  \n",
       "71                       15                      5                 30  \n",
       "135                      15                     10                 30  \n",
       "124                       2                      2                 30  \n",
       "97                        5                     15                 30  \n",
       "107                      15                      2                 30  \n",
       "128                       2                      5                 30  \n",
       "117                       5                     15                 30  \n",
       "83                       15                      1                 30  \n",
       "82                       10                      1                 30  \n",
       "109                       5                      5                 30  \n",
       "87                       15                      2                 30  \n",
       "131                      15                      5                 30  \n",
       "91                       15                      5                 30  \n",
       "85                        5                      2                 30  \n",
       "113                       5                     10                 30  \n",
       "133                       5                     10                 30  \n",
       "137                       5                     15                 30  \n",
       "72                        2                     10                 30  \n",
       "43                       15                      1                 30  \n",
       "126                      10                      2                 30  \n",
       "134                      10                     10                 30  \n",
       "..                      ...                    ...                ...  \n",
       "36                        2                     15                 30  \n",
       "31                       15                      5                 30  \n",
       "2                        10                      1                 30  \n",
       "20                        2                      1                 30  \n",
       "34                       10                     10                 30  \n",
       "39                       15                     15                 30  \n",
       "6                        10                      2                 30  \n",
       "35                       15                     10                 30  \n",
       "32                        2                     10                 30  \n",
       "37                        5                     15                 30  \n",
       "7                        15                      2                 30  \n",
       "33                        5                     10                 30  \n",
       "3                        15                      1                 30  \n",
       "11                       15                      5                 30  \n",
       "9                         5                      5                 30  \n",
       "38                       10                     15                 30  \n",
       "8                         2                      5                 30  \n",
       "4                         2                      2                 30  \n",
       "1                         5                      1                 30  \n",
       "5                         5                      2                 30  \n",
       "15                       15                     10                 30  \n",
       "14                       10                     10                 30  \n",
       "13                        5                     10                 30  \n",
       "19                       15                     15                 30  \n",
       "0                         2                      1                 30  \n",
       "10                       10                      5                 30  \n",
       "16                        2                     15                 30  \n",
       "12                        2                     10                 30  \n",
       "17                        5                     15                 30  \n",
       "18                       10                     15                 30  \n",
       "\n",
       "[140 rows x 6 columns]"
      ]
     },
     "execution_count": 56,
     "metadata": {},
     "output_type": "execute_result"
    }
   ],
   "source": [
    "df = pd.DataFrame(RF_CV.cv_results_).sort_values('mean_test_score',ascending=False)\n",
    "df.columns\n",
    "df[['mean_test_score',\n",
    "    'param_max_features',\n",
    "    'param_max_depth',\n",
    "    \"param_min_samples_split\",\n",
    "    'param_min_samples_leaf',\n",
    "    'param_n_estimators']]"
   ]
  },
  {
   "cell_type": "markdown",
   "metadata": {},
   "source": [
    "## 2. round for n_estimators"
   ]
  },
  {
   "cell_type": "code",
   "execution_count": 101,
   "metadata": {
    "collapsed": true
   },
   "outputs": [],
   "source": [
    "RF = RandForestPS(estimators=CLFS, n_folds=6)\n",
    "\n",
    "RF_PARAMS_2 = {\n",
    "    \"n_estimators\": [5000],\n",
    "    \"max_depth\": [None],\n",
    "    \"max_features\": [10],\n",
    "    \"min_samples_split\": [10],\n",
    "    \"min_samples_leaf\": [10]\n",
    "}\n",
    "\n",
    "RF_CV_2 = GridSearchCV(RF, RF_PARAMS_2,\n",
    "                           scoring='f1_macro', fit_params=None, n_jobs=-1, \n",
    "                           iid=False, refit=True, cv=6, verbose=0, \n",
    "                           pre_dispatch='2*n_jobs',\n",
    "                           error_score='raise', return_train_score=True)"
   ]
  },
  {
   "cell_type": "code",
   "execution_count": 102,
   "metadata": {
    "collapsed": false
   },
   "outputs": [
    {
     "data": {
      "text/plain": [
       "GridSearchCV(cv=6, error_score='raise',\n",
       "       estimator=<transform.RandForestPS object at 0x7fbedcf73898>,\n",
       "       fit_params={}, iid=False, n_jobs=-1,\n",
       "       param_grid={'n_estimators': [5000], 'max_features': [10], 'min_samples_split': [10], 'min_samples_leaf': [10], 'max_depth': [None]},\n",
       "       pre_dispatch='2*n_jobs', refit=True, return_train_score=True,\n",
       "       scoring='f1_macro', verbose=0)"
      ]
     },
     "execution_count": 102,
     "metadata": {},
     "output_type": "execute_result"
    }
   ],
   "source": [
    "RF_CV_2.fit(corpus.X_all, corpus.y)"
   ]
  },
  {
   "cell_type": "code",
   "execution_count": 103,
   "metadata": {
    "collapsed": true
   },
   "outputs": [],
   "source": [
    "df_OUT = pd.DataFrame(RF_CV_2.cv_results_).sort_values('mean_test_score',ascending=False)"
   ]
  },
  {
   "cell_type": "code",
   "execution_count": 127,
   "metadata": {
    "collapsed": false
   },
   "outputs": [
    {
     "data": {
      "text/html": [
       "<div>\n",
       "<table border=\"1\" class=\"dataframe\">\n",
       "  <thead>\n",
       "    <tr style=\"text-align: right;\">\n",
       "      <th></th>\n",
       "      <th>mean_test_score</th>\n",
       "      <th>param_max_features</th>\n",
       "      <th>param_max_depth</th>\n",
       "      <th>param_min_samples_split</th>\n",
       "      <th>param_min_samples_leaf</th>\n",
       "      <th>param_n_estimators</th>\n",
       "    </tr>\n",
       "  </thead>\n",
       "  <tbody>\n",
       "    <tr>\n",
       "      <th>10</th>\n",
       "      <td>0.564369</td>\n",
       "      <td>10</td>\n",
       "      <td>None</td>\n",
       "      <td>10</td>\n",
       "      <td>10</td>\n",
       "      <td>5000</td>\n",
       "    </tr>\n",
       "    <tr>\n",
       "      <th>4</th>\n",
       "      <td>0.564282</td>\n",
       "      <td>10</td>\n",
       "      <td>None</td>\n",
       "      <td>10</td>\n",
       "      <td>10</td>\n",
       "      <td>600</td>\n",
       "    </tr>\n",
       "    <tr>\n",
       "      <th>5</th>\n",
       "      <td>0.563133</td>\n",
       "      <td>10</td>\n",
       "      <td>None</td>\n",
       "      <td>10</td>\n",
       "      <td>10</td>\n",
       "      <td>75</td>\n",
       "    </tr>\n",
       "    <tr>\n",
       "      <th>6</th>\n",
       "      <td>0.563039</td>\n",
       "      <td>10</td>\n",
       "      <td>None</td>\n",
       "      <td>10</td>\n",
       "      <td>10</td>\n",
       "      <td>1200</td>\n",
       "    </tr>\n",
       "    <tr>\n",
       "      <th>7</th>\n",
       "      <td>0.562685</td>\n",
       "      <td>10</td>\n",
       "      <td>None</td>\n",
       "      <td>10</td>\n",
       "      <td>10</td>\n",
       "      <td>300</td>\n",
       "    </tr>\n",
       "    <tr>\n",
       "      <th>8</th>\n",
       "      <td>0.562358</td>\n",
       "      <td>10</td>\n",
       "      <td>None</td>\n",
       "      <td>10</td>\n",
       "      <td>10</td>\n",
       "      <td>2400</td>\n",
       "    </tr>\n",
       "    <tr>\n",
       "      <th>9</th>\n",
       "      <td>0.561095</td>\n",
       "      <td>10</td>\n",
       "      <td>None</td>\n",
       "      <td>10</td>\n",
       "      <td>10</td>\n",
       "      <td>150</td>\n",
       "    </tr>\n",
       "    <tr>\n",
       "      <th>0</th>\n",
       "      <td>0.559016</td>\n",
       "      <td>10</td>\n",
       "      <td>None</td>\n",
       "      <td>10</td>\n",
       "      <td>10</td>\n",
       "      <td>35</td>\n",
       "    </tr>\n",
       "    <tr>\n",
       "      <th>1</th>\n",
       "      <td>0.557297</td>\n",
       "      <td>10</td>\n",
       "      <td>None</td>\n",
       "      <td>10</td>\n",
       "      <td>10</td>\n",
       "      <td>20</td>\n",
       "    </tr>\n",
       "    <tr>\n",
       "      <th>2</th>\n",
       "      <td>0.551661</td>\n",
       "      <td>10</td>\n",
       "      <td>None</td>\n",
       "      <td>10</td>\n",
       "      <td>10</td>\n",
       "      <td>10</td>\n",
       "    </tr>\n",
       "    <tr>\n",
       "      <th>3</th>\n",
       "      <td>0.539758</td>\n",
       "      <td>10</td>\n",
       "      <td>None</td>\n",
       "      <td>10</td>\n",
       "      <td>10</td>\n",
       "      <td>5</td>\n",
       "    </tr>\n",
       "  </tbody>\n",
       "</table>\n",
       "</div>"
      ],
      "text/plain": [
       "    mean_test_score param_max_features param_max_depth  \\\n",
       "10         0.564369                 10            None   \n",
       "4          0.564282                 10            None   \n",
       "5          0.563133                 10            None   \n",
       "6          0.563039                 10            None   \n",
       "7          0.562685                 10            None   \n",
       "8          0.562358                 10            None   \n",
       "9          0.561095                 10            None   \n",
       "0          0.559016                 10            None   \n",
       "1          0.557297                 10            None   \n",
       "2          0.551661                 10            None   \n",
       "3          0.539758                 10            None   \n",
       "\n",
       "   param_min_samples_split param_min_samples_leaf param_n_estimators  \n",
       "10                      10                     10               5000  \n",
       "4                       10                     10                600  \n",
       "5                       10                     10                 75  \n",
       "6                       10                     10               1200  \n",
       "7                       10                     10                300  \n",
       "8                       10                     10               2400  \n",
       "9                       10                     10                150  \n",
       "0                       10                     10                 35  \n",
       "1                       10                     10                 20  \n",
       "2                       10                     10                 10  \n",
       "3                       10                     10                  5  "
      ]
     },
     "execution_count": 127,
     "metadata": {},
     "output_type": "execute_result"
    }
   ],
   "source": [
    "df[['mean_test_score',\n",
    "    'param_max_features',\n",
    "    'param_max_depth',\n",
    "    \"param_min_samples_split\",\n",
    "    'param_min_samples_leaf',\n",
    "    'param_n_estimators']].sort_values('mean_test_score',ascending=False)"
   ]
  },
  {
   "cell_type": "code",
   "execution_count": 104,
   "metadata": {
    "collapsed": false
   },
   "outputs": [],
   "source": [
    "df = pd.concat([df_LOWER, df_UPPER, df_OUT], ignore_index=True)"
   ]
  },
  {
   "cell_type": "code",
   "execution_count": null,
   "metadata": {
    "collapsed": true
   },
   "outputs": [],
   "source": []
  },
  {
   "cell_type": "code",
   "execution_count": 125,
   "metadata": {
    "collapsed": false
   },
   "outputs": [
    {
     "data": {
      "text/plain": [
       "<matplotlib.text.Text at 0x7fbedc105898>"
      ]
     },
     "execution_count": 125,
     "metadata": {},
     "output_type": "execute_result"
    },
    {
     "data": {
      "text/plain": [
       "<matplotlib.figure.Figure at 0x7fbedcafab38>"
      ]
     },
     "metadata": {},
     "output_type": "display_data"
    },
    {
     "data": {
      "image/png": "[encoded data removed]",
      "text/plain": [
       "<matplotlib.figure.Figure at 0x7fbedb71a780>"
      ]
     },
     "metadata": {},
     "output_type": "display_data"
    },
    {
     "data": {
      "image/png": "[encoded data removed]",
      "text/plain": [
       "<matplotlib.figure.Figure at 0x7fbedb022668>"
      ]
     },
     "metadata": {},
     "output_type": "display_data"
    }
   ],
   "source": [
    "%matplotlib inline\n",
    "import matplotlib.pyplot as plt\n",
    "\n",
    "fig = plt.figure()\n",
    "\n",
    "df.sort_values('param_n_estimators', ascending=True)\\\n",
    ".plot(x='param_n_estimators', y='mean_test_score', logx=True, marker='o', color='g')\n",
    "plt.ylabel('time in s')\n",
    "plt.xlabel('# estimators')\n",
    "\n",
    "\n",
    "df.sort_values('param_n_estimators', ascending=True)\\\n",
    ".plot(x='param_n_estimators', y='mean_fit_time', logx=True, marker='o', color='b')\n",
    "\n",
    "plt.ylabel('f1-score')\n",
    "plt.xlabel('#estimators')"
   ]
  },
  {
   "cell_type": "code",
   "execution_count": 107,
   "metadata": {
    "collapsed": false
   },
   "outputs": [
    {
     "data": {
      "text/plain": [
       "Index(['mean_fit_time', 'mean_score_time', 'mean_test_score',\n",
       "       'mean_train_score', 'param_max_depth', 'param_max_features',\n",
       "       'param_min_samples_leaf', 'param_min_samples_split',\n",
       "       'param_n_estimators', 'params', 'rank_test_score', 'split0_test_score',\n",
       "       'split0_train_score', 'split1_test_score', 'split1_train_score',\n",
       "       'split2_test_score', 'split2_train_score', 'split3_test_score',\n",
       "       'split3_train_score', 'split4_test_score', 'split4_train_score',\n",
       "       'split5_test_score', 'split5_train_score', 'std_fit_time',\n",
       "       'std_score_time', 'std_test_score', 'std_train_score'],\n",
       "      dtype='object')"
      ]
     },
     "execution_count": 107,
     "metadata": {},
     "output_type": "execute_result"
    }
   ],
   "source": [
    "df.columns"
   ]
  },
  {
   "cell_type": "markdown",
   "metadata": {},
   "source": [
    "# Wilcoxen"
   ]
  },
  {
   "cell_type": "code",
   "execution_count": 145,
   "metadata": {
    "collapsed": true
   },
   "outputs": [],
   "source": [
    "from scipy.stats import wilcoxon\n",
    "\n",
    "def wilcoxon_cv(corpus, clf1, clf2, n_samples=20):\n",
    "    f1 = {1: [], 2: []}\n",
    "    for i in range(n_samples):\n",
    "        (X_tr, y_tr), (X_te, y_te) = corpus.simple_split(1/6)\n",
    "        \n",
    "        for clf, i in zip([clf1, clf2], [1,2]):\n",
    "            clf.fit(X_tr, y_tr)\n",
    "            y_pred = clf.predict(X_te)\n",
    "            f1[i] += [ f1_scorer(y_te, y_pred, average=\"macro\") ]\n",
    "    \n",
    "    w = wilcoxon(f1[1], f1[2])\n",
    "    return w, f1[1], f1[2]"
   ]
  },
  {
   "cell_type": "code",
   "execution_count": 146,
   "metadata": {
    "collapsed": false
   },
   "outputs": [],
   "source": [
    "FINAL = RandForestPS(CLFS, \n",
    "                         n_folds=8, \n",
    "                         n_estimators=75, \n",
    "                         max_features=10,\n",
    "                         max_depth=None,\n",
    "                         min_samples_leaf=10, \n",
    "                         min_samples_split=10)\n",
    "VOTING = VotingClassifier(estimators=ESTIMATORS, voting='hard') "
   ]
  },
  {
   "cell_type": "code",
   "execution_count": 148,
   "metadata": {
    "collapsed": false
   },
   "outputs": [
    {
     "data": {
      "text/plain": [
       "(WilcoxonResult(statistic=12.0, pvalue=0.00051671512385675217),\n",
       " [0.54504221611742398,\n",
       "  0.58395308106427302,\n",
       "  0.56707123527522907,\n",
       "  0.57600181348876001,\n",
       "  0.57222367302577382,\n",
       "  0.5610129254394286,\n",
       "  0.57928529884155056,\n",
       "  0.57068654480653613,\n",
       "  0.56702462730363412,\n",
       "  0.55994969079762558,\n",
       "  0.57419509604722507,\n",
       "  0.5399728487305302,\n",
       "  0.58248699863410003,\n",
       "  0.5785681919516471,\n",
       "  0.57001295982312838,\n",
       "  0.56202846548740137,\n",
       "  0.55788493770685432,\n",
       "  0.56387608104772569,\n",
       "  0.58757408470705752,\n",
       "  0.54742817035886993],\n",
       " [0.53691175575661643,\n",
       "  0.56514599109717445,\n",
       "  0.54398684421204746,\n",
       "  0.57413488817501368,\n",
       "  0.55690019759871123,\n",
       "  0.5573072701470404,\n",
       "  0.57265336687651924,\n",
       "  0.55318481080048965,\n",
       "  0.55917082415987107,\n",
       "  0.55772440146770097,\n",
       "  0.57045404445922288,\n",
       "  0.54785827305062162,\n",
       "  0.55677147675911531,\n",
       "  0.57744040720903167,\n",
       "  0.55825590057927699,\n",
       "  0.55158149470456808,\n",
       "  0.54891568702165094,\n",
       "  0.54864244711113874,\n",
       "  0.57642040003107353,\n",
       "  0.54943799483832112])"
      ]
     },
     "execution_count": 148,
     "metadata": {},
     "output_type": "execute_result"
    }
   ],
   "source": [
    "wilcoxon_cv(corpus, FINAL, VOTING, n_samples=20)"
   ]
  },
  {
   "cell_type": "code",
   "execution_count": 149,
   "metadata": {
    "collapsed": true
   },
   "outputs": [],
   "source": [
    "w, f1_1, f1_2 = Out[148]"
   ]
  },
  {
   "cell_type": "code",
   "execution_count": 151,
   "metadata": {
    "collapsed": false
   },
   "outputs": [
    {
     "data": {
      "text/plain": [
       "0.56731394703273863"
      ]
     },
     "execution_count": 151,
     "metadata": {},
     "output_type": "execute_result"
    }
   ],
   "source": [
    "np.array(f1_1).mean()"
   ]
  },
  {
   "cell_type": "code",
   "execution_count": 152,
   "metadata": {
    "collapsed": false
   },
   "outputs": [
    {
     "data": {
      "text/plain": [
       "0.55814492380276026"
      ]
     },
     "execution_count": 152,
     "metadata": {},
     "output_type": "execute_result"
    }
   ],
   "source": [
    "np.array(f1_2).mean()"
   ]
  },
  {
   "cell_type": "code",
   "execution_count": 153,
   "metadata": {
    "collapsed": false
   },
   "outputs": [
    {
     "ename": "NameError",
     "evalue": "name 'sigma' is not defined",
     "output_type": "error",
     "traceback": [
      "\u001b[0;31m---------------------------------------------------------------------------\u001b[0m",
      "\u001b[0;31mNameError\u001b[0m                                 Traceback (most recent call last)",
      "\u001b[0;32m<ipython-input-153-e692b4b4eb8e>\u001b[0m in \u001b[0;36m<module>\u001b[0;34m()\u001b[0m\n\u001b[1;32m      3\u001b[0m \u001b[0;32mfrom\u001b[0m \u001b[0mmatplotlib\u001b[0m\u001b[0;34m.\u001b[0m\u001b[0mlegend_handler\u001b[0m \u001b[0;32mimport\u001b[0m \u001b[0mHandlerLine2D\u001b[0m\u001b[0;34m\u001b[0m\u001b[0m\n\u001b[1;32m      4\u001b[0m \u001b[0;34m\u001b[0m\u001b[0m\n\u001b[0;32m----> 5\u001b[0;31m \u001b[0msigs\u001b[0m \u001b[0;34m=\u001b[0m \u001b[0;34m[\u001b[0m\u001b[0msigma\u001b[0m\u001b[0;34m(\u001b[0m\u001b[0mp\u001b[0m\u001b[0;34m)\u001b[0m \u001b[0;32mfor\u001b[0m \u001b[0mp\u001b[0m \u001b[0;32min\u001b[0m \u001b[0mnp\u001b[0m\u001b[0;34m.\u001b[0m\u001b[0mlinspace\u001b[0m\u001b[0;34m(\u001b[0m\u001b[0;36m0\u001b[0m\u001b[0;34m,\u001b[0m\u001b[0;36m1\u001b[0m\u001b[0;34m,\u001b[0m\u001b[0;36m51\u001b[0m\u001b[0;34m)\u001b[0m\u001b[0;34m]\u001b[0m\u001b[0;34m\u001b[0m\u001b[0m\n\u001b[0m\u001b[1;32m      6\u001b[0m \u001b[0macc_plt\u001b[0m \u001b[0;34m=\u001b[0m \u001b[0mplt\u001b[0m\u001b[0;34m.\u001b[0m\u001b[0mplot\u001b[0m\u001b[0;34m(\u001b[0m\u001b[0mnp\u001b[0m\u001b[0;34m.\u001b[0m\u001b[0mlinspace\u001b[0m\u001b[0;34m(\u001b[0m\u001b[0;36m0\u001b[0m\u001b[0;34m,\u001b[0m\u001b[0;36m1\u001b[0m\u001b[0;34m,\u001b[0m\u001b[0;36m51\u001b[0m\u001b[0;34m)\u001b[0m\u001b[0;34m,\u001b[0m \u001b[0msigs\u001b[0m\u001b[0;34m,\u001b[0m \u001b[0mlabel\u001b[0m\u001b[0;34m=\u001b[0m\u001b[0;34m\"accuracy\"\u001b[0m\u001b[0;34m)\u001b[0m\u001b[0;34m\u001b[0m\u001b[0m\n\u001b[1;32m      7\u001b[0m \u001b[0mtot_plt\u001b[0m \u001b[0;34m=\u001b[0m \u001b[0mplt\u001b[0m\u001b[0;34m.\u001b[0m\u001b[0mplot\u001b[0m\u001b[0;34m(\u001b[0m\u001b[0mnp\u001b[0m\u001b[0;34m.\u001b[0m\u001b[0mlinspace\u001b[0m\u001b[0;34m(\u001b[0m\u001b[0;36m0\u001b[0m\u001b[0;34m,\u001b[0m\u001b[0;36m1\u001b[0m\u001b[0;34m,\u001b[0m\u001b[0;36m51\u001b[0m\u001b[0;34m)\u001b[0m\u001b[0;34m,\u001b[0m \u001b[0mTOT\u001b[0m\u001b[0;34m,\u001b[0m \u001b[0mlabel\u001b[0m\u001b[0;34m=\u001b[0m\u001b[0;34m\"predicted examples\"\u001b[0m\u001b[0;34m)\u001b[0m\u001b[0;34m\u001b[0m\u001b[0m\n",
      "\u001b[0;32m<ipython-input-153-e692b4b4eb8e>\u001b[0m in \u001b[0;36m<listcomp>\u001b[0;34m(.0)\u001b[0m\n\u001b[1;32m      3\u001b[0m \u001b[0;32mfrom\u001b[0m \u001b[0mmatplotlib\u001b[0m\u001b[0;34m.\u001b[0m\u001b[0mlegend_handler\u001b[0m \u001b[0;32mimport\u001b[0m \u001b[0mHandlerLine2D\u001b[0m\u001b[0;34m\u001b[0m\u001b[0m\n\u001b[1;32m      4\u001b[0m \u001b[0;34m\u001b[0m\u001b[0m\n\u001b[0;32m----> 5\u001b[0;31m \u001b[0msigs\u001b[0m \u001b[0;34m=\u001b[0m \u001b[0;34m[\u001b[0m\u001b[0msigma\u001b[0m\u001b[0;34m(\u001b[0m\u001b[0mp\u001b[0m\u001b[0;34m)\u001b[0m \u001b[0;32mfor\u001b[0m \u001b[0mp\u001b[0m \u001b[0;32min\u001b[0m \u001b[0mnp\u001b[0m\u001b[0;34m.\u001b[0m\u001b[0mlinspace\u001b[0m\u001b[0;34m(\u001b[0m\u001b[0;36m0\u001b[0m\u001b[0;34m,\u001b[0m\u001b[0;36m1\u001b[0m\u001b[0;34m,\u001b[0m\u001b[0;36m51\u001b[0m\u001b[0;34m)\u001b[0m\u001b[0;34m]\u001b[0m\u001b[0;34m\u001b[0m\u001b[0m\n\u001b[0m\u001b[1;32m      6\u001b[0m \u001b[0macc_plt\u001b[0m \u001b[0;34m=\u001b[0m \u001b[0mplt\u001b[0m\u001b[0;34m.\u001b[0m\u001b[0mplot\u001b[0m\u001b[0;34m(\u001b[0m\u001b[0mnp\u001b[0m\u001b[0;34m.\u001b[0m\u001b[0mlinspace\u001b[0m\u001b[0;34m(\u001b[0m\u001b[0;36m0\u001b[0m\u001b[0;34m,\u001b[0m\u001b[0;36m1\u001b[0m\u001b[0;34m,\u001b[0m\u001b[0;36m51\u001b[0m\u001b[0;34m)\u001b[0m\u001b[0;34m,\u001b[0m \u001b[0msigs\u001b[0m\u001b[0;34m,\u001b[0m \u001b[0mlabel\u001b[0m\u001b[0;34m=\u001b[0m\u001b[0;34m\"accuracy\"\u001b[0m\u001b[0;34m)\u001b[0m\u001b[0;34m\u001b[0m\u001b[0m\n\u001b[1;32m      7\u001b[0m \u001b[0mtot_plt\u001b[0m \u001b[0;34m=\u001b[0m \u001b[0mplt\u001b[0m\u001b[0;34m.\u001b[0m\u001b[0mplot\u001b[0m\u001b[0;34m(\u001b[0m\u001b[0mnp\u001b[0m\u001b[0;34m.\u001b[0m\u001b[0mlinspace\u001b[0m\u001b[0;34m(\u001b[0m\u001b[0;36m0\u001b[0m\u001b[0;34m,\u001b[0m\u001b[0;36m1\u001b[0m\u001b[0;34m,\u001b[0m\u001b[0;36m51\u001b[0m\u001b[0;34m)\u001b[0m\u001b[0;34m,\u001b[0m \u001b[0mTOT\u001b[0m\u001b[0;34m,\u001b[0m \u001b[0mlabel\u001b[0m\u001b[0;34m=\u001b[0m\u001b[0;34m\"predicted examples\"\u001b[0m\u001b[0;34m)\u001b[0m\u001b[0;34m\u001b[0m\u001b[0m\n",
      "\u001b[0;31mNameError\u001b[0m: name 'sigma' is not defined"
     ]
    }
   ],
   "source": []
  },
  {
   "cell_type": "code",
   "execution_count": 154,
   "metadata": {
    "collapsed": true
   },
   "outputs": [],
   "source": [
    "from os import listdir\n",
    "import pickle\n",
    "\n",
    "ESTIMATORS = []\n",
    "for f in listdir(\"best_estimators\"):\n",
    "    with open(\"best_estimators/\"+f, 'rb') as file:\n",
    "        ESTIMATORS += [ ( f[:-4], pickle.load(file) ) ]\n",
    "CLFS = [clf for _, clf in ESTIMATORS]\n",
    "\n",
    "FINAL = RandForestPS(CLFS, \n",
    "                         n_folds=8, \n",
    "                         n_estimators=75, \n",
    "                         max_features=10,\n",
    "                         max_depth=None,\n",
    "                         min_samples_leaf=10, \n",
    "                         min_samples_split=10)"
   ]
  },
  {
   "cell_type": "code",
   "execution_count": null,
   "metadata": {
    "collapsed": true
   },
   "outputs": [],
   "source": []
  }
 ],
 "metadata": {
  "kernelspec": {
   "display_name": "Python 3",
   "language": "python",
   "name": "python3"
  },
  "language_info": {
   "codemirror_mode": {
    "name": "ipython",
    "version": 3
   },
   "file_extension": ".py",
   "mimetype": "text/x-python",
   "name": "python",
   "nbconvert_exporter": "python",
   "pygments_lexer": "ipython3",
   "version": "3.4.3"
  }
 },
 "nbformat": 4,
 "nbformat_minor": 1
}
