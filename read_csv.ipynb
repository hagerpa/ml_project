{
 "cells": [
  {
   "cell_type": "code",
   "execution_count": 298,
   "metadata": {
    "collapsed": true
   },
   "outputs": [],
   "source": [
    "import csv\n",
    "import re"
   ]
  },
  {
   "cell_type": "code",
   "execution_count": 302,
   "metadata": {
    "collapsed": false
   },
   "outputs": [
    {
     "name": "stdout",
     "output_type": "stream",
     "text": [
      "replaced expression \\\\\\\" by expression ' - 9971 times.\n",
      "replaced expression re.compile('<span.*?/span>', re.DOTALL) by expression  - 86 times.\n",
      "replaced expression <p.*?> by expression  - 218 times.\n",
      "replaced expression </p> by expression  - 218 times.\n"
     ]
    }
   ],
   "source": [
    "# opening original csv file\n",
    "file = open('category.csv', 'r')\n",
    "file.seek(0)\n",
    "file_content = file.read()\n",
    "file.close()\n",
    "\n",
    "# list of regular expressions that should be subtituted prior to read via CSV-reader\n",
    "regexps = [(r\"\\\\\\\"\", \"'\"), \n",
    "           (re.compile(r\"<span.*?/span>\", re.DOTALL), \"\"),\n",
    "           (r\"<p.*?>\", \"\"),\n",
    "           (r\"</p>\", \"\")]\n",
    "\n",
    "# find an replace for each of the expressions in upper list\n",
    "for regex in regexps:\n",
    "    find, replace = regex # f: the tobe Found expression, r: the expression which sill substitute\n",
    "    file_content, n = re.subn(find, replace, file_content)\n",
    "    print(\"replaced expression {0} by expression {1} - {2} times.\".format(find,replace,n))\n",
    "\n",
    "# saving into a new CSV file called: category_clean.csv\n",
    "file_clean = open('category_clean.csv', 'w+', encoding=\"utf8\")\n",
    "file_clean.write(file_content)\n",
    "file_clean.close()"
   ]
  },
  {
   "cell_type": "code",
   "execution_count": 303,
   "metadata": {
    "collapsed": false
   },
   "outputs": [
    {
     "name": "stdout",
     "output_type": "stream",
     "text": [
      "-  13 \n",
      "\n",
      "-  0 \n",
      "\n",
      "-  Schule \n",
      "\n",
      "-  Schule | Allgemeinwissen \n",
      "\n",
      "-   \n",
      "\n",
      "-  Auch wenn man sie &bdquo;Penne&ldquo; nennt, gibt uns die Schule das Allgemeinwissen f&uuml;r das Leben auf dem Weg, festigt unsere eigenen Interessen und gibt uns im sp&auml;teren Berufsleben das Wissen, was zum Erfolg f&uuml;hrt. Aufbauend mit der Vorschule, der sp&auml;teren Grundschule und der Oberschule durchlaufen wir eine Vielzahl von unterschiedlichen Herausforderungen in einer Vielzahl von Wissensgebieten. Man trifft sich mit Schulfreunden zum gemeinsamen Lernen und erweitert so seine eigenen Kenntnisse, welche man in der Schule wiederum anwendet. Die Schule ist eine Gemeinschaft von Sch&uuml;lern, was man mit diesem Portal vergleichen kann.\n",
      "\\\n",
      "Auch hier gibt es ein Interessengebiet zu den verschiedenen Unterrichtsthemen, die man f&uuml;r den Schulalltag einsetzen kann. Finde aus der Vielzahl von Themen z.B. neue M&ouml;glichkeiten f&uuml;r ein Referat und erlange so eine bessere Note, als deine Mitsch&uuml;ler. Man lernt nie aus, gib den Mitgliedern dieser Gemeinschaft die M&ouml;glichkeit, an deinem Wissen teilzuhaben, dann wird aus einer 4 schnell eine 1. \n",
      "\n",
      "-   \n",
      "\n",
      "-   \n",
      "\n",
      "-  schule \n",
      "\n",
      "-  0 \n",
      "\n",
      "-  56 \n",
      "\n",
      "-  0 \n",
      "\n",
      "-  1 \n",
      "\n",
      "-  2010-03-02 08:08:08 \n",
      "\n",
      "-  2010-03-31 12:19:03 \n",
      "\n"
     ]
    }
   ],
   "source": [
    "file = open(\"category_clean.csv\")\n",
    "reader = csv.reader(file)\n",
    "next(reader)\n",
    "for col in next(reader):\n",
    "    print(\"- \", col, \"\\n\")"
   ]
  },
  {
   "cell_type": "code",
   "execution_count": 179,
   "metadata": {
    "collapsed": false
   },
   "outputs": [],
   "source": [
    "catreader = csv.reader(catfile, quotechar='\"')"
   ]
  },
  {
   "cell_type": "code",
   "execution_count": null,
   "metadata": {
    "collapsed": true
   },
   "outputs": [],
   "source": [
    "clean_catfile = open('category_clean.csv', 'w+')"
   ]
  },
  {
   "cell_type": "code",
   "execution_count": 97,
   "metadata": {
    "collapsed": false
   },
   "outputs": [
    {
     "name": "stdout",
     "output_type": "stream",
     "text": [
      " -  13 \n",
      "\n",
      " -  0 \n",
      "\n",
      " -  Schule \n",
      "\n",
      " -  Schule | Allgemeinwissen \n",
      "\n",
      " -   \n",
      "\n",
      " -  <p>Auch wenn man sie &bdquo;Penne&ldquo; nennt, gibt uns die Schule das Allgemeinwissen f&uuml;r das Leben auf dem Weg, festigt unsere eigenen Interessen und gibt uns im sp&auml;teren Berufsleben das Wissen, was zum Erfolg f&uuml;hrt. <span style=\\font-style: italic; font-size: 11px;\\\">||SEPERATOR|| </span>Aufbauend mit der Vorschule \n",
      "\n",
      " -   der sp&auml;teren Grundschule und der Oberschule durchlaufen wir eine Vielzahl von unterschiedlichen Herausforderungen in einer Vielzahl von Wissensgebieten. Man trifft sich mit Schulfreunden zum gemeinsamen Lernen und erweitert so seine eigenen Kenntnisse \n",
      "\n",
      " -   welche man in der Schule wiederum anwendet. Die Schule ist eine Gemeinschaft von Sch&uuml;lern \n",
      "\n",
      " -   was man mit diesem Portal vergleichen kann.</p><p>Auch hier gibt es ein Interessengebiet zu den verschiedenen Unterrichtsthemen \n",
      "\n",
      " -   die man f&uuml;r den Schulalltag einsetzen kann. Finde aus der Vielzahl von Themen z.B. neue M&ouml;glichkeiten f&uuml;r ein Referat und erlange so eine bessere Note \n",
      "\n",
      " -   als deine Mitsch&uuml;ler. Man lernt nie aus \n",
      "\n",
      " -   gib den Mitgliedern dieser Gemeinschaft die M&ouml;glichkeit \n",
      "\n",
      " -   an deinem Wissen teilzuhaben \n",
      "\n",
      " -   dann wird aus einer 4 schnell eine 1.</p>\" \n",
      "\n",
      " -   \n",
      "\n",
      " -   \n",
      "\n",
      " -  schule \n",
      "\n",
      " -  0 \n",
      "\n",
      " -  56 \n",
      "\n",
      " -  0 \n",
      "\n",
      " -  1 \n",
      "\n",
      " -  2010-03-02 08:08:08 \n",
      "\n",
      " -  2010-03-31 12:19:03 \n",
      "\n"
     ]
    }
   ],
   "source": [
    "catfile.seek(0)\n",
    "next(catreader)\n",
    "for c in next(catreader):\n",
    "    print(\" - \", c, \"\\n\")"
   ]
  },
  {
   "cell_type": "code",
   "execution_count": 55,
   "metadata": {
    "collapsed": false
   },
   "outputs": [
    {
     "name": "stdout",
     "output_type": "stream",
     "text": [
      "0 th row has  15 \n",
      "11 \t 9 \t 13 \t 8 \t 5 \t 11 \t 16 \t 8 \t 3 \t 5 \t 7 \t 9 \t 6 \t 10 \t 10 \t \n",
      "\n",
      "1 th row has  23 \n",
      "2 \t 1 \t 6 \t 24 \t 0 \t 335 \t 257 \t 95 \t 128 \t 166 \t 45 \t 61 \t 29 \t 43 \t 0 \t 0 \t 6 \t 1 \t 2 \t 1 \t 1 \t 19 \t 19 \t \n",
      "\n",
      "2 th row has  20 \n",
      "2 \t 1 \t 19 \t 37 \t 0 \t 467 \t 109 \t 242 \t 235 \t 110 \t 371 \t 0 \t 0 \t 17 \t 1 \t 2 \t 1 \t 1 \t 19 \t 19 \t \n",
      "\n"
     ]
    }
   ],
   "source": [
    "catfile.seek(0)\n",
    "for i in range(3):\n",
    "    row = next(catreader)\n",
    "    print(i, \"th row has \", len(row), \"\")\n",
    "    for e in row:\n",
    "        print(len(e), end=\" \\t \")\n",
    "    print(\"\\n\")"
   ]
  },
  {
   "cell_type": "code",
   "execution_count": 59,
   "metadata": {
    "collapsed": false
   },
   "outputs": [
    {
     "name": "stdout",
     "output_type": "stream",
     "text": [
      "1\n",
      "2\n",
      "3\n",
      "4\n"
     ]
    }
   ],
   "source": [
    "for i in [1,2,3,4]:\n",
    "    print(i)"
   ]
  },
  {
   "cell_type": "code",
   "execution_count": 142,
   "metadata": {
    "collapsed": false
   },
   "outputs": [],
   "source": [
    "teststr = r\"Hallo my name is \\\",\\\" <p> <span style=\\\"4\\\"></span> </p> <p> asdfasdf </p>\""
   ]
  },
  {
   "cell_type": "code",
   "execution_count": 172,
   "metadata": {
    "collapsed": false
   },
   "outputs": [
    {
     "data": {
      "text/plain": [
       "\"Hallo my name is ',' <p> <span style='4'></span> </p> <p> asdfasdf </p>\""
      ]
     },
     "execution_count": 172,
     "metadata": {},
     "output_type": "execute_result"
    }
   ],
   "source": [
    "re.sub(r\"\\\\\\\"\", \"'\", teststr)"
   ]
  },
  {
   "cell_type": "code",
   "execution_count": 184,
   "metadata": {
    "collapsed": false
   },
   "outputs": [],
   "source": [
    "catfile.seek(0)\n",
    "cats=catfile.read()"
   ]
  },
  {
   "cell_type": "code",
   "execution_count": 185,
   "metadata": {
    "collapsed": false
   },
   "outputs": [
    {
     "data": {
      "text/plain": [
       "['<span style=\\\\\"font-style: italic; font-size: 11px;\\\\\">||SEPERATOR|| </span>',\n",
       " '<span style=\\\\\"font-style: italic; font-size: 11px;\\\\\">||SEPERATOR|| </span>',\n",
       " '<span style=\\\\\"font-style: italic; font-size: 11px;\\\\\">||SEPERATOR|| </span>',\n",
       " '<span style=\\\\\"font-style: italic; font-size: 11px;\\\\\">||SEPERATOR|| </span>',\n",
       " '<span style=\\\\\"font-style: italic; font-size: 11px;\\\\\">||SEPERATOR|| </span>',\n",
       " '<span style=\\\\\"font-style: italic; font-size: 11px;\\\\\">||SEPERATOR|| </span>',\n",
       " '<span style=\\\\\"font-style: italic; font-size: 11px;\\\\\">||SEPERATOR||</span>',\n",
       " '<span style=\\\\\"font-style: italic; font-size: 11px;\\\\\">||SEPERATOR|| </span>',\n",
       " '<span style=\\\\\"font-style: italic; font-size: 11px;\\\\\">||SEPERATOR|| </span>',\n",
       " '<span style=\\\\\"font-style: italic; font-size: 11px;\\\\\">||SEPERATOR|| </span>',\n",
       " '<span style=\\\\\"font-style: italic; font-size: 11px;\\\\\">||SEPERATOR|| </span>',\n",
       " '<span style=\\\\\"font-style: italic; font-size: 11px;\\\\\">||SEPERATOR|| </span>',\n",
       " '<span style=\\\\\"font-style: italic; font-size: 11px;\\\\\">||SEPERATOR|| </span>',\n",
       " '<span style=\\\\\"font-style: italic; font-size: 11px;\\\\\">||SEPERATOR|| </span>',\n",
       " '<span style=\\\\\"font-style: italic; font-size: 11px;\\\\\">||SEPERATOR|| </span>',\n",
       " '<span style=\\\\\"font-style: italic; font-size: 11px;\\\\\">||SEPERATOR|| </span>',\n",
       " '<span style=\\\\\"font-style: italic; font-size: 11px;\\\\\">||SEPERATOR|| </span>',\n",
       " '<span style=\\\\\"font-style: italic; font-size: 11px;\\\\\">||SEPERATOR||</span>',\n",
       " '<span style=\\\\\"font-style: italic; font-size: 11px;\\\\\">||SEPERATOR|| </span>',\n",
       " '<span style=\\\\\"font-style: italic; font-size: 11px;\\\\\">||SEPERATOR|| </span>',\n",
       " '<span style=\\\\\"font-style: italic; font-size: 11px;\\\\\">||SEPERATOR|| </span>',\n",
       " '<span style=\\\\\"font-style: italic; font-size: 11px;\\\\\">||SEPERATOR|| </span>',\n",
       " '<span style=\\\\\"font-style: italic; font-size: 11px;\\\\\">||SEPERATOR|| </span>',\n",
       " '<span style=\\\\\"font-style: italic; font-size: 11px;\\\\\">||SEPERATOR|| </span>',\n",
       " '<span style=\\\\\"font-style: italic; font-size: 11px;\\\\\">||SEPERATOR|| </span>',\n",
       " '<span style=\\\\\"font-style: italic; font-size: 11px;\\\\\">||SEPERATOR|| </span>',\n",
       " '<span style=\\\\\"font-style: italic; font-size: 11px;\\\\\">||SEPERATOR|| </span>',\n",
       " '<span style=\\\\\"font-style: italic; font-size: 11px;\\\\\">||SEPERATOR|| </span>',\n",
       " '<span style=\\\\\"font-style: italic; font-size: 11px;\\\\\">||SEPERATOR|| </span>',\n",
       " '<span style=\\\\\"font-style: italic; font-size: 11px;\\\\\">||SEPERATOR|| </span>',\n",
       " '<span style=\\\\\"font-style: italic; font-size: 11px;\\\\\">||SEPERATOR|| </span>',\n",
       " '<span style=\\\\\"font-style: italic; font-size: 11px;\\\\\">||SEPERATOR|| </span>',\n",
       " '<span style=\\\\\"font-style: italic; font-size: 11px;\\\\\">||SEPERATOR|| </span>',\n",
       " '<span style=\\\\\"font-style: italic; font-size: 11px;\\\\\">||SEPERATOR|| </span>',\n",
       " '<span style=\\\\\"font-style: italic; font-size: 11px;\\\\\">||SEPERATOR|| </span>',\n",
       " '<span style=\\\\\"font-style: italic; font-size: 11px;\\\\\">||SEPERATOR|| </span>',\n",
       " '<span style=\\\\\"font-style: italic; font-size: 11px;\\\\\">||SEPERATOR|| </span>',\n",
       " '<span style=\\\\\"font-style: italic; font-size: 11px;\\\\\">||SEPERATOR|| </span>',\n",
       " '<span style=\\\\\"font-style: italic; font-size: 11px;\\\\\">||SEPERATOR|| </span>',\n",
       " '<span style=\\\\\"font-style: italic; font-size: 11px;\\\\\">||SEPERATOR|| </span>',\n",
       " '<span style=\\\\\"font-style: italic; font-size: 11px;\\\\\">||SEPERATOR|| </span>',\n",
       " '<span style=\\\\\"font-style: italic; font-size: 11px;\\\\\">||SEPERATOR|| </span>',\n",
       " '<span style=\\\\\"font-style: italic; font-size: 11px;\\\\\">||SEPERATOR|| </span>',\n",
       " '<span style=\\\\\"font-style: italic; font-size: 11px;\\\\\">||SEPERATOR|| </span>',\n",
       " '<span style=\\\\\"font-style: italic; font-size: 11px;\\\\\">||SEPERATOR|| </span>',\n",
       " '<span style=\\\\\"font-style: italic; font-size: 11px;\\\\\">||SEPERATOR|| </span>',\n",
       " '<span style=\\\\\"font-style: italic; font-size: 11px;\\\\\">||SEPERATOR|| </span>',\n",
       " '<span style=\\\\\"font-style: italic; font-size: 11px;\\\\\">||SEPERATOR|| </span>',\n",
       " '<span style=\\\\\"font-style: italic; font-size: 11px;\\\\\">||SEPERATOR|| </span>',\n",
       " '<span style=\\\\\"font-style: italic; font-size: 11px;\\\\\">||SEPERATOR|| </span>',\n",
       " '<span style=\\\\\"font-style: italic; font-size: 11px;\\\\\">||SEPERATOR|| </span>',\n",
       " '<span style=\\\\\"font-style: italic; font-size: 11px;\\\\\">||SEPERATOR|| </span>',\n",
       " '<span style=\\\\\"font-style: italic; font-size: 11px;\\\\\">||SEPERATOR|| </span>',\n",
       " '<span style=\\\\\"font-style: italic; font-size: 11px;\\\\\">||SEPERATOR|| </span>',\n",
       " '<span style=\\\\\"font-style: italic; font-size: 11px;\\\\\">||SEPERATOR|| </span>',\n",
       " '<span style=\\\\\"font-style: italic; font-size: 11px;\\\\\">||SEPERATOR|| </span>',\n",
       " '<span style=\\\\\"font-style: italic; font-size: 11px;\\\\\">||SEPERATOR|| </span>',\n",
       " '<span style=\\\\\"font-style: italic; font-size: 11px;\\\\\">||SEPERATOR|| </span>',\n",
       " '<span style=\\\\\"font-style: italic; font-size: 11px;\\\\\">||SEPERATOR|| </span>',\n",
       " '<span style=\\\\\"font-style: italic; font-size: 11px;\\\\\">||SEPERATOR|| </span>',\n",
       " '<span style=\\\\\"font-style: italic; font-size: 11px;\\\\\">||SEPERATOR|| </span>',\n",
       " '<span style=\\\\\"font-style: italic; font-size: 11px;\\\\\">||SEPERATOR|| </span>',\n",
       " '<span style=\\\\\"font-style: italic; font-size: 11px;\\\\\">||SEPERATOR|| </span>',\n",
       " '<span style=\\\\\"font-style: italic; font-size: 11px;\\\\\">||SEPERATOR|| </span>',\n",
       " '<span style=\\\\\"font-style: italic; font-size: 11px;\\\\\">||SEPERATOR|| </span>',\n",
       " '<span style=\\\\\"font-style: italic; font-size: 11px;\\\\\">||SEPERATOR|| </span>',\n",
       " '<span style=\\\\\"font-style: italic; font-size: 11px;\\\\\">||SEPERATOR|| </span>',\n",
       " '<span>&nbsp;</span>',\n",
       " '<span>&nbsp;</span>',\n",
       " '<span>Das Wissen, wie ein Zimmer richtig tapeziert wird oder wie man selbst die widerspenstigsten Kinder in die Badewanne bekommt, findest du hier auf smsguru.de.</span>',\n",
       " '<span>Tipps und Tricks zu jeder Alltagssituation werden dir <span>&nbsp;</span>',\n",
       " '<span>Nutze das Allgemeinwissen und die erfahrenen Tipps und Tricks deiner Mitmenschen und lasse umgekehrt auch die Community von deinem Erfahrungsschatz profitieren.<span>&nbsp; </span>',\n",
       " '<span style=\\\\\"line-height: 115%;\\\\\">Unter Mythen &amp; Gedichte hast du Zugang zu unserem gesamten Wissen &uuml;ber alte Legenden und Sagen, sowie &uuml;ber Gedichte und Reime. Suchst du ein Liebesgedicht f&uuml;r deinen Freund oder hast du Fragen zu den Essgewohnheiten von Vampiren, bist du in dieser Kategorie richtig.</span>',\n",
       " '<span style=\\\\\"font-size: 9pt; line-height: 115%;\\\\\"> ||SEPERATOR||</span>',\n",
       " '<span style=\\\\\"line-height: 115%;\\\\\">Du m&ouml;chtest deiner Freundin deine Liebe gestehen und suchst den passenden Text? Frage unsere Wissensdatenbank oder bitte die Community dir ein kleines Gedicht mit ihrem Namen zu komponieren. Wenn du schon immer wissen wolltest, ob es Drachen wirklich gab, lass unsere Mitglieder geschichtliche Hinweise unter die Lupe nehmen, um so eine befriedigende Antwort f&uuml;r dich zu finden.</span>',\n",
       " '<span style=\\\\\"line-height: 115%;\\\\\">Erweitere dein Allgemeinwissen von Dichtung und Literatur oder lass dir die Texte Shakespeare, Homer und Goethe verst&auml;ndlich von unserer Community erkl&auml;ren.</span>',\n",
       " '<span style=\\\\\"line-height: 115%;\\\\\">Schon in der ersten Klasse beginnt man damit, die Deutsche Sprache zu lernen und vor allem versucht man dir als Sch&uuml;ler die Rechtschreibregeln als Grundger&uuml;st f&uuml;r deine weitere Schullaufbahn zu vermitteln. Wer sa&szlig; nicht schon einmal vor einem Text und hat sich gefragt, wie denn nun &bdquo;kennenzulernen&ldquo; geschrieben wird, zusammen oder auseinander? </span>',\n",
       " '<span style=\\\\\"font-size: 9pt; line-height: 115%;\\\\\">||SEPERATOR||</span>',\n",
       " '<span style=\\\\\"line-height: 115%;\\\\\">Wer hat sich diese neuen Rechtschreibregeln eigentlich ausgedacht und warum gibt es diese Regeln &uuml;berhaupt? Warum schreibt man Diktate und was war doch gleich eine Anapher? Deutsch gilt nicht umsonst als eine der schwierigsten Sprachen der Welt.</span>',\n",
       " '<span style=\\\\\"line-height: 115%;\\\\\">Wenn dein Deutschlehrer dich wieder mit der Analyse eines besonders schwierigen Textes qu&auml;lt oder eine wichtige Email f&uuml;r den Chef verfasst werden muss, hilft dir diese Kategorie mit dem Wissensschatz aus unserer Community. </span>',\n",
       " '<span style=\\\\\"line-height: 115%;\\\\\">Frische hier dein Allgemeinwissen &uuml;ber die deutsche Sprache wieder auf und beantworte die kniffligen Fragen zu Rechtschreibung und Satzaufbau der anderen Mitglieder. Die korrekte Sprache ist wichtig, nicht nur f&uuml;r Sch&uuml;ler.</span>',\n",
       " '<span style=\\\\\"line-height: 115%;\\\\\">In der Kategorie Wissen findest du n&uuml;tzliches Wissen zu fast jedem Bereich in deinem Leben. Technik, Tiere oder Psychologie, hier kannst du dein Allgemeinwissen stark vergr&ouml;&szlig;ern. Doch was ist mit all den unwichtigen, doch lustigen Fakten die unsere Welt zu bieten hat? </span>',\n",
       " '<span style=\\\\\"font-size: 9pt; line-height: 115%;\\\\\">||SEPERATOR||</span>',\n",
       " '<span style=\\\\\"line-height: 115%;\\\\\">Wo findest du die Antwort auf die Frage &bdquo; Warum fallen keine Donuts vom Himmel?&ldquo; oder &bdquo;Welche Nasenhaarfrisur ist gerade angesagt?&ldquo; All die Fakten und das Wissen zu diesen, als unn&uuml;tz verschm&auml;hten, Themen findest du in dieser Kategorie. </span>',\n",
       " '<span style=\\\\\"line-height: 115%;\\\\\">Dich interessiert,wie viel Toilettenpapier jedes Halloween nur f&uuml;r das Verzieren von H&auml;usern verbraucht wird?<span>&nbsp; </span>',\n",
       " '<span style=\\\\\"line-height: 115%;\\\\\">Die etwas andere Bildung f&uuml;r alle, die gerne lachen und das Leben mit Humor genie&szlig;en.</span>']"
      ]
     },
     "execution_count": 185,
     "metadata": {},
     "output_type": "execute_result"
    }
   ],
   "source": [
    "re.findall(r\"<span.*?/span>\", cats)"
   ]
  },
  {
   "cell_type": "code",
   "execution_count": 186,
   "metadata": {
    "collapsed": true
   },
   "outputs": [],
   "source": [
    "n = len(re.findall(r\"\\\\\\\"\", cats))"
   ]
  },
  {
   "cell_type": "code",
   "execution_count": 187,
   "metadata": {
    "collapsed": false
   },
   "outputs": [
    {
     "data": {
      "text/plain": [
       "9971"
      ]
     },
     "execution_count": 187,
     "metadata": {},
     "output_type": "execute_result"
    }
   ],
   "source": [
    "n"
   ]
  },
  {
   "cell_type": "code",
   "execution_count": 234,
   "metadata": {
    "collapsed": false
   },
   "outputs": [],
   "source": [
    "catfile.seek(0)\n",
    "xreader = csv.reader( catfile.read() )"
   ]
  },
  {
   "cell_type": "code",
   "execution_count": 235,
   "metadata": {
    "collapsed": false
   },
   "outputs": [
    {
     "data": {
      "text/plain": [
       "['category_id']"
      ]
     },
     "execution_count": 235,
     "metadata": {},
     "output_type": "execute_result"
    }
   ],
   "source": [
    "next(xreader)"
   ]
  },
  {
   "cell_type": "code",
   "execution_count": null,
   "metadata": {
    "collapsed": true
   },
   "outputs": [],
   "source": []
  }
 ],
 "metadata": {
  "kernelspec": {
   "display_name": "Python 3",
   "language": "python",
   "name": "python3"
  },
  "language_info": {
   "codemirror_mode": {
    "name": "ipython",
    "version": 3
   },
   "file_extension": ".py",
   "mimetype": "text/x-python",
   "name": "python",
   "nbconvert_exporter": "python",
   "pygments_lexer": "ipython3",
   "version": "3.5.1"
  }
 },
 "nbformat": 4,
 "nbformat_minor": 0
}
