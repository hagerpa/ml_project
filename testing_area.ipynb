{
 "cells": [
  {
   "cell_type": "code",
   "execution_count": 15,
   "metadata": {
    "collapsed": false
   },
   "outputs": [],
   "source": [
    "import corpus as corpus_class\n",
    "import categories, filters, vocabulary_builders\n",
    "from feature_extractors import multinomial_model, tfidf\n",
    "from filters import std_filters\n",
    "\n",
    "import numpy as np\n",
    "import warnings\n",
    "warnings.simplefilter(\"ignore\", np.VisibleDeprecationWarning)\n",
    "import time\n",
    "\n",
    "from sklearn.metrics import f1_score as f1_scorer\n",
    "\n",
    "from sklearn.decomposition import TruncatedSVD\n",
    "\n",
    "from sklearn.ensemble import VotingClassifier, RandomForestClassifier\n",
    "from sklearn.naive_bayes import MultinomialNB\n",
    "from sklearn.linear_model import LogisticRegression\n",
    "from sklearn.svm import SVC, LinearSVC\n",
    "from sklearn.tree import DecisionTreeClassifier\n",
    "from sklearn.discriminant_analysis import LinearDiscriminantAnalysis as LDA\n",
    "from sklearn.pipeline import Pipeline\n",
    "from sklearn.feature_extraction.text import TfidfTransformer\n",
    "from sklearn.feature_selection import SelectPercentile, chi2"
   ]
  },
  {
   "cell_type": "code",
   "execution_count": 16,
   "metadata": {
    "collapsed": false
   },
   "outputs": [],
   "source": [
    "corpus = corpus_class.load_from_file()"
   ]
  },
  {
   "cell_type": "markdown",
   "metadata": {},
   "source": [
    "## initializing corpus"
   ]
  },
  {
   "cell_type": "code",
   "execution_count": 427,
   "metadata": {
    "collapsed": false
   },
   "outputs": [],
   "source": [
    "qfile_train = 'question_train.csv'\n",
    "qcatfile_train = 'question_category_train.csv'\n",
    "catfile = 'category.csv'\n",
    "qfile_test = 'question_test.csv'\n",
    "filtees = std_filters()"
   ]
  },
  {
   "cell_type": "code",
   "execution_count": 428,
   "metadata": {
    "collapsed": false
   },
   "outputs": [],
   "source": [
    "corpus = corpus_class.corpus( categories.categories(subcategories=False) );\n",
    "corpus.load(qfile_train, qcatfile_train);\n",
    "corpus.process(corpus_size=1, test_corpus=True, **filtees);\n",
    "corpus.save();"
   ]
  },
  {
   "cell_type": "code",
   "execution_count": 517,
   "metadata": {
    "collapsed": false
   },
   "outputs": [
    {
     "data": {
      "text/plain": [
       "(1422, 14534)"
      ]
     },
     "execution_count": 517,
     "metadata": {},
     "output_type": "execute_result"
    }
   ],
   "source": [
    "(X_tr, y_tr), (X_te, y_te) = corpus.simple_split(0.1)\n",
    "X_te.shape"
   ]
  },
  {
   "cell_type": "markdown",
   "metadata": {},
   "source": [
    "# Standart Avaraging"
   ]
  },
  {
   "cell_type": "code",
   "execution_count": 518,
   "metadata": {
    "collapsed": true
   },
   "outputs": [],
   "source": [
    "clf_nb = MultinomialNB(alpha=0.1)\n",
    "clf_lr = LogisticRegression(C=2.5)"
   ]
  },
  {
   "cell_type": "code",
   "execution_count": 519,
   "metadata": {
    "collapsed": false
   },
   "outputs": [],
   "source": [
    "bcf = VotingClassifier(estimators=[('lr', clf_lr), ('nb', clf_nb)], voting='soft') #('svc', clf_svc)"
   ]
  },
  {
   "cell_type": "code",
   "execution_count": 520,
   "metadata": {
    "collapsed": false
   },
   "outputs": [],
   "source": [
    "bcf.fit(X_tr, y_tr);"
   ]
  },
  {
   "cell_type": "code",
   "execution_count": 521,
   "metadata": {
    "collapsed": false
   },
   "outputs": [
    {
     "data": {
      "text/plain": [
       "(0.61111111111111116, 0.56751627216663847)"
      ]
     },
     "execution_count": 521,
     "metadata": {},
     "output_type": "execute_result"
    }
   ],
   "source": [
    "bcf.score(X_te, y_te), f1_scorer(bcf.predict(X_te), y_te, average=\"macro\")"
   ]
  },
  {
   "cell_type": "markdown",
   "metadata": {},
   "source": [
    "### LinearSVC"
   ]
  },
  {
   "cell_type": "code",
   "execution_count": 522,
   "metadata": {
    "collapsed": true
   },
   "outputs": [],
   "source": [
    "tfidf = TfidfTransformer()\n",
    "selection = SelectPercentile(score_func=chi2, percentile=100)\n",
    "lsvm = LinearSVC(C=0.48, penalty='l2')\n",
    "lsvm_clf = Pipeline(steps=[('tfidf', tfidf), ('selection', selection), ('lsvm', lsvm)])\n",
    "def __pri_pro(X):\n",
    "    return abs(lsvm_clf.decision_function(X))\n",
    "lsvm_clf.predict_proba = __pri_pro"
   ]
  },
  {
   "cell_type": "code",
   "execution_count": 523,
   "metadata": {
    "collapsed": false
   },
   "outputs": [],
   "source": [
    "lsvm_clf.fit(corpus.X_tr, corpus.y_tr);"
   ]
  },
  {
   "cell_type": "code",
   "execution_count": 524,
   "metadata": {
    "collapsed": false
   },
   "outputs": [
    {
     "data": {
      "text/plain": [
       "(0.61322081575246135, 0.56435715295110034)"
      ]
     },
     "execution_count": 524,
     "metadata": {},
     "output_type": "execute_result"
    }
   ],
   "source": [
    "lsvm_clf.score(X_te, y_te), f1_scorer(lsvm_clf.predict(X_te), y_te, average=\"macro\")"
   ]
  },
  {
   "cell_type": "markdown",
   "metadata": {},
   "source": [
    "# Using a Classfier for avaraging"
   ]
  },
  {
   "cell_type": "code",
   "execution_count": 38,
   "metadata": {
    "collapsed": true
   },
   "outputs": [],
   "source": [
    "import importlib"
   ]
  },
  {
   "cell_type": "code",
   "execution_count": 39,
   "metadata": {
    "collapsed": false
   },
   "outputs": [],
   "source": [
    "import transform\n",
    "importlib.reload( transform );"
   ]
  },
  {
   "cell_type": "code",
   "execution_count": 81,
   "metadata": {
    "collapsed": false
   },
   "outputs": [],
   "source": [
    "clf_nb = MultinomialNB(alpha=0.1)\n",
    "clf_lr = LogisticRegression(C=2.94705, penalty='l1')\n",
    "\n",
    "tfidf = TfidfTransformer()\n",
    "selection = SelectPercentile(score_func=chi2, percentile=70)\n",
    "lsvm = LinearSVC(C=0.48, class_weight=None, penalty='l2')\n",
    "lsvm_clf = Pipeline(steps=[('tfidf', tfidf), ('selection', selection), ('lsvm', lsvm)])\n",
    "def __pri_pro(X):\n",
    "    return abs(lsvm_clf.decision_function(X))\n",
    "lsvm_clf.predict_proba = __pri_pro"
   ]
  },
  {
   "cell_type": "code",
   "execution_count": 82,
   "metadata": {
    "collapsed": false
   },
   "outputs": [],
   "source": [
    "pbb_space = transform.ProbabilitySpace([clf_nb, clf_lr, lsvm_clf], n_folds=8)\n",
    "(X_tr, y_tr), (X_te, y_te) = corpus.simple_split(0.1)\n",
    "\n",
    "Xp_tr, yp_tr = pbb_space.fit_transform(X_tr, y_tr)\n",
    "Xp_te, yp_te = pbb_space.transform(X_te, y_te)"
   ]
  },
  {
   "cell_type": "code",
   "execution_count": 83,
   "metadata": {
    "collapsed": false
   },
   "outputs": [
    {
     "data": {
      "text/plain": [
       "(0.6262699564586357, 0.5723239978464153)"
      ]
     },
     "execution_count": 83,
     "metadata": {},
     "output_type": "execute_result"
    }
   ],
   "source": [
    "bcf = VotingClassifier(estimators=[('lsvm', lsvm_clf),('lr', clf_lr), ('nb', clf_nb)], voting='hard') \n",
    "bcf.fit(X_tr, y_tr)\n",
    "bcf.score(X_te, y_te), f1_scorer(bcf.predict( X_te ), y_te, average=\"macro\")"
   ]
  },
  {
   "cell_type": "code",
   "execution_count": 84,
   "metadata": {
    "collapsed": false
   },
   "outputs": [
    {
     "data": {
      "text/plain": [
       "RandomForestClassifier(bootstrap=True, class_weight=None, criterion='gini',\n",
       "            max_depth=None, max_features=6, max_leaf_nodes=None,\n",
       "            min_impurity_split=1e-07, min_samples_leaf=1,\n",
       "            min_samples_split=2, min_weight_fraction_leaf=0.0,\n",
       "            n_estimators=500, n_jobs=1, oob_score=False, random_state=None,\n",
       "            verbose=0, warm_start=False)"
      ]
     },
     "execution_count": 84,
     "metadata": {},
     "output_type": "execute_result"
    }
   ],
   "source": [
    "final_clf = RandomForestClassifier(n_estimators=500, max_features=6)\n",
    "final_clf.fit( Xp_tr, yp_tr )"
   ]
  },
  {
   "cell_type": "code",
   "execution_count": 85,
   "metadata": {
    "collapsed": false
   },
   "outputs": [
    {
     "data": {
      "text/plain": [
       "(0.62191582002902757, 0.56165139427299893)"
      ]
     },
     "execution_count": 85,
     "metadata": {},
     "output_type": "execute_result"
    }
   ],
   "source": [
    "final_clf.score( Xp_te, yp_te ), f1_scorer(final_clf.predict( Xp_te ), yp_te, average=\"macro\")"
   ]
  },
  {
   "cell_type": "markdown",
   "metadata": {
    "collapsed": true
   },
   "source": [
    "# Correlation"
   ]
  },
  {
   "cell_type": "code",
   "execution_count": 26,
   "metadata": {
    "collapsed": false
   },
   "outputs": [],
   "source": [
    "%matplotlib inline\n",
    "import matplotlib.pyplot as plt"
   ]
  },
  {
   "cell_type": "code",
   "execution_count": null,
   "metadata": {
    "collapsed": true
   },
   "outputs": [],
   "source": [
    "def corr_plot(y1, y2, corpus=corpus):\n",
    "    C = np.zeros((14,14))\n",
    "    for i, j in zip(y1, y2):\n",
    "        C[i, j] += 1\n",
    "    \n",
    "    x = np.repeat(np.arange(14), 14)\n",
    "    y = np.repeat(np.arange(14).reshape(1,14), 14, axis=0)\n",
    "    plt.figure(figsize=(6, 4))\n",
    "    \n",
    "    lables = corpus.cats[:]\n",
    "    plt.yticks(np.arange(14), lables, rotation=0, ha='right')\n",
    "\n",
    "    plt.scatter(x, y, s=C.flatten())"
   ]
  },
  {
   "cell_type": "markdown",
   "metadata": {},
   "source": [
    "# Evalutation"
   ]
  },
  {
   "cell_type": "markdown",
   "metadata": {},
   "source": [
    "## Confidence Measures"
   ]
  },
  {
   "cell_type": "code",
   "execution_count": null,
   "metadata": {
    "collapsed": false
   },
   "outputs": [],
   "source": [
    "clf_fin = RandomForestClassifier(n_estimators=500, max_features=5)\n",
    "clf_fin.fit(Xp_tr, yp_tr)"
   ]
  },
  {
   "cell_type": "markdown",
   "metadata": {},
   "source": [
    "### for all predicitons"
   ]
  },
  {
   "cell_type": "code",
   "execution_count": 29,
   "metadata": {
    "collapsed": false
   },
   "outputs": [],
   "source": [
    "(X_tr, y_tr), (X_te, y_te) = corpus.simple_split(1/6)\n",
    "FINAL.fit(X_tr, y_tr)\n",
    "PP = FINAL.predict_proba(X_te)\n",
    "y_pred = FINAL.predict(X_te)\n",
    "\n",
    "PP = FINAL.predict_proba(X_te)\n",
    "y_pred = FINAL.predict(X_te)\n",
    "P = []\n",
    "for c in range(len(corpus.cats)):\n",
    "    P += [PP[y_pred == c][:,c]]"
   ]
  },
  {
   "cell_type": "code",
   "execution_count": 30,
   "metadata": {
    "collapsed": true
   },
   "outputs": [],
   "source": [
    "P = np.array(P)\n",
    "sort = np.argsort( [-p.mean() for p in P] )\n",
    "P = P[sort]"
   ]
  },
  {
   "cell_type": "code",
   "execution_count": 31,
   "metadata": {
    "collapsed": false
   },
   "outputs": [
    {
     "data": {
      "image/png": "[encoded data removed]",
      "text/plain": [
       "<matplotlib.figure.Figure at 0x7f3aec5d9710>"
      ]
     },
     "metadata": {},
     "output_type": "display_data"
    }
   ],
   "source": [
    "plt.figure(figsize=(7, 5))\n",
    "plt.title('avarage convidence')\n",
    "plt.boxplot(P, vert=True, widths=0.7)\n",
    "lables = corpus.cats[:][sort]\n",
    "plt.xticks(np.arange(14)+1, lables, rotation=30, ha='right')\n",
    "plt.show()"
   ]
  },
  {
   "cell_type": "markdown",
   "metadata": {},
   "source": [
    "### for wrong predicitons"
   ]
  },
  {
   "cell_type": "code",
   "execution_count": 18,
   "metadata": {
    "collapsed": true
   },
   "outputs": [],
   "source": [
    "import corpus as corpus_class\n",
    "corpus = corpus_class.load_from_file()\n",
    "from transform import RandForestPS\n",
    "import numpy as np\n",
    "from sklearn.metrics import accuracy_score"
   ]
  },
  {
   "cell_type": "code",
   "execution_count": 19,
   "metadata": {
    "collapsed": false
   },
   "outputs": [],
   "source": [
    "from os import listdir\n",
    "import pickle\n",
    "\n",
    "ESTIMATORS = []\n",
    "for f in listdir(\"best_estimators\"):\n",
    "    with open(\"best_estimators/\"+f, 'rb') as file:\n",
    "        ESTIMATORS += [ ( f[:-4], pickle.load(file) ) ]\n",
    "CLFS = [clf for _, clf in ESTIMATORS]\n",
    "\n",
    "FINAL = RandForestPS(CLFS, \n",
    "                         n_folds=8, \n",
    "                         n_estimators=75, \n",
    "                         max_features=10,\n",
    "                         max_depth=None,\n",
    "                         min_samples_leaf=10, \n",
    "                         min_samples_split=10)"
   ]
  },
  {
   "cell_type": "code",
   "execution_count": 23,
   "metadata": {
    "collapsed": false
   },
   "outputs": [],
   "source": [
    "(X_tr, y_tr), (X_te, y_te) = corpus.simple_split(1/6)\n",
    "FINAL.fit(X_tr, y_tr)\n",
    "PP = FINAL.predict_proba(X_te)\n",
    "y_pred = FINAL.predict(X_te)\n",
    "P = []\n",
    "for c in range(len(corpus.cats)):\n",
    "    ps = np.array([PP[i,c] for i in range(len(y_te)) if (y_pred[i] == c)&(y_pred[i] != y_te[i])])\n",
    "    P += [ps]"
   ]
  },
  {
   "cell_type": "code",
   "execution_count": 24,
   "metadata": {
    "collapsed": false
   },
   "outputs": [],
   "source": [
    "P = np.array(P)\n",
    "sort = np.argsort( [-p.mean() for p in P] )\n",
    "P = P[sort]"
   ]
  },
  {
   "cell_type": "code",
   "execution_count": 27,
   "metadata": {
    "collapsed": false
   },
   "outputs": [
    {
     "data": {
      "image/png": "[encoded data removed]",
      "text/plain": [
       "<matplotlib.figure.Figure at 0x7f3aec883cf8>"
      ]
     },
     "metadata": {},
     "output_type": "display_data"
    }
   ],
   "source": [
    "plt.figure(figsize=(7, 5))\n",
    "plt.title('avarage convidence when wrong')\n",
    "plt.boxplot(P, vert=True, widths=0.7)\n",
    "lables = corpus.cats[:][sort]\n",
    "plt.xticks(np.arange(14)+1, lables, rotation=30, ha='right')\n",
    "plt.show() "
   ]
  },
  {
   "cell_type": "code",
   "execution_count": null,
   "metadata": {
    "collapsed": true
   },
   "outputs": [],
   "source": []
  }
 ],
 "metadata": {
  "kernelspec": {
   "display_name": "Python 3",
   "language": "python",
   "name": "python3"
  },
  "language_info": {
   "codemirror_mode": {
    "name": "ipython",
    "version": 3
   },
   "file_extension": ".py",
   "mimetype": "text/x-python",
   "name": "python",
   "nbconvert_exporter": "python",
   "pygments_lexer": "ipython3",
   "version": "3.4.3"
  }
 },
 "nbformat": 4,
 "nbformat_minor": 0
}
