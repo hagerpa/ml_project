{
 "cells": [
  {
   "cell_type": "code",
   "execution_count": 2,
   "metadata": {
    "collapsed": true
   },
   "outputs": [],
   "source": [
    "import numpy as np"
   ]
  },
  {
   "cell_type": "code",
   "execution_count": 27,
   "metadata": {
    "collapsed": false
   },
   "outputs": [],
   "source": [
    "r = np.random.randint(3, size=(5,20))"
   ]
  },
  {
   "cell_type": "code",
   "execution_count": 31,
   "metadata": {
    "collapsed": false
   },
   "outputs": [
    {
     "data": {
      "text/plain": [
       "array([[1, 0, 0, 0, 0, 1, 2, 2, 1, 2, 0, 2, 0, 1, 2, 1, 2, 0, 1, 0],\n",
       "       [2, 2, 0, 0, 0, 2, 1, 0, 1, 0, 0, 0, 1, 0, 2, 2, 2, 0, 0, 0],\n",
       "       [2, 0, 0, 1, 1, 2, 0, 2, 0, 0, 2, 2, 1, 1, 1, 1, 2, 0, 1, 2],\n",
       "       [0, 0, 0, 1, 0, 0, 0, 1, 2, 2, 1, 1, 2, 0, 2, 0, 1, 0, 2, 0],\n",
       "       [1, 2, 1, 2, 1, 0, 2, 1, 1, 0, 0, 0, 2, 1, 2, 2, 1, 0, 2, 1]])"
      ]
     },
     "execution_count": 31,
     "metadata": {},
     "output_type": "execute_result"
    }
   ],
   "source": [
    "r"
   ]
  },
  {
   "cell_type": "code",
   "execution_count": 32,
   "metadata": {
    "collapsed": false
   },
   "outputs": [
    {
     "data": {
      "text/plain": [
       "array([[0, 0, 0, 0, 0, 0, 0, 0, 0, 0, 0, 0, 0, 0, 0, 0, 0, 0, 0, 0],\n",
       "       [2, 2, 0, 0, 0, 2, 1, 0, 1, 0, 0, 0, 1, 0, 2, 2, 2, 0, 0, 0],\n",
       "       [4, 0, 0, 2, 2, 4, 0, 4, 0, 0, 4, 4, 2, 2, 2, 2, 4, 0, 2, 4],\n",
       "       [0, 0, 0, 3, 0, 0, 0, 3, 6, 6, 3, 3, 6, 0, 6, 0, 3, 0, 6, 0],\n",
       "       [4, 8, 4, 8, 4, 0, 8, 4, 4, 0, 0, 0, 8, 4, 8, 8, 4, 0, 8, 4]])"
      ]
     },
     "execution_count": 32,
     "metadata": {},
     "output_type": "execute_result"
    }
   ],
   "source": [
    "(r.T * np.arange(5)).T"
   ]
  },
  {
   "cell_type": "code",
   "execution_count": 8,
   "metadata": {
    "collapsed": false
   },
   "outputs": [
    {
     "data": {
      "text/plain": [
       "array([22, 21, 18, 10, 22])"
      ]
     },
     "execution_count": 8,
     "metadata": {},
     "output_type": "execute_result"
    }
   ],
   "source": [
    "np.sum(a, axis=1)"
   ]
  },
  {
   "cell_type": "code",
   "execution_count": 41,
   "metadata": {
    "collapsed": false
   },
   "outputs": [],
   "source": [
    "X = np.random.randint(3, size=(5,20))\n",
    "\n",
    "Y = X.T\n",
    "n, d = Y.shape\n",
    "\n",
    "a = n / np.sum(Y>0, axis=0)\n",
    "Y = Y * np.log(a)\n",
    "Y = Y * np.sum(Y**2, axis=0)**(-0.5)"
   ]
  },
  {
   "cell_type": "code",
   "execution_count": 46,
   "metadata": {
    "collapsed": false
   },
   "outputs": [
    {
     "data": {
      "text/plain": [
       "(5, 20)"
      ]
     },
     "execution_count": 46,
     "metadata": {},
     "output_type": "execute_result"
    }
   ],
   "source": [
    "Y.T.shape"
   ]
  },
  {
   "cell_type": "code",
   "execution_count": 6,
   "metadata": {
    "collapsed": false
   },
   "outputs": [
    {
     "data": {
      "text/plain": [
       "array([[ 0,  1,  2,  3,  4],\n",
       "       [ 5,  6,  7,  8,  9],\n",
       "       [10, 11, 12, 13, 14],\n",
       "       [15, 16, 17, 18, 19],\n",
       "       [20, 21, 22, 23, 24],\n",
       "       [25, 26, 27, 28, 29],\n",
       "       [30, 31, 32, 33, 34],\n",
       "       [35, 36, 37, 38, 39],\n",
       "       [40, 41, 42, 43, 44],\n",
       "       [45, 46, 47, 48, 49]])"
      ]
     },
     "execution_count": 6,
     "metadata": {},
     "output_type": "execute_result"
    }
   ],
   "source": [
    "a = np.arange(10*5).reshape(10,5)\n",
    "a"
   ]
  },
  {
   "cell_type": "code",
   "execution_count": 12,
   "metadata": {
    "collapsed": false
   },
   "outputs": [
    {
     "data": {
      "text/plain": [
       "(10,)"
      ]
     },
     "execution_count": 12,
     "metadata": {},
     "output_type": "execute_result"
    }
   ],
   "source": [
    "a[:,3].shape = np.arange(10)"
   ]
  },
  {
   "cell_type": "code",
   "execution_count": 11,
   "metadata": {
    "collapsed": false
   },
   "outputs": [
    {
     "data": {
      "text/plain": [
       "array([[ 0,  1,  2,  0,  4],\n",
       "       [ 5,  6,  7,  1,  9],\n",
       "       [10, 11, 12,  2, 14],\n",
       "       [15, 16, 17,  3, 19],\n",
       "       [20, 21, 22,  4, 24],\n",
       "       [ 0,  1,  2,  5,  4],\n",
       "       [30, 31, 32,  6, 34],\n",
       "       [35, 36, 37,  7, 39],\n",
       "       [40, 41, 42,  8, 44],\n",
       "       [45, 46, 47,  9, 49]])"
      ]
     },
     "execution_count": 11,
     "metadata": {},
     "output_type": "execute_result"
    }
   ],
   "source": [
    "a"
   ]
  },
  {
   "cell_type": "code",
   "execution_count": null,
   "metadata": {
    "collapsed": true
   },
   "outputs": [],
   "source": []
  }
 ],
 "metadata": {
  "kernelspec": {
   "display_name": "Python 3",
   "language": "python",
   "name": "python3"
  },
  "language_info": {
   "codemirror_mode": {
    "name": "ipython",
    "version": 3
   },
   "file_extension": ".py",
   "mimetype": "text/x-python",
   "name": "python",
   "nbconvert_exporter": "python",
   "pygments_lexer": "ipython3",
   "version": "3.5.1"
  }
 },
 "nbformat": 4,
 "nbformat_minor": 0
}
