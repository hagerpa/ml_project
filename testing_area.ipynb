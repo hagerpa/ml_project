{
 "cells": [
  {
   "cell_type": "code",
   "execution_count": 1,
   "metadata": {
    "collapsed": false
   },
   "outputs": [],
   "source": [
    "import corpus as corpus_class\n",
    "import categories, filters, vocabulary_builders\n",
    "from feature_extractors import multinomial_model, tfidf\n",
    "from filters import std_filters\n",
    "\n",
    "import numpy as np\n",
    "import time\n",
    "\n",
    "from sklearn.metrics import f1_score as f1_scorer\n",
    "\n",
    "from sklearn.decomposition import TruncatedSVD\n",
    "\n",
    "from sklearn.ensemble import VotingClassifier, RandomForestClassifier\n",
    "from sklearn.naive_bayes import MultinomialNB\n",
    "from sklearn.linear_model import LogisticRegression\n",
    "from sklearn.svm import SVC, LinearSVC\n",
    "from sklearn.tree import DecisionTreeClassifier\n",
    "from sklearn.discriminant_analysis import LinearDiscriminantAnalysis as LDA\n",
    "from sklearn.pipeline import Pipeline\n",
    "from sklearn.feature_extraction.text import TfidfTransformer\n",
    "from sklearn.feature_selection import SelectPercentile, chi2"
   ]
  },
  {
   "cell_type": "code",
   "execution_count": 2,
   "metadata": {
    "collapsed": false
   },
   "outputs": [],
   "source": [
    "corpus = corpus_class.load_from_file()"
   ]
  },
  {
   "cell_type": "markdown",
   "metadata": {},
   "source": [
    "## initializing corpus"
   ]
  },
  {
   "cell_type": "code",
   "execution_count": 3,
   "metadata": {
    "collapsed": true
   },
   "outputs": [],
   "source": [
    "qfile_train = 'question_train.csv'\n",
    "qcatfile_train = 'question_category_train.csv'\n",
    "catfile = 'category.csv'\n",
    "qfile_test = 'question_test.csv'\n",
    "filtees = std_filters()"
   ]
  },
  {
   "cell_type": "code",
   "execution_count": 4,
   "metadata": {
    "collapsed": false
   },
   "outputs": [
    {
     "name": "stderr",
     "output_type": "stream",
     "text": [
      "/home/mlp_02/virt3_mlp/lib/python3.4/site-packages/numpy/core/fromnumeric.py:2699: VisibleDeprecationWarning: `rank` is deprecated; use the `ndim` attribute or function instead. To find the rank of a matrix see `numpy.linalg.matrix_rank`.\n",
      "  VisibleDeprecationWarning)\n"
     ]
    }
   ],
   "source": [
    "corpus = corpus_class.corpus( categories.categories(subcategories=True) );\n",
    "corpus.load(qfile_train, qcatfile_train);\n",
    "corpus.process(corpus_size=0.8, test_corpus=True, **filtees);\n",
    "corpus.save();"
   ]
  },
  {
   "cell_type": "code",
   "execution_count": 5,
   "metadata": {
    "collapsed": false
   },
   "outputs": [
    {
     "name": "stderr",
     "output_type": "stream",
     "text": [
      "/home/mlp_02/virt3_mlp/lib/python3.4/site-packages/numpy/core/fromnumeric.py:2699: VisibleDeprecationWarning: `rank` is deprecated; use the `ndim` attribute or function instead. To find the rank of a matrix see `numpy.linalg.matrix_rank`.\n",
      "  VisibleDeprecationWarning)\n"
     ]
    }
   ],
   "source": [
    "corpus.simple_split(0);"
   ]
  },
  {
   "cell_type": "code",
   "execution_count": 6,
   "metadata": {
    "collapsed": false
   },
   "outputs": [
    {
     "name": "stderr",
     "output_type": "stream",
     "text": [
      "/home/mlp_02/virt3_mlp/lib/python3.4/site-packages/numpy/core/fromnumeric.py:2699: VisibleDeprecationWarning: `rank` is deprecated; use the `ndim` attribute or function instead. To find the rank of a matrix see `numpy.linalg.matrix_rank`.\n",
      "  VisibleDeprecationWarning)\n"
     ]
    }
   ],
   "source": [
    "X_te, y_te = corpus.test_corpus\n",
    "X_te = corpus.process_example( X_te )"
   ]
  },
  {
   "cell_type": "markdown",
   "metadata": {},
   "source": [
    "# Standart Avaraging"
   ]
  },
  {
   "cell_type": "code",
   "execution_count": 8,
   "metadata": {
    "collapsed": true
   },
   "outputs": [],
   "source": [
    "clf_nb = MultinomialNB(alpha=0.1)\n",
    "clf_lr = LogisticRegression(C=2.0)"
   ]
  },
  {
   "cell_type": "code",
   "execution_count": 11,
   "metadata": {
    "collapsed": false
   },
   "outputs": [],
   "source": [
    "bcf = VotingClassifier(estimators=[('lsvm_clf', lsvm_clf),('lr', clf_lr), ('nb', clf_nb)], voting='hard') #('svc', clf_svc)"
   ]
  },
  {
   "cell_type": "code",
   "execution_count": 12,
   "metadata": {
    "collapsed": false
   },
   "outputs": [
    {
     "name": "stderr",
     "output_type": "stream",
     "text": [
      "/home/mlp_02/virt3_mlp/lib/python3.4/site-packages/numpy/core/fromnumeric.py:2699: VisibleDeprecationWarning: `rank` is deprecated; use the `ndim` attribute or function instead. To find the rank of a matrix see `numpy.linalg.matrix_rank`.\n",
      "  VisibleDeprecationWarning)\n",
      "/home/mlp_02/virt3_mlp/lib/python3.4/site-packages/numpy/core/fromnumeric.py:2699: VisibleDeprecationWarning: `rank` is deprecated; use the `ndim` attribute or function instead. To find the rank of a matrix see `numpy.linalg.matrix_rank`.\n",
      "  VisibleDeprecationWarning)\n"
     ]
    }
   ],
   "source": [
    "bcf.fit(corpus.X_tr, corpus.y_tr);\n",
    "clf_nb.fit(corpus.X_tr, corpus.y_tr);"
   ]
  },
  {
   "cell_type": "code",
   "execution_count": 13,
   "metadata": {
    "collapsed": false
   },
   "outputs": [
    {
     "name": "stderr",
     "output_type": "stream",
     "text": [
      "/home/mlp_02/virt3_mlp/lib/python3.4/site-packages/numpy/core/fromnumeric.py:2699: VisibleDeprecationWarning: `rank` is deprecated; use the `ndim` attribute or function instead. To find the rank of a matrix see `numpy.linalg.matrix_rank`.\n",
      "  VisibleDeprecationWarning)\n",
      "/home/mlp_02/virt3_mlp/lib/python3.4/site-packages/sklearn/metrics/classification.py:1115: UndefinedMetricWarning: F-score is ill-defined and being set to 0.0 in labels with no true samples.\n",
      "  'recall', 'true', average, warn_for)\n"
     ]
    },
    {
     "data": {
      "text/plain": [
       "(0.50069348127600555, 0.33605760905696319)"
      ]
     },
     "execution_count": 13,
     "metadata": {},
     "output_type": "execute_result"
    }
   ],
   "source": [
    "bcf.score(X_te, y_te), f1_scorer(bcf.predict(X_te), y_te, average=\"macro\")"
   ]
  },
  {
   "cell_type": "markdown",
   "metadata": {},
   "source": [
    "## SVM"
   ]
  },
  {
   "cell_type": "markdown",
   "metadata": {},
   "source": [
    "### with LDA"
   ]
  },
  {
   "cell_type": "code",
   "execution_count": null,
   "metadata": {
    "collapsed": true
   },
   "outputs": [],
   "source": [
    "tfidf = TfidfTransformer()\n",
    "selection = SelectPercentile(score_func=chi2, percentile=90)\n",
    "lsa = TruncatedSVD(n_components=2000)\n",
    "lda = LDA(n_components=26)\n",
    "svm = SVC(kernel=\"rbf\", C=5, probability=True)\n",
    "lls_clf = Pipeline(steps=[('tfidf', tfidf), ('selection', selection), ('lsa', lsa), ('lda', lda), ('svm', svm)])"
   ]
  },
  {
   "cell_type": "code",
   "execution_count": null,
   "metadata": {
    "collapsed": false
   },
   "outputs": [],
   "source": [
    "lls_clf.fit(corpus.X_tr, corpus.y_tr)"
   ]
  },
  {
   "cell_type": "code",
   "execution_count": null,
   "metadata": {
    "collapsed": false
   },
   "outputs": [],
   "source": [
    "lls_clf.score(X_te, y_te), f1_scorer(lls_clf.predict(X_te), y_te, average=\"macro\")"
   ]
  },
  {
   "cell_type": "markdown",
   "metadata": {},
   "source": [
    "### LinearSVC"
   ]
  },
  {
   "cell_type": "code",
   "execution_count": 14,
   "metadata": {
    "collapsed": true
   },
   "outputs": [],
   "source": [
    "tfidf = TfidfTransformer()\n",
    "selection = SelectPercentile(score_func=chi2, percentile=100)\n",
    "lsvm = LinearSVC(C=0.48, intercept_scaling=0.5, class_weight=None, penalty='l2')\n",
    "lsvm_clf = Pipeline(steps=[('tfidf', tfidf), ('selection', selection), ('lsvm', lsvm)])\n",
    "def __pri_pro(X): return abs(lsvm_clf.decision_function(X))\n",
    "lsvm_clf.predict_proba = __pri_pro"
   ]
  },
  {
   "cell_type": "code",
   "execution_count": 15,
   "metadata": {
    "collapsed": false
   },
   "outputs": [
    {
     "name": "stderr",
     "output_type": "stream",
     "text": [
      "/home/mlp_02/virt3_mlp/lib/python3.4/site-packages/numpy/core/fromnumeric.py:2699: VisibleDeprecationWarning: `rank` is deprecated; use the `ndim` attribute or function instead. To find the rank of a matrix see `numpy.linalg.matrix_rank`.\n",
      "  VisibleDeprecationWarning)\n"
     ]
    }
   ],
   "source": [
    "lsvm_clf.fit(corpus.X_tr, corpus.y_tr);"
   ]
  },
  {
   "cell_type": "code",
   "execution_count": 16,
   "metadata": {
    "collapsed": false
   },
   "outputs": [
    {
     "name": "stderr",
     "output_type": "stream",
     "text": [
      "/home/mlp_02/virt3_mlp/lib/python3.4/site-packages/numpy/core/fromnumeric.py:2699: VisibleDeprecationWarning: `rank` is deprecated; use the `ndim` attribute or function instead. To find the rank of a matrix see `numpy.linalg.matrix_rank`.\n",
      "  VisibleDeprecationWarning)\n",
      "/home/mlp_02/virt3_mlp/lib/python3.4/site-packages/sklearn/metrics/classification.py:1115: UndefinedMetricWarning: F-score is ill-defined and being set to 0.0 in labels with no true samples.\n",
      "  'recall', 'true', average, warn_for)\n"
     ]
    },
    {
     "data": {
      "text/plain": [
       "(0.5079750346740638, 0.36385730719395654)"
      ]
     },
     "execution_count": 16,
     "metadata": {},
     "output_type": "execute_result"
    }
   ],
   "source": [
    "lsvm_clf.score(X_te, y_te), f1_scorer(lsvm_clf.predict(X_te), y_te, average=\"macro\")"
   ]
  },
  {
   "cell_type": "code",
   "execution_count": null,
   "metadata": {
    "collapsed": false
   },
   "outputs": [],
   "source": [
    "lsvm_clf.predict_proba(X_te)"
   ]
  },
  {
   "cell_type": "markdown",
   "metadata": {},
   "source": [
    "# Using a Classfier for avaraging"
   ]
  },
  {
   "cell_type": "code",
   "execution_count": null,
   "metadata": {
    "collapsed": false
   },
   "outputs": [],
   "source": [
    "corpus.cv_split(8)\n",
    "SEED = corpus.random_seed\n",
    "\n",
    "P = []\n",
    "lP = []\n",
    "corpus.reset()\n",
    "for corpus in corpus:\n",
    "    clf_nb = MultinomialNB(alpha=0.1)\n",
    "    clf_nb.fit(corpus.X_tr, corpus.y_tr)\n",
    "    \n",
    "    clf_lr = LogisticRegression(C=2.0)\n",
    "    clf_lr.fit(corpus.X_tr, corpus.y_tr)\n",
    "    \n",
    "    lsvm_clf.fit(corpus.X_tr, corpus.y_tr)\n",
    "    \n",
    "    CLFS = [clf_nb, clf_lr, lsvm_clf]\n",
    "    A = [ clf.predict_proba( corpus.X_te ) for clf in CLFS]\n",
    "    P += [ np.concatenate(A, axis=1) ]\n",
    "    lP += [ corpus.y_te ]\n",
    "\n",
    "Xp_tr = np.concatenate(P, axis=0)\n",
    "yp_tr = np.concatenate(lP, axis=0)"
   ]
  },
  {
   "cell_type": "code",
   "execution_count": null,
   "metadata": {
    "collapsed": false
   },
   "outputs": [],
   "source": [
    "corpus.simple_split(0)\n",
    "\n",
    "for clf in CLFS:\n",
    "    clf.fit(corpus.X_tr, corpus.y_tr)\n",
    "\n",
    "X_te, yp_te = corpus.test_corpus\n",
    "X_te = corpus.process_example( X_te )    \n",
    "Xp_te = np.concatenate( [ clf.predict_proba( X_te ) for clf in CLFS] , axis=1)"
   ]
  },
  {
   "cell_type": "code",
   "execution_count": null,
   "metadata": {
    "collapsed": false
   },
   "outputs": [],
   "source": [
    "clf_fin = RandomForestClassifier(n_estimators=500, max_features=6)\n",
    "clf_fin.fit(Xp_tr, yp_tr)"
   ]
  },
  {
   "cell_type": "code",
   "execution_count": null,
   "metadata": {
    "collapsed": false
   },
   "outputs": [],
   "source": [
    "clf_fin.score(Xp_te, yp_te), f1_scorer(clf_fin.predict(Xp_te), yp_te, average=\"macro\")"
   ]
  },
  {
   "cell_type": "markdown",
   "metadata": {
    "collapsed": true
   },
   "source": [
    "# Correlation"
   ]
  },
  {
   "cell_type": "code",
   "execution_count": null,
   "metadata": {
    "collapsed": false
   },
   "outputs": [],
   "source": [
    "%matplotlib inline\n",
    "import matplotlib.pyplot as plt"
   ]
  },
  {
   "cell_type": "code",
   "execution_count": null,
   "metadata": {
    "collapsed": true
   },
   "outputs": [],
   "source": [
    "def corr_plot(y1, y2, corpus=corpus):\n",
    "    C = np.zeros((14,14))\n",
    "    for i, j in zip(y1, y2):\n",
    "        C[i, j] += 1\n",
    "    \n",
    "    x = np.repeat(np.arange(14), 14)\n",
    "    y = np.repeat(np.arange(14).reshape(1,14), 14, axis=0)\n",
    "    plt.figure(figsize=(6, 4))\n",
    "    \n",
    "    lables = corpus.cats[:]\n",
    "    plt.yticks(np.arange(14), lables, rotation=0, ha='right')\n",
    "\n",
    "    plt.scatter(x, y, s=C.flatten())"
   ]
  },
  {
   "cell_type": "markdown",
   "metadata": {},
   "source": [
    "# Evalutation"
   ]
  },
  {
   "cell_type": "markdown",
   "metadata": {},
   "source": [
    "## Confidence Measures"
   ]
  },
  {
   "cell_type": "code",
   "execution_count": null,
   "metadata": {
    "collapsed": false
   },
   "outputs": [],
   "source": [
    "clf_fin = RandomForestClassifier(n_estimators=500, max_features=5)\n",
    "clf_fin.fit(Xp_tr, yp_tr)"
   ]
  },
  {
   "cell_type": "markdown",
   "metadata": {},
   "source": [
    "### for all predicitons"
   ]
  },
  {
   "cell_type": "code",
   "execution_count": null,
   "metadata": {
    "collapsed": true
   },
   "outputs": [],
   "source": [
    "PP = clf_fin.predict_proba(Xp_te)\n",
    "y_pred = clf_fin.predict(Xp_te)\n",
    "P = []\n",
    "for c in range(len(corpus.cats)):\n",
    "    P += [PP[y_pred == c][:,c]]"
   ]
  },
  {
   "cell_type": "code",
   "execution_count": null,
   "metadata": {
    "collapsed": true
   },
   "outputs": [],
   "source": [
    "P = np.array(P)\n",
    "sort = np.argsort( [-p.mean() for p in P] )\n",
    "P = P[sort]"
   ]
  },
  {
   "cell_type": "code",
   "execution_count": null,
   "metadata": {
    "collapsed": false
   },
   "outputs": [],
   "source": [
    "plt.figure(figsize=(7, 5))\n",
    "plt.title('avarage convidence')\n",
    "plt.boxplot(P, vert=True, widths=0.7)\n",
    "lables = corpus.cats[:][sort]\n",
    "plt.xticks(np.arange(14)+1, lables, rotation=30, ha='right')\n",
    "plt.show()"
   ]
  },
  {
   "cell_type": "markdown",
   "metadata": {},
   "source": [
    "### for wrong predicitons"
   ]
  },
  {
   "cell_type": "code",
   "execution_count": null,
   "metadata": {
    "collapsed": false
   },
   "outputs": [],
   "source": [
    "PP = clf_fin.predict_proba(Xp_te)\n",
    "y_pred = clf_fin.predict(Xp_te)\n",
    "P = []\n",
    "for c in range(len(corpus.cats)):\n",
    "    ps = np.array([PP[i,c] for i in range(len(yp_te)) if (y_pred[i] == c)&(y_pred[i] != y_te[i])])\n",
    "    P += [ps]"
   ]
  },
  {
   "cell_type": "code",
   "execution_count": null,
   "metadata": {
    "collapsed": false
   },
   "outputs": [],
   "source": [
    "P = np.array(P)\n",
    "sort = np.argsort( [-p.mean() for p in P] )\n",
    "P = P[sort]"
   ]
  },
  {
   "cell_type": "code",
   "execution_count": null,
   "metadata": {
    "collapsed": false
   },
   "outputs": [],
   "source": [
    "plt.figure(figsize=(7, 5))\n",
    "plt.title('avarage convidence when wrong')\n",
    "plt.boxplot(P, vert=True, widths=0.7)\n",
    "lables = corpus.cats[:][sort]\n",
    "plt.xticks(np.arange(14)+1, lables, rotation=30, ha='right')\n",
    "plt.show() "
   ]
  },
  {
   "cell_type": "code",
   "execution_count": 5,
   "metadata": {
    "collapsed": false
   },
   "outputs": [],
   "source": [
    "a = {1:\"hund\", 2:\"Kate\", 3:\"Maus\"}"
   ]
  },
  {
   "cell_type": "code",
   "execution_count": 8,
   "metadata": {
    "collapsed": false
   },
   "outputs": [
    {
     "ename": "TypeError",
     "evalue": "unhashable type: 'list'",
     "output_type": "error",
     "traceback": [
      "\u001b[0;31m---------------------------------------------------------------------------\u001b[0m",
      "\u001b[0;31mTypeError\u001b[0m                                 Traceback (most recent call last)",
      "\u001b[0;32m<ipython-input-8-cf85b9355b94>\u001b[0m in \u001b[0;36m<module>\u001b[0;34m()\u001b[0m\n\u001b[0;32m----> 1\u001b[0;31m \u001b[0ma\u001b[0m\u001b[0;34m[\u001b[0m\u001b[0;34m[\u001b[0m\u001b[0;36m1\u001b[0m\u001b[0;34m,\u001b[0m\u001b[0;36m2\u001b[0m\u001b[0;34m,\u001b[0m\u001b[0;36m3\u001b[0m\u001b[0;34m]\u001b[0m\u001b[0;34m]\u001b[0m\u001b[0;34m\u001b[0m\u001b[0m\n\u001b[0m",
      "\u001b[0;31mTypeError\u001b[0m: unhashable type: 'list'"
     ]
    }
   ],
   "source": [
    "a[[1,2,3]]"
   ]
  },
  {
   "cell_type": "code",
   "execution_count": null,
   "metadata": {
    "collapsed": true
   },
   "outputs": [],
   "source": []
  }
 ],
 "metadata": {
  "kernelspec": {
   "display_name": "Python 3",
   "language": "python",
   "name": "python3"
  },
  "language_info": {
   "codemirror_mode": {
    "name": "ipython",
    "version": 3
   },
   "file_extension": ".py",
   "mimetype": "text/x-python",
   "name": "python",
   "nbconvert_exporter": "python",
   "pygments_lexer": "ipython3",
   "version": "3.4.3"
  }
 },
 "nbformat": 4,
 "nbformat_minor": 0
}
