{
 "cells": [
  {
   "cell_type": "code",
   "execution_count": 1,
   "metadata": {
    "collapsed": false
   },
   "outputs": [],
   "source": [
    "import csv, re, pickle, itertools, progressbar, importlib\n",
    "import numpy as np\n",
    "import nltk\n",
    "from nltk import word_tokenize\n",
    "import time\n",
    "\n",
    "import categories\n",
    "import corpus as corpus_class\n",
    "import filters, vocabulary_builders, vocabulary_tester\n",
    "from vocabulary_builders import most_common, most_common_reduced, ig_based, ig_based_non_uniform"
   ]
  },
  {
   "cell_type": "code",
   "execution_count": 2,
   "metadata": {
    "collapsed": false
   },
   "outputs": [],
   "source": [
    "importlib.reload(categories);\n",
    "importlib.reload(corpus_class);\n",
    "importlib.reload(vocabulary_builders);"
   ]
  },
  {
   "cell_type": "code",
   "execution_count": 3,
   "metadata": {
    "collapsed": false
   },
   "outputs": [],
   "source": [
    "cats = categories.categories()\n",
    "corpus = corpus_class.corpus(cats)\n",
    "corpus.load(\"question_train.csv\", \"question_category_train.csv\")"
   ]
  },
  {
   "cell_type": "markdown",
   "metadata": {},
   "source": [
    "# Testing with and without stemming"
   ]
  },
  {
   "cell_type": "code",
   "execution_count": 4,
   "metadata": {
    "collapsed": false
   },
   "outputs": [],
   "source": [
    "file_name = \"vacabulary_test_results/evaluation_stemming_\"\n",
    "file_name += time.strftime(\"_%d-%m-%Y_%H-%M.csv\", time.gmtime())\n",
    "res_file = open(file_name, 'w+')\n",
    "res_writer = csv.writer(res_file)\n",
    "res_writer.writerow([\"vocabulary_builder\", \"comment\", \"arguments\",\n",
    "                     \"vocabulary_length\", \"tr_set_size\", \"te_set_size\", \"standard_accuracy\", \"uniform_accuracy\"]);"
   ]
  },
  {
   "cell_type": "markdown",
   "metadata": {},
   "source": [
    "### without"
   ]
  },
  {
   "cell_type": "code",
   "execution_count": 5,
   "metadata": {
    "collapsed": false
   },
   "outputs": [],
   "source": [
    "sentence_filters = [filters.punctuation_filter]\n",
    "word_filters = [filters.small_word_filter, filters.stopword_filter]\n",
    "\n",
    "corpus.process(sentence_filters, word_filters, tr_set_size=10000)"
   ]
  },
  {
   "cell_type": "code",
   "execution_count": 6,
   "metadata": {
    "collapsed": false
   },
   "outputs": [
    {
     "name": "stdout",
     "output_type": "stream",
     "text": [
      "most-common vocabulary builder, arguments {'M': 200}, without stemming\n",
      " --- vocabulary volume:  1756\n",
      " --- training classifier...\n",
      " --- ...classifier is trained.\n",
      " --- testing classifier: \n",
      " --- standart accurcy: 0.3\n",
      " --- uniform accuracy: 0.18758503401360543\n",
      "\n",
      "most-common vocabulary builder, arguments {'M': 300}, without stemming\n",
      " --- vocabulary volume:  2127\n",
      " --- training classifier...\n",
      " --- ...classifier is trained.\n",
      " --- testing classifier: \n",
      " --- standart accurcy: 0.3\n",
      " --- uniform accuracy: 0.16823979591836732\n",
      "\n",
      "most-common vocabulary builder, arguments {'M': 400}, without stemming\n",
      " --- vocabulary volume:  2276\n",
      " --- training classifier...\n",
      " --- ...classifier is trained.\n",
      " --- testing classifier: \n",
      " --- standart accurcy: 0.31\n",
      " --- uniform accuracy: 0.1733418367346939\n",
      "\n",
      "\n",
      " test are all finshed and saved into file!\n"
     ]
    }
   ],
   "source": [
    "args = [(\"without stemming\", {\"M\": 200}),\n",
    "        (\"without stemming\", {\"M\": 300}),\n",
    "        (\"without stemming\", {\"M\": 400})]\n",
    "\n",
    "vocabulary_tester.test(\"most-common\", most_common, args, corpus, csv_file_writer=res_writer)"
   ]
  },
  {
   "cell_type": "markdown",
   "metadata": {},
   "source": [
    "### with"
   ]
  },
  {
   "cell_type": "code",
   "execution_count": 7,
   "metadata": {
    "collapsed": false
   },
   "outputs": [],
   "source": [
    "word_filters = [filters.stemming_filter]\n",
    "corpus.process([], word_filters, tr_set_size=10000, reprocessing=True)"
   ]
  },
  {
   "cell_type": "code",
   "execution_count": 8,
   "metadata": {
    "collapsed": false
   },
   "outputs": [
    {
     "name": "stdout",
     "output_type": "stream",
     "text": [
      "most-common vocabulary builder, arguments {'M': 200}, stemming\n",
      " --- vocabulary volume:  1642\n",
      " --- training classifier...\n",
      " --- ...classifier is trained.\n",
      " --- testing classifier: \n",
      " --- standart accurcy: 0.33\n",
      " --- uniform accuracy: 0.2050878684807256\n",
      "\n",
      "most-common vocabulary builder, arguments {'M': 300}, stemming\n",
      " --- vocabulary volume:  1964\n",
      " --- training classifier...\n",
      " --- ...classifier is trained.\n",
      " --- testing classifier: \n",
      " --- standart accurcy: 0.36\n",
      " --- uniform accuracy: 0.223188517831375\n",
      "\n",
      "most-common vocabulary builder, arguments {'M': 400}, stemming\n",
      " --- vocabulary volume:  2106\n",
      " --- training classifier...\n",
      " --- ...classifier is trained.\n",
      " --- testing classifier: \n",
      " --- standart accurcy: 0.35\n",
      " --- uniform accuracy: 0.20285121624407337\n",
      "\n",
      "\n",
      " test are all finshed and saved into file!\n"
     ]
    }
   ],
   "source": [
    "args = [(\"stemming\", {\"M\": 200}),\n",
    "        (\"stemming\", {\"M\": 300}),\n",
    "        (\"stemming\", {\"M\": 400})]\n",
    "\n",
    "vocabulary_tester.test(\"most-common\", most_common, args, corpus, csv_file_writer=res_writer)"
   ]
  },
  {
   "cell_type": "code",
   "execution_count": 9,
   "metadata": {
    "collapsed": true
   },
   "outputs": [],
   "source": [
    "res_file.close()"
   ]
  },
  {
   "cell_type": "code",
   "execution_count": null,
   "metadata": {
    "collapsed": true
   },
   "outputs": [],
   "source": []
  }
 ],
 "metadata": {
  "kernelspec": {
   "display_name": "Python 3",
   "language": "python",
   "name": "python3"
  },
  "language_info": {
   "codemirror_mode": {
    "name": "ipython",
    "version": 3
   },
   "file_extension": ".py",
   "mimetype": "text/x-python",
   "name": "python",
   "nbconvert_exporter": "python",
   "pygments_lexer": "ipython3",
   "version": "3.5.1"
  }
 },
 "nbformat": 4,
 "nbformat_minor": 1
}
