{
 "cells": [
  {
   "cell_type": "code",
   "execution_count": 6,
   "metadata": {
    "collapsed": false
   },
   "outputs": [],
   "source": [
    "import csv, importlib\n",
    "import corpus as corpus_class\n",
    "import categories, filters, vocabulary_builders\n",
    "from feature_extractors import multinomial_model, tfidf\n",
    "from filters import std_filters\n",
    "import numpy as np\n",
    "from scipy import sparse"
   ]
  },
  {
   "cell_type": "code",
   "execution_count": 13,
   "metadata": {
    "collapsed": false
   },
   "outputs": [],
   "source": [
    "corpus = corpus_class.corpus( categories.categories() )\n",
    "corpus.load(\"question_train.csv\", \"question_category_train.csv\")\n",
    "corpus.process(**std_filters(), corpus_size=-1)\n",
    "corpus.save()"
   ]
  },
  {
   "cell_type": "code",
   "execution_count": 14,
   "metadata": {
    "collapsed": false
   },
   "outputs": [
    {
     "data": {
      "text/plain": [
       "<corpus.corpus at 0x103217358>"
      ]
     },
     "execution_count": 14,
     "metadata": {},
     "output_type": "execute_result"
    }
   ],
   "source": [
    "corpus.simple_split(0.1)\n",
    "corpus.make_features()"
   ]
  },
  {
   "cell_type": "code",
   "execution_count": 15,
   "metadata": {
    "collapsed": false
   },
   "outputs": [
    {
     "data": {
      "text/plain": [
       "(12975, 13630)"
      ]
     },
     "execution_count": 15,
     "metadata": {},
     "output_type": "execute_result"
    }
   ],
   "source": [
    "corpus.X_tr.shape"
   ]
  },
  {
   "cell_type": "code",
   "execution_count": 83,
   "metadata": {
    "collapsed": false
   },
   "outputs": [
    {
     "data": {
      "text/plain": [
       "0.40932759791713835"
      ]
     },
     "execution_count": 83,
     "metadata": {},
     "output_type": "execute_result"
    }
   ],
   "source": [
    "from sklearn.naive_bayes import BernoulliNB\n",
    "nb_clf = BernoulliNB()\n",
    "nb_clf.fit(corpus.X_tr, np.array(corpus.y_tr, dtype=int))\n",
    "nb_clf.score(corpus.X_te, np.array(corpus.y_te, dtype=int))"
   ]
  },
  {
   "cell_type": "code",
   "execution_count": 101,
   "metadata": {
    "collapsed": false
   },
   "outputs": [
    {
     "data": {
      "text/plain": [
       "0.58093728775186781"
      ]
     },
     "execution_count": 101,
     "metadata": {},
     "output_type": "execute_result"
    }
   ],
   "source": [
    "from sklearn.naive_bayes import MultinomialNB\n",
    "nb_clf = MultinomialNB(alpha=0.1)\n",
    "nb_clf.fit(corpus.X_tr, corpus.y_tr)\n",
    "nb_clf.score(corpus.X_te, corpus.y_te)"
   ]
  },
  {
   "cell_type": "code",
   "execution_count": 108,
   "metadata": {
    "collapsed": false
   },
   "outputs": [
    {
     "data": {
      "text/plain": [
       "0.48019017432646594"
      ]
     },
     "execution_count": 108,
     "metadata": {},
     "output_type": "execute_result"
    }
   ],
   "source": [
    "from sklearn import tree\n",
    "tree_clf = tree.DecisionTreeClassifier()\n",
    "tree_clf = tree_clf.fit(corpus.X_tr, corpus.y_tr)\n",
    "tree_clf.score(corpus.X_te, corpus.y_te)"
   ]
  },
  {
   "cell_type": "code",
   "execution_count": 113,
   "metadata": {
    "collapsed": false
   },
   "outputs": [
    {
     "data": {
      "text/plain": [
       "0.51845143762734891"
      ]
     },
     "execution_count": 113,
     "metadata": {},
     "output_type": "execute_result"
    }
   ],
   "source": [
    "from sklearn.ensemble import RandomForestClassifier\n",
    "forrest_clf = RandomForestClassifier(n_estimators=20,max_features=100)\n",
    "forrest_clf = forrest_clf.fit(corpus.X_tr, corpus.y_tr)\n",
    "forrest_clf.score(corpus.X_te, corpus.y_te)"
   ]
  },
  {
   "cell_type": "code",
   "execution_count": 16,
   "metadata": {
    "collapsed": false
   },
   "outputs": [
    {
     "data": {
      "text/plain": [
       "0.59431345353675447"
      ]
     },
     "execution_count": 16,
     "metadata": {},
     "output_type": "execute_result"
    }
   ],
   "source": [
    "from sklearn.linear_model import LogisticRegression\n",
    "lr_clf = LogisticRegression(penalty='l1', C=3, solver='liblinear')\n",
    "lr_clf = lr_clf.fit(corpus.X_tr, corpus.y_tr)\n",
    "clf = lr_clf\n",
    "lr_clf.score(corpus.X_te, corpus.y_te)"
   ]
  },
  {
   "cell_type": "code",
   "execution_count": 30,
   "metadata": {
    "collapsed": false
   },
   "outputs": [
    {
     "data": {
      "text/plain": [
       "0.17696540866359312"
      ]
     },
     "execution_count": 30,
     "metadata": {},
     "output_type": "execute_result"
    }
   ],
   "source": [
    "from sklearn.linear_model import Lasso\n",
    "lasso_clf = Lasso(alpha=0.001)\n",
    "lasso_clf = lasso_clf.fit(corpus.X_tr, corpus.y_tr)\n",
    "lasso_clf.score(corpus.X_te, corpus.y_te)"
   ]
  },
  {
   "cell_type": "markdown",
   "metadata": {},
   "source": [
    "# Examples"
   ]
  },
  {
   "cell_type": "code",
   "execution_count": 18,
   "metadata": {
    "collapsed": true
   },
   "outputs": [],
   "source": [
    "def mk_pred_expl(expl):\n",
    "    X_expl = corpus.process_example(expl)\n",
    "    _, J, V = sparse.find(X_expl)\n",
    "    print(np.matrix([[*corpus.term_space[J]], [*V]]))\n",
    "    print(\"->\",corpus.cats[ int(clf.predict(X_expl)[0]) ])"
   ]
  },
  {
   "cell_type": "code",
   "execution_count": 19,
   "metadata": {
    "collapsed": false
   },
   "outputs": [
    {
     "name": "stdout",
     "output_type": "stream",
     "text": [
      "[['lieb' 'mann' 'sag' 'soll']\n",
      " ['0.396629973749' '0.339594061415' '0.506862224131' '0.685894469379']]\n",
      "-> liebe_and_beziehung\n"
     ]
    }
   ],
   "source": [
    "expl = [\"Ich liebe meinen Mann nicht. Soll ich es ihm sagen?\"]\n",
    "mk_pred_expl(expl)"
   ]
  },
  {
   "cell_type": "code",
   "execution_count": 20,
   "metadata": {
    "collapsed": false
   },
   "outputs": [
    {
     "name": "stdout",
     "output_type": "stream",
     "text": [
      "[['fussball' 'spielt' 'wieviel' 'deutsch' 'heut' 'uhr' 'nationalmanschaft']\n",
      " ['0.323411558563' '0.292215750989' '0.232326079146' '0.284278827882'\n",
      "  '0.318217206782' '0.425379810347' '0.626908993304']]\n",
      "-> freizeit_and_sport\n"
     ]
    }
   ],
   "source": [
    "expl = [\"Um wieviel uhr spielt die deutsche Fussball-Nationalmanschaft heute?\"]\n",
    "mk_pred_expl(expl)"
   ]
  },
  {
   "cell_type": "code",
   "execution_count": 21,
   "metadata": {
    "collapsed": false
   },
   "outputs": [
    {
     "name": "stdout",
     "output_type": "stream",
     "text": [
      "[['hell' 'paul' 'iq']\n",
      " ['0.548327897495' '0.524703343875' '0.651170421438']]\n",
      "-> stars_and_promis\n"
     ]
    }
   ],
   "source": [
    "expl = [\"Wie viel IQ hat der Paul Heller\"]\n",
    "mk_pred_expl(expl)"
   ]
  },
  {
   "cell_type": "code",
   "execution_count": 22,
   "metadata": {
    "collapsed": false
   },
   "outputs": [
    {
     "name": "stdout",
     "output_type": "stream",
     "text": [
      "[['einwohn' 'berlin']\n",
      " ['0.705801292081' '0.708409864483']]\n",
      "-> schule\n"
     ]
    }
   ],
   "source": [
    "expl = [\"Wie viel Einwohner hat Berlin?\"]\n",
    "mk_pred_expl(expl)"
   ]
  },
  {
   "cell_type": "code",
   "execution_count": 23,
   "metadata": {
    "collapsed": false
   },
   "outputs": [
    {
     "name": "stdout",
     "output_type": "stream",
     "text": [
      "[['spielt' 'lionel' 'messi']\n",
      " ['0.341987865576' '0.679991110965' '0.648580287094']]\n",
      "-> freizeit_and_sport\n"
     ]
    }
   ],
   "source": [
    "expl = [\"Wo spielt Lionel Messi?\"]\n",
    "mk_pred_expl(expl)"
   ]
  },
  {
   "cell_type": "code",
   "execution_count": 24,
   "metadata": {
    "collapsed": false
   },
   "outputs": [
    {
     "name": "stdout",
     "output_type": "stream",
     "text": [
      "[['welt' 'grosst' 'fluss']\n",
      " ['0.379326640652' '0.495399804197' '0.781466783487']]\n",
      "-> schule\n"
     ]
    }
   ],
   "source": [
    "expl = [\"Was ist der größte Fluss der Welt?\"]\n",
    "mk_pred_expl(expl)"
   ]
  },
  {
   "cell_type": "code",
   "execution_count": 26,
   "metadata": {
    "collapsed": false
   },
   "outputs": [
    {
     "name": "stdout",
     "output_type": "stream",
     "text": [
      "[['wach']\n",
      " ['1.0']]\n",
      "-> adult\n"
     ]
    }
   ],
   "source": [
    "expl = [\"Wo wächst Trüffel?\"]\n",
    "mk_pred_expl(expl)"
   ]
  },
  {
   "cell_type": "code",
   "execution_count": 27,
   "metadata": {
    "collapsed": false
   },
   "outputs": [
    {
     "name": "stdout",
     "output_type": "stream",
     "text": [
      "[['bedeutet' 'cornelia']\n",
      " ['0.263991584221' '0.964524983326']]\n",
      "-> namensforschung\n"
     ]
    }
   ],
   "source": [
    "expl = [\"Was bedeutet Cornelia?\"]\n",
    "mk_pred_expl(expl)"
   ]
  },
  {
   "cell_type": "code",
   "execution_count": 28,
   "metadata": {
    "collapsed": false
   },
   "outputs": [
    {
     "name": "stdout",
     "output_type": "stream",
     "text": [
      "[['himmel' 'farb']\n",
      " ['0.744590090358' '0.667521982665']]\n",
      "-> wissen\n"
     ]
    }
   ],
   "source": [
    "expl = [\"Welche Farbe hat der Himmel?\"]\n",
    "mk_pred_expl(expl)"
   ]
  },
  {
   "cell_type": "code",
   "execution_count": 29,
   "metadata": {
    "collapsed": false
   },
   "outputs": [
    {
     "name": "stdout",
     "output_type": "stream",
     "text": [
      "0 (13): schule \n",
      "\t 31\t 32\t 33\t 34\t 35\t 36\t 86\n",
      "1 (12): literatur_and_sprache \n",
      "\t 28\t 29\t 30\t 85\n",
      "2 (11): namensforschung \n",
      "\t 26\t 27\n",
      "3 (7): film_and_musik \n",
      "\t 20\t 21\t 22\t 23\n",
      "4 (8): stars_and_promis \n",
      "\t 70\t 71\t 72\t 73\n",
      "5 (9): computer_and_pc \n",
      "\t 68\t 69\n",
      "6 (10): alltag \n",
      "\t 24\t 25\t 84\n",
      "7 (14): mensch_and_koerper \n",
      "\t 37\t 38\t 39\t 40\t 41\t 42\n",
      "8 (15): freizeit_and_sport \n",
      "\t 43\t 44\t 45\t 46\t 47\n",
      "9 (16): wissen \n",
      "\t 48\t 49\t 50\t 51\t 52\t 53\t 54\t 55\t 56\t 57\t 87\n",
      "10 (17): liebe_and_beziehung \n",
      "\t 58\t 59\t 60\t 61\n",
      "11 (18): astrologie \n",
      "\t 62\t 63\t 64\t 65\n",
      "12 (19): games_and_spiele \n",
      "\t 66\t 67\n",
      "13 (74): adult \n",
      "\t 76\t 77\t 78\t 79\t 80\t 81\t 82\t 83\n",
      "\n"
     ]
    }
   ],
   "source": [
    "print(corpus.cats)"
   ]
  },
  {
   "cell_type": "code",
   "execution_count": 41,
   "metadata": {
    "collapsed": false
   },
   "outputs": [
    {
     "name": "stdout",
     "output_type": "stream",
     "text": [
      "[['liebt' 'wirklich']\n",
      " ['0.742457703708' '0.669892945331']]\n",
      "-> liebe_and_beziehung\n"
     ]
    }
   ],
   "source": [
    "expl = [\"Liebt er mich wirklich?\"]\n",
    "mk_pred_expl(expl)"
   ]
  },
  {
   "cell_type": "code",
   "execution_count": 33,
   "metadata": {
    "collapsed": false
   },
   "outputs": [
    {
     "name": "stdout",
     "output_type": "stream",
     "text": [
      "[['bau' 'bomb']\n",
      " ['0.609097135707' '0.793095630598']]\n",
      "-> wissen\n"
     ]
    }
   ],
   "source": [
    "expl = [\"Wie baue ich eine Bombe?\"]\n",
    "mk_pred_expl(expl)"
   ]
  },
  {
   "cell_type": "code",
   "execution_count": 34,
   "metadata": {
    "collapsed": false
   },
   "outputs": [
    {
     "name": "stdout",
     "output_type": "stream",
     "text": [
      "[['dr' 'seltsam' 'baut' 'bomb']\n",
      " ['0.419077142011' '0.536978176797' '0.497677831868' '0.536978176797']]\n",
      "-> wissen\n"
     ]
    }
   ],
   "source": [
    "expl = [\"Wie baute Dr. Seltsam eine Bombe\"]\n",
    "mk_pred_expl(expl)"
   ]
  },
  {
   "cell_type": "code",
   "execution_count": 40,
   "metadata": {
    "collapsed": false
   },
   "outputs": [
    {
     "name": "stdout",
     "output_type": "stream",
     "text": [
      "[['zwilling']\n",
      " ['1.0']]\n",
      "-> astrologie\n"
     ]
    }
   ],
   "source": [
    "expl = [\"Welchen Aszentenden hat Zwilling?\"]\n",
    "mk_pred_expl(expl)"
   ]
  },
  {
   "cell_type": "code",
   "execution_count": null,
   "metadata": {
    "collapsed": true
   },
   "outputs": [],
   "source": []
  }
 ],
 "metadata": {
  "kernelspec": {
   "display_name": "Python 3",
   "language": "python",
   "name": "python3"
  },
  "language_info": {
   "codemirror_mode": {
    "name": "ipython",
    "version": 3
   },
   "file_extension": ".py",
   "mimetype": "text/x-python",
   "name": "python",
   "nbconvert_exporter": "python",
   "pygments_lexer": "ipython3",
   "version": "3.5.1"
  }
 },
 "nbformat": 4,
 "nbformat_minor": 0
}
