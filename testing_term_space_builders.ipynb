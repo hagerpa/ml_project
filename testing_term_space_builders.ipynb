{
 "cells": [
  {
   "cell_type": "code",
   "execution_count": 1,
   "metadata": {
    "collapsed": false
   },
   "outputs": [],
   "source": [
    "import csv, importlib\n",
    "import corpus as corpus_class\n",
    "import categories, filters, vocabulary_builders\n",
    "from feature_extractors import multinomial_model, tfidf\n",
    "import numpy as np\n",
    "from scipy import sparse"
   ]
  },
  {
   "cell_type": "code",
   "execution_count": 2,
   "metadata": {
    "collapsed": false
   },
   "outputs": [
    {
     "name": "stdout",
     "output_type": "stream",
     "text": [
      "14 categories. \n",
      "14417 docuemnts loaded from file. \n",
      "processed: True \n",
      "\t Training-set, Test-set size: (10000, 4417) \n",
      "\t\t sentence_filters: ['punctuation_filter'] \n",
      "\t\t word_filters: ['small_word_filter', 'stopword_filter', 'stemming_filter'] \n",
      "made numeric features: False \n",
      "\n"
     ]
    }
   ],
   "source": [
    "cats = categories.categories()\n",
    "\n",
    "corpus = corpus_class.corpus(cats)\n",
    "corpus.load(\"question_train.csv\", \"question_category_train.csv\")\n",
    "\n",
    "sentence_filters = [filters.punctuation_filter]\n",
    "word_filters = [filters.small_word_filter, filters.stopword_filter, filters.stemming_filter]\n",
    "\n",
    "corpus.process(sentence_filters, word_filters, tr_set_size=10000);\n",
    "print(corpus)"
   ]
  },
  {
   "cell_type": "raw",
   "metadata": {
    "collapsed": true
   },
   "source": [
    "corpus = corpus_class.load_from_file()\n",
    "print(corpus)"
   ]
  },
  {
   "cell_type": "code",
   "execution_count": 3,
   "metadata": {
    "collapsed": false
   },
   "outputs": [],
   "source": [
    "corpus.make_features(-1)\n",
    "corpus.save()"
   ]
  },
  {
   "cell_type": "code",
   "execution_count": 4,
   "metadata": {
    "collapsed": false
   },
   "outputs": [
    {
     "data": {
      "text/plain": [
       "(4417, 11413)"
      ]
     },
     "execution_count": 4,
     "metadata": {},
     "output_type": "execute_result"
    }
   ],
   "source": [
    "corpus.X_te.shape"
   ]
  },
  {
   "cell_type": "code",
   "execution_count": 83,
   "metadata": {
    "collapsed": false
   },
   "outputs": [
    {
     "data": {
      "text/plain": [
       "0.40932759791713835"
      ]
     },
     "execution_count": 83,
     "metadata": {},
     "output_type": "execute_result"
    }
   ],
   "source": [
    "from sklearn.naive_bayes import BernoulliNB\n",
    "nb_clf = BernoulliNB()\n",
    "nb_clf.fit(corpus.X_tr, np.array(corpus.y_tr, dtype=int))\n",
    "nb_clf.score(corpus.X_te, np.array(corpus.y_te, dtype=int))"
   ]
  },
  {
   "cell_type": "code",
   "execution_count": 101,
   "metadata": {
    "collapsed": false
   },
   "outputs": [
    {
     "data": {
      "text/plain": [
       "0.58093728775186781"
      ]
     },
     "execution_count": 101,
     "metadata": {},
     "output_type": "execute_result"
    }
   ],
   "source": [
    "from sklearn.naive_bayes import MultinomialNB\n",
    "nb_clf = MultinomialNB(alpha=0.1)\n",
    "nb_clf.fit(corpus.X_tr, corpus.y_tr)\n",
    "nb_clf.score(corpus.X_te, corpus.y_te)"
   ]
  },
  {
   "cell_type": "code",
   "execution_count": 108,
   "metadata": {
    "collapsed": false
   },
   "outputs": [
    {
     "data": {
      "text/plain": [
       "0.48019017432646594"
      ]
     },
     "execution_count": 108,
     "metadata": {},
     "output_type": "execute_result"
    }
   ],
   "source": [
    "from sklearn import tree\n",
    "tree_clf = tree.DecisionTreeClassifier()\n",
    "tree_clf = tree_clf.fit(corpus.X_tr, corpus.y_tr)\n",
    "tree_clf.score(corpus.X_te, corpus.y_te)"
   ]
  },
  {
   "cell_type": "code",
   "execution_count": 113,
   "metadata": {
    "collapsed": false
   },
   "outputs": [
    {
     "data": {
      "text/plain": [
       "0.51845143762734891"
      ]
     },
     "execution_count": 113,
     "metadata": {},
     "output_type": "execute_result"
    }
   ],
   "source": [
    "from sklearn.ensemble import RandomForestClassifier\n",
    "forrest_clf = RandomForestClassifier(n_estimators=20,max_features=100)\n",
    "forrest_clf = forrest_clf.fit(corpus.X_tr, corpus.y_tr)\n",
    "forrest_clf.score(corpus.X_te, corpus.y_te)"
   ]
  },
  {
   "cell_type": "code",
   "execution_count": 5,
   "metadata": {
    "collapsed": false
   },
   "outputs": [
    {
     "data": {
      "text/plain": [
       "0.59361557618292959"
      ]
     },
     "execution_count": 5,
     "metadata": {},
     "output_type": "execute_result"
    }
   ],
   "source": [
    "from sklearn.linear_model import LogisticRegression\n",
    "lr_clf = LogisticRegression(penalty='l1', C=4, solver='liblinear')\n",
    "lr_clf = lr_clf.fit(corpus.X_tr, corpus.y_tr)\n",
    "clf = lr_clf\n",
    "lr_clf.score(corpus.X_te, corpus.y_te)"
   ]
  },
  {
   "cell_type": "code",
   "execution_count": 30,
   "metadata": {
    "collapsed": false
   },
   "outputs": [
    {
     "data": {
      "text/plain": [
       "0.17696540866359312"
      ]
     },
     "execution_count": 30,
     "metadata": {},
     "output_type": "execute_result"
    }
   ],
   "source": [
    "from sklearn.linear_model import Lasso\n",
    "lasso_clf = Lasso(alpha=0.001)\n",
    "lasso_clf = lasso_clf.fit(corpus.X_tr, corpus.y_tr)\n",
    "lasso_clf.score(corpus.X_te, corpus.y_te)"
   ]
  },
  {
   "cell_type": "markdown",
   "metadata": {},
   "source": [
    "# Examples"
   ]
  },
  {
   "cell_type": "code",
   "execution_count": 60,
   "metadata": {
    "collapsed": true
   },
   "outputs": [],
   "source": [
    "def mk_pred_expl(expl):\n",
    "    X_expl = corpus.process_example(expl)\n",
    "    _, J, V = sparse.find(X_expl)\n",
    "    print(np.matrix([[*corpus.term_space[J]], [*V]]))\n",
    "    print(\"->\",corpus.cats[ int(clf.predict(X_expl)[0]) ])"
   ]
  },
  {
   "cell_type": "code",
   "execution_count": 61,
   "metadata": {
    "collapsed": false
   },
   "outputs": [
    {
     "name": "stdout",
     "output_type": "stream",
     "text": [
      "[['lieb' 'mann' 'sag']\n",
      " ['0.53953584567' '0.464431378217' '0.702285245584']]\n",
      "-> liebe_and_beziehung\n"
     ]
    }
   ],
   "source": [
    "expl = [\"Ich liebe meinen Mann nicht. Soll ich es ihm sagen?\"]\n",
    "mk_pred_expl(expl)"
   ]
  },
  {
   "cell_type": "code",
   "execution_count": 62,
   "metadata": {
    "collapsed": false
   },
   "outputs": [
    {
     "name": "stdout",
     "output_type": "stream",
     "text": [
      "[['fussball' 'wieviel' 'deutsch' 'spielt' 'heut' 'uhr' 'nationalmanschaft']\n",
      " ['0.332613019813' '0.231939920504' '0.289425410238' '0.297019202041'\n",
      "  '0.314676995143' '0.433343795279' '0.613821245703']]\n",
      "-> freizeit_and_sport\n"
     ]
    }
   ],
   "source": [
    "expl = [\"Um wieviel uhr spielt die deutsche Fussball-Nationalmanschaft heute?\"]\n",
    "mk_pred_expl(expl)"
   ]
  },
  {
   "cell_type": "code",
   "execution_count": 63,
   "metadata": {
    "collapsed": false
   },
   "outputs": [
    {
     "name": "stdout",
     "output_type": "stream",
     "text": [
      "[['fussball' 'spiel' 'titt' 'wichs' 'tobias']\n",
      " ['0.327995195145' '0.282926902931' '0.499527764592' '0.559745964134'\n",
      "  '0.499527764592']]\n",
      "-> adult\n"
     ]
    }
   ],
   "source": [
    "expl = [\"Wichsen Titte Fussball tobias spielen\"]\n",
    "mk_pred_expl(expl)"
   ]
  }
 ],
 "metadata": {
  "kernelspec": {
   "display_name": "Python 3",
   "language": "python",
   "name": "python3"
  },
  "language_info": {
   "codemirror_mode": {
    "name": "ipython",
    "version": 3
   },
   "file_extension": ".py",
   "mimetype": "text/x-python",
   "name": "python",
   "nbconvert_exporter": "python",
   "pygments_lexer": "ipython3",
   "version": "3.5.1"
  }
 },
 "nbformat": 4,
 "nbformat_minor": 0
}
