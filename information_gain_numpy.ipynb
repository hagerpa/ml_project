{
 "cells": [
  {
   "cell_type": "code",
   "execution_count": 2,
   "metadata": {
    "collapsed": true
   },
   "outputs": [],
   "source": [
    "import numpy as np"
   ]
  },
  {
   "cell_type": "code",
   "execution_count": 153,
   "metadata": {
    "collapsed": false
   },
   "outputs": [],
   "source": [
    "n_terms, n_cats = 10000, 30\n",
    "X = abs(np.random.randn(n_terms,n_cats))\n",
    "X = X / X.sum(axis=1).sum(axis=0)\n",
    "\n",
    "c = abs(np.random.randn(n_cats))\n",
    "c = c / c.sum()\n",
    "\n",
    "t = X.sum(axis=1)"
   ]
  },
  {
   "cell_type": "code",
   "execution_count": 115,
   "metadata": {
    "collapsed": true
   },
   "outputs": [],
   "source": [
    "n_terms, n_cats = 3, 3\n",
    "X = np.array([[0.5,0.1,0.1],[0.1,0.6,0.05],[0.1,0.05,0.5]])\n",
    "\n",
    "c = abs(np.random.randn(n_cats))\n",
    "c = c / c.sum()\n",
    "\n",
    "t = X.sum(axis=1)"
   ]
  },
  {
   "cell_type": "code",
   "execution_count": 116,
   "metadata": {
    "collapsed": false
   },
   "outputs": [],
   "source": [
    "ig = np.log((X / np.outer(t,c)))*X"
   ]
  },
  {
   "cell_type": "code",
   "execution_count": 117,
   "metadata": {
    "collapsed": false
   },
   "outputs": [
    {
     "data": {
      "text/plain": [
       "array([[ 0.71428571,  0.14285714,  0.14285714],\n",
       "       [ 0.13333333,  0.8       ,  0.06666667],\n",
       "       [ 0.15384615,  0.07692308,  0.76923077]])"
      ]
     },
     "execution_count": 117,
     "metadata": {},
     "output_type": "execute_result"
    }
   ],
   "source": [
    "(X.T / t).T"
   ]
  },
  {
   "cell_type": "code",
   "execution_count": 154,
   "metadata": {
    "collapsed": false
   },
   "outputs": [],
   "source": [
    "ig = np.log( ((X.T / t).T)**(X*c) ) + np.log( ( ((1-X).T / (1-t)).T)**(c - X*c))"
   ]
  },
  {
   "cell_type": "code",
   "execution_count": 156,
   "metadata": {
    "collapsed": false
   },
   "outputs": [
    {
     "data": {
      "text/plain": [
       "array([6899, 7002,  187,    1, 3091, 5192, 6936, 4093, 8491, 9664])"
      ]
     },
     "execution_count": 156,
     "metadata": {},
     "output_type": "execute_result"
    }
   ],
   "source": [
    "np.argsort( np.sort(-ig, axis=1)[:,0] )[:10]"
   ]
  },
  {
   "cell_type": "code",
   "execution_count": 123,
   "metadata": {
    "collapsed": false
   },
   "outputs": [
    {
     "data": {
      "text/plain": [
       "array([1787, 6696, 2063, ..., 3472, 6632, 8394])"
      ]
     },
     "execution_count": 123,
     "metadata": {},
     "output_type": "execute_result"
    }
   ],
   "source": [
    "np.argsort(np.sort(-ig, axis=1)[:,0])"
   ]
  },
  {
   "cell_type": "code",
   "execution_count": null,
   "metadata": {
    "collapsed": false
   },
   "outputs": [],
   "source": []
  },
  {
   "cell_type": "code",
   "execution_count": 7,
   "metadata": {
    "collapsed": false
   },
   "outputs": [
    {
     "ename": "AttributeError",
     "evalue": "'NoneType' object has no attribute 'shape'",
     "output_type": "error",
     "traceback": [
      "\u001b[0;31m---------------------------------------------------------------------------\u001b[0m",
      "\u001b[0;31mAttributeError\u001b[0m                            Traceback (most recent call last)",
      "\u001b[0;32m<ipython-input-7-8a37e9ce4c17>\u001b[0m in \u001b[0;36m<module>\u001b[0;34m()\u001b[0m\n\u001b[0;32m----> 1\u001b[0;31m \u001b[0mig\u001b[0m\u001b[0;34m.\u001b[0m\u001b[0msort\u001b[0m\u001b[0;34m(\u001b[0m\u001b[0maxis\u001b[0m\u001b[0;34m=\u001b[0m\u001b[0;36m1\u001b[0m\u001b[0;34m)\u001b[0m\u001b[0;34m.\u001b[0m\u001b[0mshape\u001b[0m\u001b[0;34m\u001b[0m\u001b[0m\n\u001b[0m",
      "\u001b[0;31mAttributeError\u001b[0m: 'NoneType' object has no attribute 'shape'"
     ]
    }
   ],
   "source": [
    "ig.sort(axis=1).shape"
   ]
  },
  {
   "cell_type": "code",
   "execution_count": 8,
   "metadata": {
    "collapsed": false
   },
   "outputs": [
    {
     "data": {
      "text/plain": [
       "array([-2, -1,  1,  2,  3,  5, 10])"
      ]
     },
     "execution_count": 8,
     "metadata": {},
     "output_type": "execute_result"
    }
   ],
   "source": [
    "np.sort([1,2,3,5,-1,-2,10])"
   ]
  },
  {
   "cell_type": "code",
   "execution_count": 9,
   "metadata": {
    "collapsed": false
   },
   "outputs": [
    {
     "ename": "AttributeError",
     "evalue": "module 'numpy' has no attribute 'arrayt'",
     "output_type": "error",
     "traceback": [
      "\u001b[0;31m---------------------------------------------------------------------------\u001b[0m",
      "\u001b[0;31mAttributeError\u001b[0m                            Traceback (most recent call last)",
      "\u001b[0;32m<ipython-input-9-ba9aab7b568f>\u001b[0m in \u001b[0;36m<module>\u001b[0;34m()\u001b[0m\n\u001b[0;32m----> 1\u001b[0;31m \u001b[0ma\u001b[0m \u001b[0;34m=\u001b[0m \u001b[0mnp\u001b[0m\u001b[0;34m.\u001b[0m\u001b[0marrayt\u001b[0m\u001b[0;34m\u001b[0m\u001b[0m\n\u001b[0m",
      "\u001b[0;31mAttributeError\u001b[0m: module 'numpy' has no attribute 'arrayt'"
     ]
    }
   ],
   "source": [
    "a = np.arrayt"
   ]
  },
  {
   "cell_type": "code",
   "execution_count": 10,
   "metadata": {
    "collapsed": false
   },
   "outputs": [
    {
     "ename": "NameError",
     "evalue": "name 'a' is not defined",
     "output_type": "error",
     "traceback": [
      "\u001b[0;31m---------------------------------------------------------------------------\u001b[0m",
      "\u001b[0;31mNameError\u001b[0m                                 Traceback (most recent call last)",
      "\u001b[0;32m<ipython-input-10-74befb814698>\u001b[0m in \u001b[0;36m<module>\u001b[0;34m()\u001b[0m\n\u001b[0;32m----> 1\u001b[0;31m \u001b[0ma\u001b[0m\u001b[0;34m.\u001b[0m\u001b[0mshape\u001b[0m\u001b[0;34m\u001b[0m\u001b[0m\n\u001b[0m",
      "\u001b[0;31mNameError\u001b[0m: name 'a' is not defined"
     ]
    }
   ],
   "source": [
    "a.shape"
   ]
  },
  {
   "cell_type": "code",
   "execution_count": 11,
   "metadata": {
    "collapsed": false
   },
   "outputs": [
    {
     "data": {
      "text/plain": [
       "array([  8.18323533e-05,   8.56833390e-05,   6.51953809e-05,\n",
       "         1.14838885e-04,   8.38389105e-05])"
      ]
     },
     "execution_count": 11,
     "metadata": {},
     "output_type": "execute_result"
    }
   ],
   "source": [
    "t[-5:]"
   ]
  },
  {
   "cell_type": "code",
   "execution_count": null,
   "metadata": {
    "collapsed": false
   },
   "outputs": [],
   "source": []
  },
  {
   "cell_type": "code",
   "execution_count": 12,
   "metadata": {
    "collapsed": true
   },
   "outputs": [],
   "source": [
    "import nltk"
   ]
  },
  {
   "cell_type": "code",
   "execution_count": 13,
   "metadata": {
    "collapsed": true
   },
   "outputs": [],
   "source": [
    "fd = nltk.FreqDist()"
   ]
  },
  {
   "cell_type": "code",
   "execution_count": 124,
   "metadata": {
    "collapsed": false
   },
   "outputs": [],
   "source": [
    "fd += nltk.FreqDist([\"hallo\",\"paul\",\"hallo\",\"paul\",\"hund\"])\n",
    "a = np.array(list(fd.keys()))"
   ]
  },
  {
   "cell_type": "code",
   "execution_count": 136,
   "metadata": {
    "collapsed": false
   },
   "outputs": [
    {
     "data": {
      "text/plain": [
       "array([[ 0,  1,  2,  3],\n",
       "       [ 4,  5,  6,  7],\n",
       "       [ 8,  9, 10, 11]])"
      ]
     },
     "execution_count": 136,
     "metadata": {},
     "output_type": "execute_result"
    }
   ],
   "source": [
    "np.array([\n",
    "            [i+4*j for i in range(4)] \n",
    "              for j in range(3)\n",
    "        ])"
   ]
  },
  {
   "cell_type": "code",
   "execution_count": 19,
   "metadata": {
    "collapsed": false
   },
   "outputs": [
    {
     "data": {
      "text/plain": [
       "['hallo', 'hund', 'paul']"
      ]
     },
     "execution_count": 19,
     "metadata": {},
     "output_type": "execute_result"
    }
   ],
   "source": [
    "list(fd)"
   ]
  },
  {
   "cell_type": "code",
   "execution_count": 21,
   "metadata": {
    "collapsed": true
   },
   "outputs": [],
   "source": [
    "import pydoc"
   ]
  },
  {
   "cell_type": "code",
   "execution_count": 28,
   "metadata": {
    "collapsed": false
   },
   "outputs": [
    {
     "name": "stdout",
     "output_type": "stream",
     "text": [
      "Help on class FreqDist in module nltk.probability:\n",
      "\n",
      "class FreqDist(collections.Counter)\n",
      " |  A frequency distribution for the outcomes of an experiment.  A\n",
      " |  frequency distribution records the number of times each outcome of\n",
      " |  an experiment has occurred.  For example, a frequency distribution\n",
      " |  could be used to record the frequency of each word type in a\n",
      " |  document.  Formally, a frequency distribution can be defined as a\n",
      " |  function mapping from each sample to the number of times that\n",
      " |  sample occurred as an outcome.\n",
      " |  \n",
      " |  Frequency distributions are generally constructed by running a\n",
      " |  number of experiments, and incrementing the count for a sample\n",
      " |  every time it is an outcome of an experiment.  For example, the\n",
      " |  following code will produce a frequency distribution that encodes\n",
      " |  how often each word occurs in a text:\n",
      " |  \n",
      " |      >>> from nltk.tokenize import word_tokenize\n",
      " |      >>> from nltk.probability import FreqDist\n",
      " |      >>> sent = 'This is an example sentence'\n",
      " |      >>> fdist = FreqDist()\n",
      " |      >>> for word in word_tokenize(sent):\n",
      " |      ...    fdist[word.lower()] += 1\n",
      " |  \n",
      " |  An equivalent way to do this is with the initializer:\n",
      " |  \n",
      " |      >>> fdist = FreqDist(word.lower() for word in word_tokenize(sent))\n",
      " |  \n",
      " |  Method resolution order:\n",
      " |      FreqDist\n",
      " |      collections.Counter\n",
      " |      builtins.dict\n",
      " |      builtins.object\n",
      " |  \n",
      " |  Methods defined here:\n",
      " |  \n",
      " |  B(self)\n",
      " |      Return the total number of sample values (or \"bins\") that\n",
      " |      have counts greater than zero.  For the total\n",
      " |      number of sample outcomes recorded, use ``FreqDist.N()``.\n",
      " |      (FreqDist.B() is the same as len(FreqDist).)\n",
      " |      \n",
      " |      :rtype: int\n",
      " |  \n",
      " |  N(self)\n",
      " |      Return the total number of sample outcomes that have been\n",
      " |      recorded by this FreqDist.  For the number of unique\n",
      " |      sample values (or bins) with counts greater than zero, use\n",
      " |      ``FreqDist.B()``.\n",
      " |      \n",
      " |      :rtype: int\n",
      " |  \n",
      " |  Nr(self, r, bins=None)\n",
      " |  \n",
      " |  __add__(self, other)\n",
      " |      Add counts from two counters.\n",
      " |      \n",
      " |      >>> FreqDist('abbb') + FreqDist('bcc')\n",
      " |      FreqDist({'b': 4, 'c': 2, 'a': 1})\n",
      " |  \n",
      " |  __and__(self, other)\n",
      " |      Intersection is the minimum of corresponding counts.\n",
      " |      \n",
      " |      >>> FreqDist('abbb') & FreqDist('bcc')\n",
      " |      FreqDist({'b': 1})\n",
      " |  \n",
      " |  __ge__ lambda self, other\n",
      " |      # @total_ordering doesn't work here, since the class inherits from a builtin class\n",
      " |  \n",
      " |  __gt__ lambda self, other\n",
      " |  \n",
      " |  __init__(self, samples=None)\n",
      " |      Construct a new frequency distribution.  If ``samples`` is\n",
      " |      given, then the frequency distribution will be initialized\n",
      " |      with the count of each object in ``samples``; otherwise, it\n",
      " |      will be initialized to be empty.\n",
      " |      \n",
      " |      In particular, ``FreqDist()`` returns an empty frequency\n",
      " |      distribution; and ``FreqDist(samples)`` first creates an empty\n",
      " |      frequency distribution, and then calls ``update`` with the\n",
      " |      list ``samples``.\n",
      " |      \n",
      " |      :param samples: The samples to initialize the frequency\n",
      " |          distribution with.\n",
      " |      :type samples: Sequence\n",
      " |  \n",
      " |  __le__(self, other)\n",
      " |      Return self<=value.\n",
      " |  \n",
      " |  __lt__ lambda self, other\n",
      " |  \n",
      " |  __or__(self, other)\n",
      " |      Union is the maximum of value in either of the input counters.\n",
      " |      \n",
      " |      >>> FreqDist('abbb') | FreqDist('bcc')\n",
      " |      FreqDist({'b': 3, 'c': 2, 'a': 1})\n",
      " |  \n",
      " |  __repr__(self)\n",
      " |      Return a string representation of this FreqDist.\n",
      " |      \n",
      " |      :rtype: string\n",
      " |  \n",
      " |  __str__(self)\n",
      " |      Return a string representation of this FreqDist.\n",
      " |      \n",
      " |      :rtype: string\n",
      " |  \n",
      " |  __sub__(self, other)\n",
      " |      Subtract count, but keep only results with positive counts.\n",
      " |      \n",
      " |      >>> FreqDist('abbbc') - FreqDist('bccd')\n",
      " |      FreqDist({'b': 2, 'a': 1})\n",
      " |  \n",
      " |  __unicode__ = __str__(self)\n",
      " |  \n",
      " |  copy(self)\n",
      " |      Create a copy of this frequency distribution.\n",
      " |      \n",
      " |      :rtype: FreqDist\n",
      " |  \n",
      " |  freq(self, sample)\n",
      " |      Return the frequency of a given sample.  The frequency of a\n",
      " |      sample is defined as the count of that sample divided by the\n",
      " |      total number of sample outcomes that have been recorded by\n",
      " |      this FreqDist.  The count of a sample is defined as the\n",
      " |      number of times that sample outcome was recorded by this\n",
      " |      FreqDist.  Frequencies are always real numbers in the range\n",
      " |      [0, 1].\n",
      " |      \n",
      " |      :param sample: the sample whose frequency\n",
      " |             should be returned.\n",
      " |      :type sample: any\n",
      " |      :rtype: float\n",
      " |  \n",
      " |  hapaxes(self)\n",
      " |      Return a list of all samples that occur once (hapax legomena)\n",
      " |      \n",
      " |      :rtype: list\n",
      " |  \n",
      " |  max(self)\n",
      " |      Return the sample with the greatest number of outcomes in this\n",
      " |      frequency distribution.  If two or more samples have the same\n",
      " |      number of outcomes, return one of them; which sample is\n",
      " |      returned is undefined.  If no outcomes have occurred in this\n",
      " |      frequency distribution, return None.\n",
      " |      \n",
      " |      :return: The sample with the maximum number of outcomes in this\n",
      " |              frequency distribution.\n",
      " |      :rtype: any or None\n",
      " |  \n",
      " |  pformat(self, maxlen=10)\n",
      " |      Return a string representation of this FreqDist.\n",
      " |      \n",
      " |      :param maxlen: The maximum number of items to display\n",
      " |      :type maxlen: int\n",
      " |      :rtype: string\n",
      " |  \n",
      " |  plot(self, *args, **kwargs)\n",
      " |      Plot samples from the frequency distribution\n",
      " |      displaying the most frequent sample first.  If an integer\n",
      " |      parameter is supplied, stop after this many samples have been\n",
      " |      plotted.  For a cumulative plot, specify cumulative=True.\n",
      " |      (Requires Matplotlib to be installed.)\n",
      " |      \n",
      " |      :param title: The title for the graph\n",
      " |      :type title: str\n",
      " |      :param cumulative: A flag to specify whether the plot is cumulative (default = False)\n",
      " |      :type title: bool\n",
      " |  \n",
      " |  pprint(self, maxlen=10, stream=None)\n",
      " |      Print a string representation of this FreqDist to 'stream'\n",
      " |      \n",
      " |      :param maxlen: The maximum number of items to print\n",
      " |      :type maxlen: int\n",
      " |      :param stream: The stream to print to. stdout by default\n",
      " |  \n",
      " |  r_Nr(self, bins=None)\n",
      " |      Return the dictionary mapping r to Nr, the number of samples with frequency r, where Nr > 0.\n",
      " |      \n",
      " |      :type bins: int\n",
      " |      :param bins: The number of possible sample outcomes.  ``bins``\n",
      " |          is used to calculate Nr(0).  In particular, Nr(0) is\n",
      " |          ``bins-self.B()``.  If ``bins`` is not specified, it\n",
      " |          defaults to ``self.B()`` (so Nr(0) will be 0).\n",
      " |      :rtype: int\n",
      " |  \n",
      " |  tabulate(self, *args, **kwargs)\n",
      " |      Tabulate the given samples from the frequency distribution (cumulative),\n",
      " |      displaying the most frequent sample first.  If an integer\n",
      " |      parameter is supplied, stop after this many samples have been\n",
      " |      plotted.\n",
      " |      \n",
      " |      :param samples: The samples to plot (default is all samples)\n",
      " |      :type samples: list\n",
      " |      :param cumulative: A flag to specify whether the freqs are cumulative (default = False)\n",
      " |      :type title: bool\n",
      " |  \n",
      " |  unicode_repr = __repr__(self)\n",
      " |  \n",
      " |  ----------------------------------------------------------------------\n",
      " |  Methods inherited from collections.Counter:\n",
      " |  \n",
      " |  __delitem__(self, elem)\n",
      " |      Like dict.__delitem__() but does not raise KeyError for missing values.\n",
      " |  \n",
      " |  __iadd__(self, other)\n",
      " |      Inplace add from another counter, keeping only positive counts.\n",
      " |      \n",
      " |      >>> c = Counter('abbb')\n",
      " |      >>> c += Counter('bcc')\n",
      " |      >>> c\n",
      " |      Counter({'b': 4, 'c': 2, 'a': 1})\n",
      " |  \n",
      " |  __iand__(self, other)\n",
      " |      Inplace intersection is the minimum of corresponding counts.\n",
      " |      \n",
      " |      >>> c = Counter('abbb')\n",
      " |      >>> c &= Counter('bcc')\n",
      " |      >>> c\n",
      " |      Counter({'b': 1})\n",
      " |  \n",
      " |  __ior__(self, other)\n",
      " |      Inplace union is the maximum of value from either counter.\n",
      " |      \n",
      " |      >>> c = Counter('abbb')\n",
      " |      >>> c |= Counter('bcc')\n",
      " |      >>> c\n",
      " |      Counter({'b': 3, 'c': 2, 'a': 1})\n",
      " |  \n",
      " |  __isub__(self, other)\n",
      " |      Inplace subtract counter, but keep only results with positive counts.\n",
      " |      \n",
      " |      >>> c = Counter('abbbc')\n",
      " |      >>> c -= Counter('bccd')\n",
      " |      >>> c\n",
      " |      Counter({'b': 2, 'a': 1})\n",
      " |  \n",
      " |  __missing__(self, key)\n",
      " |      The count of elements not in the Counter is zero.\n",
      " |  \n",
      " |  __neg__(self)\n",
      " |      Subtracts from an empty counter.  Strips positive and zero counts,\n",
      " |      and flips the sign on negative counts.\n",
      " |  \n",
      " |  __pos__(self)\n",
      " |      Adds an empty counter, effectively stripping negative and zero counts\n",
      " |  \n",
      " |  __reduce__(self)\n",
      " |      helper for pickle\n",
      " |  \n",
      " |  elements(self)\n",
      " |      Iterator over elements repeating each as many times as its count.\n",
      " |      \n",
      " |      >>> c = Counter('ABCABC')\n",
      " |      >>> sorted(c.elements())\n",
      " |      ['A', 'A', 'B', 'B', 'C', 'C']\n",
      " |      \n",
      " |      # Knuth's example for prime factors of 1836:  2**2 * 3**3 * 17**1\n",
      " |      >>> prime_factors = Counter({2: 2, 3: 3, 17: 1})\n",
      " |      >>> product = 1\n",
      " |      >>> for factor in prime_factors.elements():     # loop over factors\n",
      " |      ...     product *= factor                       # and multiply them\n",
      " |      >>> product\n",
      " |      1836\n",
      " |      \n",
      " |      Note, if an element's count has been set to zero or is a negative\n",
      " |      number, elements() will ignore it.\n",
      " |  \n",
      " |  most_common(self, n=None)\n",
      " |      List the n most common elements and their counts from the most\n",
      " |      common to the least.  If n is None, then list all element counts.\n",
      " |      \n",
      " |      >>> Counter('abcdeabcdabcaba').most_common(3)\n",
      " |      [('a', 5), ('b', 4), ('c', 3)]\n",
      " |  \n",
      " |  subtract(*args, **kwds)\n",
      " |      Like dict.update() but subtracts counts instead of replacing them.\n",
      " |      Counts can be reduced below zero.  Both the inputs and outputs are\n",
      " |      allowed to contain zero and negative counts.\n",
      " |      \n",
      " |      Source can be an iterable, a dictionary, or another Counter instance.\n",
      " |      \n",
      " |      >>> c = Counter('which')\n",
      " |      >>> c.subtract('witch')             # subtract elements from another iterable\n",
      " |      >>> c.subtract(Counter('watch'))    # subtract elements from another counter\n",
      " |      >>> c['h']                          # 2 in which, minus 1 in witch, minus 1 in watch\n",
      " |      0\n",
      " |      >>> c['w']                          # 1 in which, minus 1 in witch, minus 1 in watch\n",
      " |      -1\n",
      " |  \n",
      " |  update(*args, **kwds)\n",
      " |      Like dict.update() but add counts instead of replacing them.\n",
      " |      \n",
      " |      Source can be an iterable, a dictionary, or another Counter instance.\n",
      " |      \n",
      " |      >>> c = Counter('which')\n",
      " |      >>> c.update('witch')           # add elements from another iterable\n",
      " |      >>> d = Counter('watch')\n",
      " |      >>> c.update(d)                 # add elements from another counter\n",
      " |      >>> c['h']                      # four 'h' in which, witch, and watch\n",
      " |      4\n",
      " |  \n",
      " |  ----------------------------------------------------------------------\n",
      " |  Class methods inherited from collections.Counter:\n",
      " |  \n",
      " |  fromkeys(iterable, v=None) from builtins.type\n",
      " |      Returns a new dict with keys from iterable and values equal to value.\n",
      " |  \n",
      " |  ----------------------------------------------------------------------\n",
      " |  Data descriptors inherited from collections.Counter:\n",
      " |  \n",
      " |  __dict__\n",
      " |      dictionary for instance variables (if defined)\n",
      " |  \n",
      " |  __weakref__\n",
      " |      list of weak references to the object (if defined)\n",
      " |  \n",
      " |  ----------------------------------------------------------------------\n",
      " |  Methods inherited from builtins.dict:\n",
      " |  \n",
      " |  __contains__(self, key, /)\n",
      " |      True if D has a key k, else False.\n",
      " |  \n",
      " |  __eq__(self, value, /)\n",
      " |      Return self==value.\n",
      " |  \n",
      " |  __getattribute__(self, name, /)\n",
      " |      Return getattr(self, name).\n",
      " |  \n",
      " |  __getitem__(...)\n",
      " |      x.__getitem__(y) <==> x[y]\n",
      " |  \n",
      " |  __iter__(self, /)\n",
      " |      Implement iter(self).\n",
      " |  \n",
      " |  __len__(self, /)\n",
      " |      Return len(self).\n",
      " |  \n",
      " |  __ne__(self, value, /)\n",
      " |      Return self!=value.\n",
      " |  \n",
      " |  __new__(*args, **kwargs) from builtins.type\n",
      " |      Create and return a new object.  See help(type) for accurate signature.\n",
      " |  \n",
      " |  __setitem__(self, key, value, /)\n",
      " |      Set self[key] to value.\n",
      " |  \n",
      " |  __sizeof__(...)\n",
      " |      D.__sizeof__() -> size of D in memory, in bytes\n",
      " |  \n",
      " |  clear(...)\n",
      " |      D.clear() -> None.  Remove all items from D.\n",
      " |  \n",
      " |  get(...)\n",
      " |      D.get(k[,d]) -> D[k] if k in D, else d.  d defaults to None.\n",
      " |  \n",
      " |  items(...)\n",
      " |      D.items() -> a set-like object providing a view on D's items\n",
      " |  \n",
      " |  keys(...)\n",
      " |      D.keys() -> a set-like object providing a view on D's keys\n",
      " |  \n",
      " |  pop(...)\n",
      " |      D.pop(k[,d]) -> v, remove specified key and return the corresponding value.\n",
      " |      If key is not found, d is returned if given, otherwise KeyError is raised\n",
      " |  \n",
      " |  popitem(...)\n",
      " |      D.popitem() -> (k, v), remove and return some (key, value) pair as a\n",
      " |      2-tuple; but raise KeyError if D is empty.\n",
      " |  \n",
      " |  setdefault(...)\n",
      " |      D.setdefault(k[,d]) -> D.get(k,d), also set D[k]=d if k not in D\n",
      " |  \n",
      " |  values(...)\n",
      " |      D.values() -> an object providing a view on D's values\n",
      " |  \n",
      " |  ----------------------------------------------------------------------\n",
      " |  Data and other attributes inherited from builtins.dict:\n",
      " |  \n",
      " |  __hash__ = None\n",
      "\n"
     ]
    }
   ],
   "source": [
    "pydoc.help(nltk.FreqDist)"
   ]
  },
  {
   "cell_type": "code",
   "execution_count": 35,
   "metadata": {
    "collapsed": false
   },
   "outputs": [
    {
     "data": {
      "text/plain": [
       "3"
      ]
     },
     "execution_count": 35,
     "metadata": {},
     "output_type": "execute_result"
    }
   ],
   "source": [
    "fd.B()"
   ]
  },
  {
   "cell_type": "code",
   "execution_count": 71,
   "metadata": {
    "collapsed": false
   },
   "outputs": [
    {
     "data": {
      "text/plain": [
       "array([[ 0.5,  1. ],\n",
       "       [ 0.5,  1. ]])"
      ]
     },
     "execution_count": 71,
     "metadata": {},
     "output_type": "execute_result"
    }
   ],
   "source": [
    "np.array([[1,1],[1,1]]) / np.array([2,1])"
   ]
  },
  {
   "cell_type": "code",
   "execution_count": 73,
   "metadata": {
    "collapsed": false
   },
   "outputs": [
    {
     "data": {
      "text/plain": [
       "array([[1, 0],\n",
       "       [1, 2]])"
      ]
     },
     "execution_count": 73,
     "metadata": {},
     "output_type": "execute_result"
    }
   ],
   "source": [
    "np.array([[1,1],[1,1]]) * np.array([[1,0],[1,2]])"
   ]
  },
  {
   "cell_type": "code",
   "execution_count": 64,
   "metadata": {
    "collapsed": false
   },
   "outputs": [
    {
     "data": {
      "text/plain": [
       "True"
      ]
     },
     "execution_count": 64,
     "metadata": {},
     "output_type": "execute_result"
    }
   ],
   "source": [
    "np.allclose(np.diag(t**(-1)).dot(X),(X.T / t).T)"
   ]
  },
  {
   "cell_type": "code",
   "execution_count": 58,
   "metadata": {
    "collapsed": false
   },
   "outputs": [
    {
     "data": {
      "text/plain": [
       "(1, 10000)"
      ]
     },
     "execution_count": 58,
     "metadata": {},
     "output_type": "execute_result"
    }
   ],
   "source": [
    "(t.reshape(1,10000)**-1).shape"
   ]
  },
  {
   "cell_type": "code",
   "execution_count": 65,
   "metadata": {
    "collapsed": true
   },
   "outputs": [],
   "source": [
    "import time"
   ]
  },
  {
   "cell_type": "code",
   "execution_count": 150,
   "metadata": {
    "collapsed": true
   },
   "outputs": [],
   "source": [
    "ta = time.time()\n",
    "for i in range(100000):\n",
    "    i**2\n",
    "for i in range(100000):\n",
    "    i+2\n",
    "tb = time.time()\n",
    "for i in range(100000):\n",
    "    i**2\n",
    "    i+2\n",
    "tc = time.time()"
   ]
  },
  {
   "cell_type": "code",
   "execution_count": 151,
   "metadata": {
    "collapsed": false
   },
   "outputs": [
    {
     "data": {
      "text/plain": [
       "0.11224699020385742"
      ]
     },
     "execution_count": 151,
     "metadata": {},
     "output_type": "execute_result"
    }
   ],
   "source": [
    "tb - ta"
   ]
  },
  {
   "cell_type": "code",
   "execution_count": 152,
   "metadata": {
    "collapsed": false
   },
   "outputs": [
    {
     "data": {
      "text/plain": [
       "0.08395004272460938"
      ]
     },
     "execution_count": 152,
     "metadata": {},
     "output_type": "execute_result"
    }
   ],
   "source": [
    "tc - tb"
   ]
  },
  {
   "cell_type": "code",
   "execution_count": 109,
   "metadata": {
    "collapsed": false,
    "scrolled": true
   },
   "outputs": [
    {
     "data": {
      "text/plain": [
       "array([[0, 1, 2],\n",
       "       [3, 4, 5],\n",
       "       [6, 7, 8]])"
      ]
     },
     "execution_count": 109,
     "metadata": {},
     "output_type": "execute_result"
    }
   ],
   "source": [
    "np.arange(9).reshape(3,3)"
   ]
  },
  {
   "cell_type": "code",
   "execution_count": 110,
   "metadata": {
    "collapsed": false
   },
   "outputs": [
    {
     "data": {
      "text/plain": [
       "array([[ 0.,  1.,  1.],\n",
       "       [ 1.,  4.,  1.],\n",
       "       [ 1.,  1.,  8.]])"
      ]
     },
     "execution_count": 110,
     "metadata": {},
     "output_type": "execute_result"
    }
   ],
   "source": [
    "Out[109]**(np.eye(3))"
   ]
  },
  {
   "cell_type": "code",
   "execution_count": 138,
   "metadata": {
    "collapsed": false
   },
   "outputs": [
    {
     "data": {
      "text/plain": [
       "{'hallo', 'hund', 'paul'}"
      ]
     },
     "execution_count": 138,
     "metadata": {},
     "output_type": "execute_result"
    }
   ],
   "source": [
    "set(a)"
   ]
  },
  {
   "cell_type": "code",
   "execution_count": 149,
   "metadata": {
    "collapsed": false
   },
   "outputs": [
    {
     "data": {
      "text/plain": [
       "array([1, 2, 2, 3, 3])"
      ]
     },
     "execution_count": 149,
     "metadata": {},
     "output_type": "execute_result"
    }
   ],
   "source": [
    "np.arange(9)[[1,2,2,3,3]]"
   ]
  },
  {
   "cell_type": "code",
   "execution_count": null,
   "metadata": {
    "collapsed": true
   },
   "outputs": [],
   "source": []
  }
 ],
 "metadata": {
  "kernelspec": {
   "display_name": "Python 3",
   "language": "python",
   "name": "python3"
  },
  "language_info": {
   "codemirror_mode": {
    "name": "ipython",
    "version": 3
   },
   "file_extension": ".py",
   "mimetype": "text/x-python",
   "name": "python",
   "nbconvert_exporter": "python",
   "pygments_lexer": "ipython3",
   "version": "3.5.1"
  }
 },
 "nbformat": 4,
 "nbformat_minor": 0
}
