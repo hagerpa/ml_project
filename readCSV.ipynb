{
 "cells": [
  {
   "cell_type": "code",
   "execution_count": 13,
   "metadata": {
    "collapsed": false
   },
   "outputs": [],
   "source": [
    "import csv\n",
    "import numpy as np\n",
    "import nltk\n",
    "from nltk import word_tokenize"
   ]
  },
  {
   "cell_type": "code",
   "execution_count": 2,
   "metadata": {
    "collapsed": false
   },
   "outputs": [],
   "source": [
    "csvfile = open('question_train.csv', 'r')\n",
    "reader = csv.reader(csvfile, delimiter=',', quotechar='\"', lineterminator='<CR>')"
   ]
  },
  {
   "cell_type": "code",
   "execution_count": 3,
   "metadata": {
    "collapsed": false
   },
   "outputs": [
    {
     "name": "stdout",
     "output_type": "stream",
     "text": [
      "0: question_id\n",
      "1: user_id\n",
      "2: sms_guru_id\n",
      "3: category_main_id\n",
      "4: question\n",
      "5: description\n",
      "6: tags\n",
      "7: categories\n",
      "8: url\n",
      "9: rating_count_positive\n",
      "10: rating_count_negative\n",
      "11: answer_count\n",
      "12: reported\n",
      "13: answered\n",
      "14: active\n",
      "15: deleted\n",
      "16: seo_locked\n",
      "17: editor_locked\n",
      "18: editor_id\n",
      "19: created_at\n",
      "20: updated_at\n"
     ]
    }
   ],
   "source": [
    "csvfile.seek(0);\n",
    "#cols = list(zip(np.arange(21),next(reader)))\n",
    "for i, q in zip(np.arange(21), next(reader)):\n",
    "    print('{0}: {1}'.format(i,q))"
   ]
  },
  {
   "cell_type": "markdown",
   "metadata": {},
   "source": [
    "# checking for ill-shaped lines"
   ]
  },
  {
   "cell_type": "code",
   "execution_count": 4,
   "metadata": {
    "collapsed": false
   },
   "outputs": [
    {
     "name": "stdout",
     "output_type": "stream",
     "text": [
      "Total number of rows: 16070 \n",
      " Number of rows with wrong length: 57:\n",
      " fraction: 0.35 %\n"
     ]
    }
   ],
   "source": [
    "csvfile.seek(0);\n",
    "i = 0 #count total row number\n",
    "j = 0 #count false row number\n",
    "\n",
    "for row in reader:\n",
    "    i += 1\n",
    "    if(len(row) != 21):\n",
    "        #print('line size error in line {} \\n'.format(reader.line_num))\n",
    "        #print('line size is: {} \\n'.format(len(row)))\n",
    "        #print(*row)\n",
    "        #print('\\n')\n",
    "        j += 1\n",
    "\n",
    "print('Total number of rows: {0} \\n Number of rows with wrong length: {1}:\\n fraction: {2:.2f} %'.format(i,j,(j/i)*100))"
   ]
  },
  {
   "cell_type": "markdown",
   "metadata": {},
   "source": [
    "# Reading out questions and tokenizing, checking vocabulary"
   ]
  },
  {
   "cell_type": "code",
   "execution_count": 51,
   "metadata": {
    "collapsed": false
   },
   "outputs": [],
   "source": [
    "csvfile.seek(0);\n",
    "next(reader)\n",
    "\n",
    "questions = []\n",
    "vocab = set([])\n",
    "\n",
    "for row in reader:\n",
    "    if(len(row) == 21):\n",
    "        words = word_tokenize(row[4])\n",
    "        questions.append( (row[0], words) )\n",
    "        vocab = vocab.union( words )"
   ]
  },
  {
   "cell_type": "markdown",
   "metadata": {},
   "source": [
    "# Checking Vocabulary"
   ]
  },
  {
   "cell_type": "code",
   "execution_count": 70,
   "metadata": {
    "collapsed": false
   },
   "outputs": [
    {
     "name": "stdout",
     "output_type": "stream",
     "text": [
      "The total number of words is 140439. \n",
      "The volume of the vocabulary is 23603.\n",
      "That makes an percentiage of 0.17\n"
     ]
    }
   ],
   "source": [
    "totNum = sum([len(q[1]) for q in questions])\n",
    "vocNum = len(vocab)\n",
    "print(\"\"\"The total number of words is {0}. \n",
    "The volume of the vocabulary is {1}.\n",
    "That makes an percentiage of {2:.2}\"\"\".format(totNum,vocNum,vocNum/totNum))"
   ]
  },
  {
   "cell_type": "code",
   "execution_count": 88,
   "metadata": {
    "collapsed": false
   },
   "outputs": [],
   "source": [
    "allwordlist = [w for q in questions for w in q[1]]\n",
    "fd = nltk.FreqDist(allwordlist)"
   ]
  },
  {
   "cell_type": "code",
   "execution_count": 109,
   "metadata": {
    "collapsed": false
   },
   "outputs": [
    {
     "name": "stdout",
     "output_type": "stream",
     "text": [
      "?          x  11576\n",
      "der        x   4572\n",
      "Wie        x   3121\n",
      "ist        x   3114\n",
      "Was        x   3035\n",
      "die        x   2270\n",
      "und        x   2014\n",
      "ich        x   1738\n",
      "in         x   1584\n",
      "bedeutet   x   1439\n",
      "das        x   1322\n",
      "hat        x   1199\n",
      "von        x   1185\n",
      ".          x   1161\n",
      "name       x   1134\n",
      "ein        x   1089\n",
      "es         x   1077\n",
      ",          x   1061\n",
      "man        x   1056\n",
      "kommt      x    895\n"
     ]
    }
   ],
   "source": [
    "for d in fd.most_common(20):\n",
    "    print(\"{0:10} x {1:6}\".format(*d) )"
   ]
  },
  {
   "cell_type": "code",
   "execution_count": 77,
   "metadata": {
    "collapsed": false
   },
   "outputs": [
    {
     "data": {
      "text/plain": [
       "['zinkblende',\n",
       " 'zinsen',\n",
       " 'zionistin',\n",
       " 'zirkus',\n",
       " 'zita',\n",
       " 'zitat',\n",
       " 'zivildienstgesetz',\n",
       " 'zocke',\n",
       " 'zoey',\n",
       " 'zoey101',\n",
       " 'zoff',\n",
       " 'zog',\n",
       " 'zoi',\n",
       " 'zoj',\n",
       " 'zoll',\n",
       " 'zoloft',\n",
       " 'zombis',\n",
       " 'zone',\n",
       " 'zonen',\n",
       " 'zonk',\n",
       " 'zorro',\n",
       " 'zs',\n",
       " 'zsdlj',\n",
       " 'zu',\n",
       " 'zuammen',\n",
       " 'zucchini',\n",
       " 'zuchini',\n",
       " 'zuckmayer',\n",
       " 'zueinander',\n",
       " 'zuerst',\n",
       " 'zufahren',\n",
       " 'zuficken',\n",
       " 'zufällig',\n",
       " 'zufüllen',\n",
       " 'zug',\n",
       " 'zugabe',\n",
       " 'zugegeben',\n",
       " 'zugelassen',\n",
       " 'zugelassene',\n",
       " 'zugeschlossene',\n",
       " 'zugleich',\n",
       " 'zugreifen',\n",
       " 'zugunglück',\n",
       " 'zugverbindung',\n",
       " 'zugängliche',\n",
       " 'zuhaus',\n",
       " 'zuhause',\n",
       " 'zuhälter',\n",
       " 'zukleben',\n",
       " 'zukommen',\n",
       " 'zukunft',\n",
       " 'zukünftige',\n",
       " 'zukünftigen',\n",
       " 'zukünftiger',\n",
       " 'zulassen',\n",
       " 'zulassung',\n",
       " 'zulassungsdienst',\n",
       " 'zulässg',\n",
       " 'zulässiges',\n",
       " 'zum',\n",
       " 'zumachen',\n",
       " 'zumauern',\n",
       " 'zumindest',\n",
       " 'zunge',\n",
       " 'zungenkrebs',\n",
       " 'zungenkuss',\n",
       " 'zungenpircing',\n",
       " 'zungkuss',\n",
       " 'zupfmassagen',\n",
       " 'zur',\n",
       " 'zurck',\n",
       " 'zurecht',\n",
       " 'zurich',\n",
       " 'zurufen',\n",
       " 'zurzeit',\n",
       " 'zurück',\n",
       " 'zurück.Ich',\n",
       " 'zurückblickt',\n",
       " 'zurückgekehrten',\n",
       " 'zurückhalten',\n",
       " 'zusamen',\n",
       " 'zusamm',\n",
       " 'zusamme',\n",
       " 'zusammen',\n",
       " 'zusammen\\\\',\n",
       " 'zusammenfassen',\n",
       " 'zusammengezählt',\n",
       " 'zusammenhang',\n",
       " 'zusammenkommen',\n",
       " 'zusammensein',\n",
       " 'zusammenstellen',\n",
       " 'zusaugen',\n",
       " 'zuschauer',\n",
       " 'zuschauerplätze',\n",
       " 'zusetzen',\n",
       " 'zustand',\n",
       " 'zuständig',\n",
       " 'zusätzliche',\n",
       " 'zutaten',\n",
       " 'zutelefonieren']"
      ]
     },
     "execution_count": 77,
     "metadata": {},
     "output_type": "execute_result"
    }
   ],
   "source": [
    "vocabLis = sorted(list(vocab))\n",
    "vocabLis[-300:-200]"
   ]
  },
  {
   "cell_type": "markdown",
   "metadata": {},
   "source": [
    "# Playing area"
   ]
  },
  {
   "cell_type": "code",
   "execution_count": 125,
   "metadata": {
    "collapsed": false
   },
   "outputs": [
    {
     "name": "stdout",
     "output_type": "stream",
     "text": [
      "['Was']\n",
      "['WIEVIEL']\n",
      "['Was']\n",
      "[]\n",
      "[]\n",
      "['Wie']\n",
      "['Wie']\n",
      "['Wie']\n",
      "[]\n",
      "['Was']\n"
     ]
    }
   ],
   "source": [
    "import re\n",
    "for q in questions[:10]:\n",
    "    print([w for w in q[1] if re.search('^W',w)])"
   ]
  },
  {
   "cell_type": "code",
   "execution_count": 21,
   "metadata": {
    "collapsed": false
   },
   "outputs": [
    {
     "name": "stdout",
     "output_type": "stream",
     "text": [
      "00001 1     1    \n",
      "00002 4     8    \n",
      "00003 9     27   \n",
      "00004 16    64   \n",
      "00005 25    125  \n",
      "00006 36    216  \n",
      "00007 49    343  \n",
      "00008 64    512  \n",
      "00009 81    729  \n",
      "00010 100   1000 \n"
     ]
    }
   ],
   "source": [
    "for x in range(1,11):\n",
    "    print(repr(x).zfill(5), repr(x**2).ljust(5),repr(x**3).ljust(5))"
   ]
  },
  {
   "cell_type": "code",
   "execution_count": 13,
   "metadata": {
    "collapsed": false
   },
   "outputs": [],
   "source": [
    "a = np.arange(5)\n",
    "b = np.arange(5) +5"
   ]
  },
  {
   "cell_type": "code",
   "execution_count": 18,
   "metadata": {
    "collapsed": false
   },
   "outputs": [
    {
     "data": {
      "text/plain": [
       "[(0, 5), (1, 6), (2, 7), (3, 8), (4, 9)]"
      ]
     },
     "execution_count": 18,
     "metadata": {},
     "output_type": "execute_result"
    }
   ],
   "source": [
    "list(zip(a,b))"
   ]
  },
  {
   "cell_type": "code",
   "execution_count": 108,
   "metadata": {
    "collapsed": false
   },
   "outputs": [
    {
     "name": "stdout",
     "output_type": "stream",
     "text": [
      "Hällülöliös    \n"
     ]
    }
   ],
   "source": [
    "print('Hällülöliös\\\n",
    "    ')"
   ]
  },
  {
   "cell_type": "code",
   "execution_count": 109,
   "metadata": {
    "collapsed": true
   },
   "outputs": [],
   "source": [
    "nacute = '\\u0144'"
   ]
  },
  {
   "cell_type": "code",
   "execution_count": 110,
   "metadata": {
    "collapsed": false
   },
   "outputs": [
    {
     "data": {
      "text/plain": [
       "'ń'"
      ]
     },
     "execution_count": 110,
     "metadata": {},
     "output_type": "execute_result"
    }
   ],
   "source": [
    "nacute"
   ]
  },
  {
   "cell_type": "code",
   "execution_count": null,
   "metadata": {
    "collapsed": true
   },
   "outputs": [],
   "source": []
  }
 ],
 "metadata": {
  "kernelspec": {
   "display_name": "Python 3",
   "language": "python",
   "name": "python3"
  },
  "language_info": {
   "codemirror_mode": {
    "name": "ipython",
    "version": 3
   },
   "file_extension": ".py",
   "mimetype": "text/x-python",
   "name": "python",
   "nbconvert_exporter": "python",
   "pygments_lexer": "ipython3",
   "version": "3.5.1"
  }
 },
 "nbformat": 4,
 "nbformat_minor": 0
}
