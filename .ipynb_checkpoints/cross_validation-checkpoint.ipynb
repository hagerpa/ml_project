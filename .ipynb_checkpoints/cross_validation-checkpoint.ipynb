{
 "cells": [
  {
   "cell_type": "code",
   "execution_count": 4,
   "metadata": {
    "collapsed": false
   },
   "outputs": [],
   "source": [
    "from sklearn.model_selection import StratifiedKFold, StratifiedShuffleSplit\n",
    "from sklearn.naive_bayes import MultinomialNB\n",
    "from sklearn.linear_model import LogisticRegression\n",
    "from sklearn.ensemble import RandomForestClassifier\n",
    "from sklearn.metrics import f1_score\n",
    "import corpus as corpus_class\n",
    "from filters import std_filters\n",
    "import categories\n",
    "import numpy as np\n",
    "from scipy import sparse"
   ]
  },
  {
   "cell_type": "code",
   "execution_count": 2,
   "metadata": {
    "collapsed": false
   },
   "outputs": [],
   "source": [
    "corpus = corpus_class.corpus( categories.categories() )\n",
    "corpus.load(\"question_train.csv\", \"question_category_train.csv\")\n",
    "corpus.process(**std_filters(), corpus_size=-1)\n",
    "corpus.save()"
   ]
  },
  {
   "cell_type": "code",
   "execution_count": 5,
   "metadata": {
    "collapsed": false
   },
   "outputs": [],
   "source": [
    "corpus = corpus_class.load_from_file()"
   ]
  },
  {
   "cell_type": "code",
   "execution_count": 11,
   "metadata": {
    "collapsed": false
   },
   "outputs": [
    {
     "name": "stdout",
     "output_type": "stream",
     "text": [
      "[ 0.51191244  0.5299111   0.53441785] 0.525413794828\n"
     ]
    }
   ],
   "source": [
    "#clf = MultinomialNB(alpha=0.01)\n",
    "clf = LogisticRegression(penalty='l1', C=4, solver='liblinear')\n",
    "scores = []\n",
    "for coprus in corpus.cv_split(3):\n",
    "    corpus.make_features()\n",
    "    clf.fit(corpus.X_tr, corpus.y_tr)\n",
    "    y_pred = clf.predict(corpus.X_te)\n",
    "    scores += [ f1_score(corpus.y_te, y_pred, average=\"macro\") ]\n",
    "scores = np.array(scores)\n",
    "print(scores, scores.mean())"
   ]
  }
 ],
 "metadata": {
  "kernelspec": {
   "display_name": "Python 3",
   "language": "python",
   "name": "python3"
  },
  "language_info": {
   "codemirror_mode": {
    "name": "ipython",
    "version": 3
   },
   "file_extension": ".py",
   "mimetype": "text/x-python",
   "name": "python",
   "nbconvert_exporter": "python",
   "pygments_lexer": "ipython3",
   "version": "3.5.1"
  }
 },
 "nbformat": 4,
 "nbformat_minor": 0
}
