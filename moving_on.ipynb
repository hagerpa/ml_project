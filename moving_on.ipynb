{
 "cells": [
  {
   "cell_type": "code",
   "execution_count": 1,
   "metadata": {
    "collapsed": false
   },
   "outputs": [],
   "source": [
    "from transform import RandForestPS\n",
    "import numpy as np\n",
    "from sklearn.metrics import accuracy_score\n",
    "\n",
    "import corpus as corpus_class\n",
    "import categories, filters, vocabulary_builders\n",
    "from feature_extractors import multinomial_model, tfidf\n",
    "from filters import std_filters\n",
    "\n",
    "import numpy as np\n",
    "import warnings\n",
    "warnings.simplefilter(\"ignore\", np.VisibleDeprecationWarning)\n",
    "import time\n",
    "\n",
    "from sklearn.metrics import f1_score as f1_scorer\n",
    "\n",
    "from sklearn.decomposition import TruncatedSVD\n",
    "\n",
    "from sklearn.ensemble import VotingClassifier, RandomForestClassifier\n",
    "from sklearn.naive_bayes import MultinomialNB\n",
    "from sklearn.linear_model import LogisticRegression\n",
    "from sklearn.svm import SVC, LinearSVC\n",
    "from sklearn.tree import DecisionTreeClassifier\n",
    "from sklearn.discriminant_analysis import LinearDiscriminantAnalysis as LDA\n",
    "from sklearn.pipeline import Pipeline\n",
    "from sklearn.feature_extraction.text import TfidfTransformer\n",
    "from sklearn.feature_selection import SelectPercentile, chi2"
   ]
  },
  {
   "cell_type": "code",
   "execution_count": 7,
   "metadata": {
    "collapsed": true
   },
   "outputs": [],
   "source": [
    "qfile_train = 'question_train.csv'\n",
    "qcatfile_train = 'question_category_train.csv'\n",
    "catfile = 'category.csv'\n",
    "qfile_test = 'question_test.csv'\n",
    "filtees = std_filters()"
   ]
  },
  {
   "cell_type": "code",
   "execution_count": 19,
   "metadata": {
    "collapsed": false
   },
   "outputs": [],
   "source": [
    "    with open(\"corpus_main.pkl\", \"rb\") as file:\n",
    "        corpus_main = pickle.load(file)\n",
    "        cat_main = corpus_main.cats\n",
    "    with open(\"corpus_sub.pkl\", \"rb\") as file:\n",
    "        corpus_sub = pickle.load(file)\n",
    "        cat_sub = corpus_sub.cats"
   ]
  },
  {
   "cell_type": "code",
   "execution_count": 27,
   "metadata": {
    "collapsed": false
   },
   "outputs": [],
   "source": [
    "from scipy.sparse import find\n",
    "_, J, _ = find(corpus_sub.X_all)\n",
    "corpus_sub.SUPPORT = J"
   ]
  },
  {
   "cell_type": "code",
   "execution_count": 28,
   "metadata": {
    "collapsed": true
   },
   "outputs": [],
   "source": [
    "    with open(\"corpus_sub.pkl\", \"wb+\") as file:\n",
    "        pickle.dump(corpus_sub, file)"
   ]
  },
  {
   "cell_type": "code",
   "execution_count": 17,
   "metadata": {
    "collapsed": true
   },
   "outputs": [],
   "source": [
    "from os import listdir\n",
    "import pickle\n",
    "\n",
    "ESTIMATORS = []\n",
    "for f in listdir(\"best_estimators\"):\n",
    "    with open(\"best_estimators/\"+f, 'rb') as file:\n",
    "        ESTIMATORS += [ ( f[:-4], pickle.load(file) ) ]\n",
    "CLFS = [clf for _, clf in ESTIMATORS]\n",
    "\n",
    "FINAL = RandForestPS(CLFS, \n",
    "                         n_folds=8,\n",
    "                         bootstrap=True,\n",
    "                         n_estimators=75, \n",
    "                         max_features=10,\n",
    "                         max_depth=None,\n",
    "                         min_samples_leaf=10, \n",
    "                         min_samples_split=10)"
   ]
  },
  {
   "cell_type": "code",
   "execution_count": 18,
   "metadata": {
    "collapsed": false
   },
   "outputs": [],
   "source": [
    "with open(\"final_method_sub.pkl\", \"wb+\") as file:\n",
    "    FINAL.fit(corpus_sub.X_all, corpus_sub.y)\n",
    "    pickle.dump(FINAL, file);"
   ]
  },
  {
   "cell_type": "code",
   "execution_count": 277,
   "metadata": {
    "collapsed": true
   },
   "outputs": [],
   "source": [
    "from sklearn.metrics import recall_score, f1_score, precision_score, accuracy_score\n",
    "from sklearn.model_selection import StratifiedKFold, StratifiedShuffleSplit"
   ]
  },
  {
   "cell_type": "code",
   "execution_count": 278,
   "metadata": {
    "collapsed": false
   },
   "outputs": [],
   "source": [
    "import importlib\n",
    "import transform\n",
    "importlib.reload(transform)\n",
    "PBBS = transform.ProbabilitySpace(CLFS, n_folds=6, bootstrap=True)\n",
    "Xp, yp = PBBS.fit_transform(corpus.X_all, corpus.y)"
   ]
  },
  {
   "cell_type": "code",
   "execution_count": 283,
   "metadata": {
    "collapsed": false,
    "scrolled": true
   },
   "outputs": [
    {
     "name": "stderr",
     "output_type": "stream",
     "text": [
      "/home/mlp_02/virt3_mlp/lib/python3.4/site-packages/sklearn/model_selection/_split.py:581: Warning: The least populated class in y has only 3 members, which is too few. The minimum number of groups for any class cannot be less than n_splits=10.\n",
      "  % (min_groups, self.n_splits)), Warning)\n"
     ]
    },
    {
     "name": "stdout",
     "output_type": "stream",
     "text": [
      "0\n"
     ]
    },
    {
     "name": "stderr",
     "output_type": "stream",
     "text": [
      "/home/mlp_02/virt3_mlp/lib/python3.4/site-packages/sklearn/metrics/classification.py:1113: UndefinedMetricWarning: Precision is ill-defined and being set to 0.0 in labels with no predicted samples.\n",
      "  'precision', 'predicted', average, warn_for)\n",
      "/home/mlp_02/virt3_mlp/lib/python3.4/site-packages/sklearn/metrics/classification.py:1113: UndefinedMetricWarning: F-score is ill-defined and being set to 0.0 in labels with no predicted samples.\n",
      "  'precision', 'predicted', average, warn_for)\n"
     ]
    },
    {
     "name": "stdout",
     "output_type": "stream",
     "text": [
      "1\n"
     ]
    },
    {
     "name": "stderr",
     "output_type": "stream",
     "text": [
      "/home/mlp_02/virt3_mlp/lib/python3.4/site-packages/sklearn/metrics/classification.py:1113: UndefinedMetricWarning: Precision is ill-defined and being set to 0.0 in labels with no predicted samples.\n",
      "  'precision', 'predicted', average, warn_for)\n",
      "/home/mlp_02/virt3_mlp/lib/python3.4/site-packages/sklearn/metrics/classification.py:1113: UndefinedMetricWarning: F-score is ill-defined and being set to 0.0 in labels with no predicted samples.\n",
      "  'precision', 'predicted', average, warn_for)\n"
     ]
    },
    {
     "name": "stdout",
     "output_type": "stream",
     "text": [
      "2\n"
     ]
    },
    {
     "name": "stderr",
     "output_type": "stream",
     "text": [
      "/home/mlp_02/virt3_mlp/lib/python3.4/site-packages/sklearn/metrics/classification.py:1113: UndefinedMetricWarning: Precision is ill-defined and being set to 0.0 in labels with no predicted samples.\n",
      "  'precision', 'predicted', average, warn_for)\n",
      "/home/mlp_02/virt3_mlp/lib/python3.4/site-packages/sklearn/metrics/classification.py:1113: UndefinedMetricWarning: F-score is ill-defined and being set to 0.0 in labels with no predicted samples.\n",
      "  'precision', 'predicted', average, warn_for)\n"
     ]
    },
    {
     "name": "stdout",
     "output_type": "stream",
     "text": [
      "3\n"
     ]
    },
    {
     "name": "stderr",
     "output_type": "stream",
     "text": [
      "/home/mlp_02/virt3_mlp/lib/python3.4/site-packages/sklearn/metrics/classification.py:1113: UndefinedMetricWarning: Precision is ill-defined and being set to 0.0 in labels with no predicted samples.\n",
      "  'precision', 'predicted', average, warn_for)\n",
      "/home/mlp_02/virt3_mlp/lib/python3.4/site-packages/sklearn/metrics/classification.py:1113: UndefinedMetricWarning: F-score is ill-defined and being set to 0.0 in labels with no predicted samples.\n",
      "  'precision', 'predicted', average, warn_for)\n"
     ]
    },
    {
     "name": "stdout",
     "output_type": "stream",
     "text": [
      "4\n"
     ]
    },
    {
     "name": "stderr",
     "output_type": "stream",
     "text": [
      "/home/mlp_02/virt3_mlp/lib/python3.4/site-packages/sklearn/metrics/classification.py:1113: UndefinedMetricWarning: Precision is ill-defined and being set to 0.0 in labels with no predicted samples.\n",
      "  'precision', 'predicted', average, warn_for)\n",
      "/home/mlp_02/virt3_mlp/lib/python3.4/site-packages/sklearn/metrics/classification.py:1113: UndefinedMetricWarning: F-score is ill-defined and being set to 0.0 in labels with no predicted samples.\n",
      "  'precision', 'predicted', average, warn_for)\n"
     ]
    },
    {
     "name": "stdout",
     "output_type": "stream",
     "text": [
      "5\n"
     ]
    },
    {
     "name": "stderr",
     "output_type": "stream",
     "text": [
      "/home/mlp_02/virt3_mlp/lib/python3.4/site-packages/sklearn/metrics/classification.py:1113: UndefinedMetricWarning: Precision is ill-defined and being set to 0.0 in labels with no predicted samples.\n",
      "  'precision', 'predicted', average, warn_for)\n",
      "/home/mlp_02/virt3_mlp/lib/python3.4/site-packages/sklearn/metrics/classification.py:1113: UndefinedMetricWarning: F-score is ill-defined and being set to 0.0 in labels with no predicted samples.\n",
      "  'precision', 'predicted', average, warn_for)\n"
     ]
    },
    {
     "name": "stdout",
     "output_type": "stream",
     "text": [
      "6\n"
     ]
    },
    {
     "name": "stderr",
     "output_type": "stream",
     "text": [
      "/home/mlp_02/virt3_mlp/lib/python3.4/site-packages/sklearn/metrics/classification.py:1113: UndefinedMetricWarning: Precision is ill-defined and being set to 0.0 in labels with no predicted samples.\n",
      "  'precision', 'predicted', average, warn_for)\n",
      "/home/mlp_02/virt3_mlp/lib/python3.4/site-packages/sklearn/metrics/classification.py:1113: UndefinedMetricWarning: F-score is ill-defined and being set to 0.0 in labels with no predicted samples.\n",
      "  'precision', 'predicted', average, warn_for)\n"
     ]
    },
    {
     "name": "stdout",
     "output_type": "stream",
     "text": [
      "7\n"
     ]
    },
    {
     "name": "stderr",
     "output_type": "stream",
     "text": [
      "/home/mlp_02/virt3_mlp/lib/python3.4/site-packages/sklearn/metrics/classification.py:1113: UndefinedMetricWarning: Precision is ill-defined and being set to 0.0 in labels with no predicted samples.\n",
      "  'precision', 'predicted', average, warn_for)\n",
      "/home/mlp_02/virt3_mlp/lib/python3.4/site-packages/sklearn/metrics/classification.py:1113: UndefinedMetricWarning: F-score is ill-defined and being set to 0.0 in labels with no predicted samples.\n",
      "  'precision', 'predicted', average, warn_for)\n"
     ]
    },
    {
     "name": "stdout",
     "output_type": "stream",
     "text": [
      "8\n"
     ]
    },
    {
     "name": "stderr",
     "output_type": "stream",
     "text": [
      "/home/mlp_02/virt3_mlp/lib/python3.4/site-packages/sklearn/metrics/classification.py:1113: UndefinedMetricWarning: Precision is ill-defined and being set to 0.0 in labels with no predicted samples.\n",
      "  'precision', 'predicted', average, warn_for)\n",
      "/home/mlp_02/virt3_mlp/lib/python3.4/site-packages/sklearn/metrics/classification.py:1113: UndefinedMetricWarning: F-score is ill-defined and being set to 0.0 in labels with no predicted samples.\n",
      "  'precision', 'predicted', average, warn_for)\n"
     ]
    },
    {
     "name": "stdout",
     "output_type": "stream",
     "text": [
      "9\n"
     ]
    },
    {
     "name": "stderr",
     "output_type": "stream",
     "text": [
      "/home/mlp_02/virt3_mlp/lib/python3.4/site-packages/sklearn/metrics/classification.py:1113: UndefinedMetricWarning: Precision is ill-defined and being set to 0.0 in labels with no predicted samples.\n",
      "  'precision', 'predicted', average, warn_for)\n",
      "/home/mlp_02/virt3_mlp/lib/python3.4/site-packages/sklearn/metrics/classification.py:1113: UndefinedMetricWarning: F-score is ill-defined and being set to 0.0 in labels with no predicted samples.\n",
      "  'precision', 'predicted', average, warn_for)\n"
     ]
    }
   ],
   "source": [
    "skf_generator = StratifiedKFold(n_splits=10, shuffle=True)\n",
    "\n",
    "precision = []\n",
    "recall = []\n",
    "f1 = []\n",
    "acc = []\n",
    "i = 0\n",
    "for tr, te in skf_generator.split(corpus.y, corpus.y):\n",
    "    print(i)\n",
    "    X_tr, y_tr, X_te, y_te = Xp[tr], yp[tr], Xp[te], yp[te]\n",
    "    FINAL.RF.fit(X_tr, y_tr)\n",
    "    y_pred = FINAL.RF.predict(X_te)\n",
    "    precision += [precision_score(y_te, y_pred, average='macro')]\n",
    "    recall += [recall_score(y_te, y_pred, average='macro')]\n",
    "    f1 += [f1_score(y_te, y_pred, average='macro')]\n",
    "    acc += [accuracy_score(y_te, y_pred)]\n",
    "    i+=1"
   ]
  },
  {
   "cell_type": "code",
   "execution_count": 246,
   "metadata": {
    "collapsed": false
   },
   "outputs": [],
   "source": [
    "with open(\"BOOT_RESULT_SUBS.pkl\", \"wb+\") as file:\n",
    "    pickle.dump([\n",
    "            (\"precision\", precision),\n",
    "            (\"recall\", recall),\n",
    "            (\"f1\", f1),\n",
    "            (\"acc\", acc)], file)"
   ]
  },
  {
   "cell_type": "code",
   "execution_count": 287,
   "metadata": {
    "collapsed": false
   },
   "outputs": [
    {
     "data": {
      "image/png": "[encoded data removed]",
      "text/plain": [
       "<matplotlib.figure.Figure at 0x7fefe1d0bcf8>"
      ]
     },
     "metadata": {},
     "output_type": "display_data"
    }
   ],
   "source": [
    "data = [precision, recall, f1]\n",
    "\n",
    "plt.figure(figsize=(10, 3))\n",
    "plt.title('Bootstrap Results')\n",
    "\n",
    "box_res = plt.boxplot(data, vert=False, widths=0.7)\n",
    "plt.yticks(np.arange(3)+1, ['precision', 'recall', 'f1-score'], rotation=0, ha='right')\n",
    "plt.show() "
   ]
  },
  {
   "cell_type": "code",
   "execution_count": null,
   "metadata": {
    "collapsed": true
   },
   "outputs": [],
   "source": []
  },
  {
   "cell_type": "code",
   "execution_count": null,
   "metadata": {
    "collapsed": true
   },
   "outputs": [],
   "source": []
  },
  {
   "cell_type": "code",
   "execution_count": null,
   "metadata": {
    "collapsed": true
   },
   "outputs": [],
   "source": []
  },
  {
   "cell_type": "code",
   "execution_count": null,
   "metadata": {
    "collapsed": true
   },
   "outputs": [],
   "source": []
  },
  {
   "cell_type": "code",
   "execution_count": null,
   "metadata": {
    "collapsed": true
   },
   "outputs": [],
   "source": []
  },
  {
   "cell_type": "code",
   "execution_count": null,
   "metadata": {
    "collapsed": true
   },
   "outputs": [],
   "source": [
    "data = []\n",
    "for clf_name in scores.keys():\n",
    "    data.append(f1_scores[clf_name])\n",
    "\n",
    "plt.figure(figsize=(10, 3))\n",
    "plt.title('f1-score')\n",
    "f1_box_res = plt.boxplot(data, vert=False, widths=0.7, meanline=True)\n",
    "lables = np.append(['f1-score'],corpus.cats[:])\n",
    "plt.yticks(np.arange(3)+1, list(scores.keys()), rotation=0, ha='right')\n",
    "plt.show() "
   ]
  },
  {
   "cell_type": "code",
   "execution_count": null,
   "metadata": {
    "collapsed": true
   },
   "outputs": [],
   "source": []
  },
  {
   "cell_type": "code",
   "execution_count": 191,
   "metadata": {
    "collapsed": false
   },
   "outputs": [],
   "source": []
  },
  {
   "cell_type": "code",
   "execution_count": 192,
   "metadata": {
    "collapsed": false
   },
   "outputs": [
    {
     "name": "stdout",
     "output_type": "stream",
     "text": [
      "0\n",
      "1\n",
      "2\n"
     ]
    }
   ],
   "source": [
    "Y = []\n",
    "Y_PRED = []\n",
    "P = []\n",
    "for i in range(3):\n",
    "    print(i)\n",
    "    (X_tr, y_tr), (X_te, y_te) = corpus.simple_split(1/6)\n",
    "    \n",
    "    Y += list(y_te)\n",
    "    FINAL.fit(X_tr, y_tr)\n",
    "    \n",
    "    y_pred = np.array(FINAL.predict(X_te), dtype=int)\n",
    "    P += [ FINAL.predict_proba(X_te) ]\n",
    "    Y_PRED += list(y_pred)"
   ]
  },
  {
   "cell_type": "code",
   "execution_count": 194,
   "metadata": {
    "collapsed": false
   },
   "outputs": [],
   "source": [
    "Y_ = np.array(Y)\n",
    "Y_PRED_ = np.array(Y_PRED)\n",
    "P_ = np.concatenate(P)"
   ]
  },
  {
   "cell_type": "code",
   "execution_count": 202,
   "metadata": {
    "collapsed": false
   },
   "outputs": [
    {
     "data": {
      "text/plain": [
       "array([  0.,   1.,   2.,   3.,   4.,   5.,   6.,   7.,   8.,   9.,  10.,\n",
       "        11.,  12.,  13.])"
      ]
     },
     "execution_count": 202,
     "metadata": {},
     "output_type": "execute_result"
    }
   ],
   "source": [
    "FINAL.RF.classes_"
   ]
  },
  {
   "cell_type": "code",
   "execution_count": 232,
   "metadata": {
    "collapsed": false
   },
   "outputs": [],
   "source": [
    "Y_ALT = [ np.argsort(P_[i])[-3:] for i in range(len(P_[:,0])) ]"
   ]
  },
  {
   "cell_type": "code",
   "execution_count": 233,
   "metadata": {
    "collapsed": false
   },
   "outputs": [],
   "source": [
    "Y_ALT = np.array(Y_ALT)"
   ]
  },
  {
   "cell_type": "code",
   "execution_count": 234,
   "metadata": {
    "collapsed": true
   },
   "outputs": [],
   "source": [
    "acc = [Y_[i] in Y_ALT[i] for i in range(len(Y_ALT))]"
   ]
  },
  {
   "cell_type": "code",
   "execution_count": 235,
   "metadata": {
    "collapsed": false
   },
   "outputs": [
    {
     "data": {
      "text/plain": [
       "0.8544478305035553"
      ]
     },
     "execution_count": 235,
     "metadata": {},
     "output_type": "execute_result"
    }
   ],
   "source": [
    "sum(acc)/len(acc)"
   ]
  },
  {
   "cell_type": "code",
   "execution_count": null,
   "metadata": {
    "collapsed": true
   },
   "outputs": [],
   "source": []
  },
  {
   "cell_type": "code",
   "execution_count": 189,
   "metadata": {
    "collapsed": false
   },
   "outputs": [],
   "source": [
    "P_ = [P_[i, Y_PRED_[i]] for i in range(len(Y_PRED_)) ]"
   ]
  },
  {
   "cell_type": "code",
   "execution_count": 160,
   "metadata": {
    "collapsed": false
   },
   "outputs": [
    {
     "name": "stderr",
     "output_type": "stream",
     "text": [
      "/home/mlp_02/virt3_mlp/lib/python3.4/site-packages/numpy/lib/function_base.py:1110: RuntimeWarning: Mean of empty slice.\n",
      "  avg = a.mean(axis)\n",
      "/home/mlp_02/virt3_mlp/lib/python3.4/site-packages/numpy/core/_methods.py:80: RuntimeWarning: invalid value encountered in double_scalars\n",
      "  ret = ret.dtype.type(ret / rcount)\n"
     ]
    }
   ],
   "source": [
    "ACC = [accuracy_score(Y_[P_ > x], Y_PRED_[P_ > x]) for x in np.linspace(0,1,51)]\n",
    "TOT = [len(Y_[P_ > x])/len(Y_PRED_) for x in np.linspace(0,1,51)]"
   ]
  },
  {
   "cell_type": "code",
   "execution_count": 52,
   "metadata": {
    "collapsed": false
   },
   "outputs": [
    {
     "data": {
      "text/plain": [
       "<matplotlib.legend.Legend at 0x7fefdcde1978>"
      ]
     },
     "execution_count": 52,
     "metadata": {},
     "output_type": "execute_result"
    },
    {
     "data": {
      "image/png": "[encoded data removed]",
      "text/plain": [
       "<matplotlib.figure.Figure at 0x7fefdce49240>"
      ]
     },
     "metadata": {},
     "output_type": "display_data"
    }
   ],
   "source": [
    "%matplotlib inline\n",
    "import matplotlib.pyplot as plt\n",
    "from matplotlib.legend_handler import HandlerLine2D\n",
    "\n",
    "acc_plt = plt.plot(np.linspace(0,1,51), ACC, label=\"accuracy\")\n",
    "tot_plt = plt.plot(np.linspace(0,1,51), TOT, label=\"predicted examples\")\n",
    "plt.xlabel(\"thershold\")\n",
    "\n",
    "plt.legend(loc=3)"
   ]
  },
  {
   "cell_type": "code",
   "execution_count": 53,
   "metadata": {
    "collapsed": false
   },
   "outputs": [
    {
     "name": "stderr",
     "output_type": "stream",
     "text": [
      "/home/mlp_02/virt3_mlp/lib/python3.4/site-packages/numpy/lib/function_base.py:1110: RuntimeWarning: Mean of empty slice.\n",
      "  avg = a.mean(axis)\n",
      "/home/mlp_02/virt3_mlp/lib/python3.4/site-packages/numpy/core/_methods.py:80: RuntimeWarning: invalid value encountered in double_scalars\n",
      "  ret = ret.dtype.type(ret / rcount)\n"
     ]
    },
    {
     "data": {
      "text/plain": [
       "[0.61079669133652592,\n",
       " 0.61079669133652592,\n",
       " 0.61079669133652592,\n",
       " 0.61079669133652592,\n",
       " 0.61079669133652592,\n",
       " 0.61079669133652592,\n",
       " 0.61079669133652592,\n",
       " 0.61088534107402037,\n",
       " 0.61160389704813145,\n",
       " 0.61296918358405139,\n",
       " 0.61665438467207079,\n",
       " 0.62327741162372674,\n",
       " 0.62909867317370749,\n",
       " 0.6372992359270232,\n",
       " 0.64654895666131618,\n",
       " 0.65693430656934304,\n",
       " 0.67492532068177824,\n",
       " 0.69520802377414559,\n",
       " 0.70903462952215124,\n",
       " 0.71955645161290327,\n",
       " 0.73173803526448367,\n",
       " 0.74284465807297362,\n",
       " 0.75387067395264118,\n",
       " 0.76505312868949238,\n",
       " 0.77701036013813518,\n",
       " 0.78877973112719757,\n",
       " 0.80190995907230556,\n",
       " 0.81452991452991452,\n",
       " 0.82751417487317214,\n",
       " 0.83894080996884735,\n",
       " 0.84850455136540959,\n",
       " 0.8571428571428571,\n",
       " 0.86702317290552589,\n",
       " 0.87476494922903347,\n",
       " 0.88046068308181091,\n",
       " 0.89357262103505841,\n",
       " 0.9042553191489362,\n",
       " 0.9101544220870379,\n",
       " 0.92018072289156627,\n",
       " 0.92914653784219003,\n",
       " 0.93489434608794975,\n",
       " 0.94454713493530496,\n",
       " 0.95168762409000662,\n",
       " 0.96167494677075938,\n",
       " 0.96953541507996954,\n",
       " 0.9762100082034455,\n",
       " 0.97826086956521741,\n",
       " 0.98602794411177641,\n",
       " 0.9876681614349776,\n",
       " 0.99345549738219896,\n",
       " nan]"
      ]
     },
     "execution_count": 53,
     "metadata": {},
     "output_type": "execute_result"
    }
   ],
   "source": [
    "[accuracy_score(Y_[P_ > x], Y_PRED_[P_ > x]) for x in np.linspace(0,1,51)]"
   ]
  },
  {
   "cell_type": "code",
   "execution_count": 81,
   "metadata": {
    "collapsed": true
   },
   "outputs": [],
   "source": [
    "def sigma(p):\n",
    "    ACC = np.array( [accuracy_score(Y_[P_ > x], Y_PRED_[P_ > x]) for x in np.linspace(0,1,51)] )\n",
    "    return np.min( np.linspace(0,1,51)[ ACC > p ] )\n",
    "\n",
    "def tot( sigma ):\n",
    "    return len(Y_[P_ > sigma])/len(Y_PRED_)"
   ]
  },
  {
   "cell_type": "code",
   "execution_count": 72,
   "metadata": {
    "collapsed": false
   },
   "outputs": [
    {
     "name": "stderr",
     "output_type": "stream",
     "text": [
      "/home/mlp_02/virt3_mlp/lib/python3.4/site-packages/numpy/lib/function_base.py:1110: RuntimeWarning: Mean of empty slice.\n",
      "  avg = a.mean(axis)\n",
      "/home/mlp_02/virt3_mlp/lib/python3.4/site-packages/numpy/core/_methods.py:80: RuntimeWarning: invalid value encountered in double_scalars\n",
      "  ret = ret.dtype.type(ret / rcount)\n",
      "/home/mlp_02/virt3_mlp/lib/python3.4/site-packages/ipykernel/__main__.py:3: RuntimeWarning: invalid value encountered in greater\n",
      "  app.launch_new_instance()\n"
     ]
    },
    {
     "data": {
      "text/plain": [
       "0.97999999999999998"
      ]
     },
     "execution_count": 72,
     "metadata": {},
     "output_type": "execute_result"
    }
   ],
   "source": [
    "sigma(0.99)"
   ]
  },
  {
   "cell_type": "code",
   "execution_count": 83,
   "metadata": {
    "collapsed": false
   },
   "outputs": [
    {
     "name": "stderr",
     "output_type": "stream",
     "text": [
      "/home/mlp_02/virt3_mlp/lib/python3.4/site-packages/numpy/lib/function_base.py:1110: RuntimeWarning: Mean of empty slice.\n",
      "  avg = a.mean(axis)\n",
      "/home/mlp_02/virt3_mlp/lib/python3.4/site-packages/numpy/core/_methods.py:80: RuntimeWarning: invalid value encountered in double_scalars\n",
      "  ret = ret.dtype.type(ret / rcount)\n",
      "/home/mlp_02/virt3_mlp/lib/python3.4/site-packages/ipykernel/__main__.py:3: RuntimeWarning: invalid value encountered in greater\n",
      "  app.launch_new_instance()\n"
     ]
    },
    {
     "name": "stdout",
     "output_type": "stream",
     "text": [
      "[0.0, 0.0, 0.0, 0.0, 0.0, 0.0, 0.0, 0.0, 0.0, 0.0, 0.0, 0.0, 0.0, 0.0, 0.0, 0.0, 0.0, 0.0, 0.0, 0.0, 0.0, 0.0, 0.0, 0.0, 0.0, 0.0, 0.0, 0.0, 0.0, 0.0, 0.0, 0.20000000000000001, 0.26000000000000001, 0.29999999999999999, 0.32000000000000001, 0.34000000000000002, 0.38, 0.41999999999999998, 0.44, 0.47999999999999998, 0.52000000000000002, 0.54000000000000004, 0.57999999999999996, 0.62, 0.66000000000000003, 0.70000000000000007, 0.76000000000000001, 0.80000000000000004, 0.83999999999999997, 0.90000000000000002, 0.97999999999999998]\n"
     ]
    },
    {
     "data": {
      "text/plain": [
       "<matplotlib.legend.Legend at 0x7fefdcbdd668>"
      ]
     },
     "execution_count": 83,
     "metadata": {},
     "output_type": "execute_result"
    },
    {
     "data": {
      "image/png": "[encoded data removed]",
      "text/plain": [
       "<matplotlib.figure.Figure at 0x7fefdcbf48d0>"
      ]
     },
     "metadata": {},
     "output_type": "display_data"
    }
   ],
   "source": [
    "%matplotlib inline\n",
    "import matplotlib.pyplot as plt\n",
    "from matplotlib.legend_handler import HandlerLine2D\n",
    "\n",
    "sigs = [sigma(p) for p in np.linspace(0,0.99,51)]\n",
    "tots = [tot(s) for s in sigs]\n",
    "\n",
    "print(sigs)\n",
    "acc_plt = plt.plot(np.linspace(0,0.99,51), sigs, label=\"sigma\")\n",
    "tot_plt = plt.plot(np.linspace(0,0.99,51), tots, label=\"predicted examples\")\n",
    "plt.xlabel(\"(1 - p)\")\n",
    "\n",
    "plt.legend(loc=3)"
   ]
  },
  {
   "cell_type": "code",
   "execution_count": 89,
   "metadata": {
    "collapsed": false
   },
   "outputs": [
    {
     "name": "stderr",
     "output_type": "stream",
     "text": [
      "/home/mlp_02/virt3_mlp/lib/python3.4/site-packages/numpy/lib/function_base.py:1110: RuntimeWarning: Mean of empty slice.\n",
      "  avg = a.mean(axis)\n",
      "/home/mlp_02/virt3_mlp/lib/python3.4/site-packages/numpy/core/_methods.py:80: RuntimeWarning: invalid value encountered in double_scalars\n",
      "  ret = ret.dtype.type(ret / rcount)\n",
      "/home/mlp_02/virt3_mlp/lib/python3.4/site-packages/ipykernel/__main__.py:3: RuntimeWarning: invalid value encountered in greater\n",
      "  app.launch_new_instance()\n"
     ]
    },
    {
     "data": {
      "text/plain": [
       "0.7807284864315774"
      ]
     },
     "execution_count": 89,
     "metadata": {},
     "output_type": "execute_result"
    }
   ],
   "source": [
    "1 - tot(sigma(0.95))"
   ]
  },
  {
   "cell_type": "code",
   "execution_count": 123,
   "metadata": {
    "collapsed": true
   },
   "outputs": [],
   "source": [
    "def opt_sigma(xy, grid):\n",
    "    times = np.array( [ (1 - accuracy_score(Y_[P_ > x], Y_PRED_[P_ > x])) * xy + len(Y_[P_ <= x])/len(Y_PRED_)\\\n",
    "               for x in np.linspace(0,0.99,grid)] )\n",
    "    minn = times.min()\n",
    "    sig = np.linspace(0,0.99,grid)[ times.argmin() ]\n",
    "    return minn, sig"
   ]
  },
  {
   "cell_type": "code",
   "execution_count": 133,
   "metadata": {
    "collapsed": false
   },
   "outputs": [
    {
     "data": {
      "text/plain": [
       "(0.77818025701276405, 0.14999999999999999)"
      ]
     },
     "execution_count": 133,
     "metadata": {},
     "output_type": "execute_result"
    }
   ],
   "source": [
    "opt_sigma(2, 100)"
   ]
  },
  {
   "cell_type": "code",
   "execution_count": 134,
   "metadata": {
    "collapsed": false
   },
   "outputs": [],
   "source": [
    "%matplotlib inline\n",
    "import matplotlib.pyplot as plt\n",
    "from matplotlib.legend_handler import HandlerLine2D\n",
    "\n",
    "grid = 100\n",
    "sigs = [opt_sigma(xy, grid)[1] for xy in np.linspace(1,10,grid)]\n",
    "vals = [1 - opt_sigma(xy, grid)[0] for xy in np.linspace(1,10,grid)]"
   ]
  },
  {
   "cell_type": "code",
   "execution_count": 135,
   "metadata": {
    "collapsed": false
   },
   "outputs": [
    {
     "data": {
      "text/plain": [
       "<matplotlib.legend.Legend at 0x7fefdc5b1ba8>"
      ]
     },
     "execution_count": 135,
     "metadata": {},
     "output_type": "execute_result"
    },
    {
     "data": {
      "image/png": "[encoded data removed]",
      "text/plain": [
       "<matplotlib.figure.Figure at 0x7fefdc698518>"
      ]
     },
     "metadata": {},
     "output_type": "display_data"
    }
   ],
   "source": [
    "acc_plt = plt.plot(np.linspace(0,10,grid), sigs, label=\"sigma_opt\")\n",
    "time_plt = plt.plot(np.linspace(0,10,grid), vals, label=\"times_saving\")\n",
    "plt.xlabel(\"y/x\")\n",
    "\n",
    "plt.legend(loc=5)"
   ]
  },
  {
   "cell_type": "code",
   "execution_count": null,
   "metadata": {
    "collapsed": true
   },
   "outputs": [],
   "source": []
  }
 ],
 "metadata": {
  "kernelspec": {
   "display_name": "Python 3",
   "language": "python",
   "name": "python3"
  },
  "language_info": {
   "codemirror_mode": {
    "name": "ipython",
    "version": 3
   },
   "file_extension": ".py",
   "mimetype": "text/x-python",
   "name": "python",
   "nbconvert_exporter": "python",
   "pygments_lexer": "ipython3",
   "version": "3.4.3"
  }
 },
 "nbformat": 4,
 "nbformat_minor": 1
}
